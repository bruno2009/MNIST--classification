{
 "cells": [
  {
   "cell_type": "code",
   "execution_count": 2,
   "metadata": {
    "executionInfo": {
     "elapsed": 495,
     "status": "ok",
     "timestamp": 1714381595456,
     "user": {
      "displayName": "Bruno Soares de Castro",
      "userId": "11507589105817192721"
     },
     "user_tz": -60
    },
    "id": "wU67BWUzYvDo"
   },
   "outputs": [],
   "source": [
    "# !pip install lightning"
   ]
  },
  {
   "cell_type": "code",
   "execution_count": 3,
   "metadata": {
    "colab": {
     "base_uri": "https://localhost:8080/"
    },
    "executionInfo": {
     "elapsed": 21817,
     "status": "ok",
     "timestamp": 1714381620662,
     "user": {
      "displayName": "Bruno Soares de Castro",
      "userId": "11507589105817192721"
     },
     "user_tz": -60
    },
    "id": "Y8ODGCnVZq3e",
    "outputId": "de5bc160-66e6-414b-c84d-a91f5dc73c48"
   },
   "outputs": [
    {
     "name": "stdout",
     "output_type": "stream",
     "text": [
      "Mounted at /content/gdrive\n"
     ]
    }
   ],
   "source": [
    "from google.colab import drive\n",
    "drive.mount('/content/gdrive')"
   ]
  },
  {
   "cell_type": "code",
   "execution_count": 5,
   "metadata": {
    "colab": {
     "base_uri": "https://localhost:8080/"
    },
    "executionInfo": {
     "elapsed": 5,
     "status": "ok",
     "timestamp": 1714381652140,
     "user": {
      "displayName": "Bruno Soares de Castro",
      "userId": "11507589105817192721"
     },
     "user_tz": -60
    },
    "id": "fsLXk0-KZ04w",
    "outputId": "eb0691a2-0c76-4d04-fac9-a7eabd2efa4f"
   },
   "outputs": [
    {
     "name": "stdout",
     "output_type": "stream",
     "text": [
      "/content/gdrive/MyDrive/Colab Notebooks/ClassPreTreined/no_weights_no_argumation\n"
     ]
    }
   ],
   "source": [
    "# %cd /content/gdrive/MyDrive/Colab Notebooks\n",
    "# %mkdir ClassPreTreined\n",
    "\n",
    "# %cd /content/gdrive/MyDrive/Colab Notebooks/ClassPreTreined\n",
    "# %mkdir no_weights_no_argumation\n",
    "\n",
    "%cd /content/gdrive/MyDrive/Colab Notebooks/ClassPreTreined/no_weights_no_argumation"
   ]
  },
  {
   "cell_type": "code",
   "execution_count": 6,
   "metadata": {
    "colab": {
     "base_uri": "https://localhost:8080/"
    },
    "executionInfo": {
     "elapsed": 6983,
     "status": "ok",
     "timestamp": 1714381662018,
     "user": {
      "displayName": "Bruno Soares de Castro",
      "userId": "11507589105817192721"
     },
     "user_tz": -60
    },
    "id": "h3B2QwwiaPMa",
    "outputId": "6412c5b2-ebd1-479d-94ee-747ad70093ab"
   },
   "outputs": [
    {
     "name": "stderr",
     "output_type": "stream",
     "text": [
      "INFO: Seed set to 546\n",
      "INFO:lightning.fabric.utilities.seed:Seed set to 546\n"
     ]
    }
   ],
   "source": [
    "import os\n",
    "import numpy as np\n",
    "from numpy import random\n",
    "\n",
    "import matplotlib.pyplot as plt\n",
    "%matplotlib inline\n",
    "\n",
    "import torch\n",
    "import torchmetrics\n",
    "from torchvision import datasets, models\n",
    "from torchvision.transforms import v2\n",
    "from torchsummary import summary\n",
    "\n",
    "from torch.utils.data import DataLoader, SubsetRandomSampler\n",
    "\n",
    "import lightning.pytorch as pl\n",
    "from lightning.pytorch.loggers import TensorBoardLogger, CSVLogger\n",
    "from lightning.pytorch.callbacks import ModelCheckpoint\n",
    "from lightning.pytorch import Trainer, LightningModule\n",
    "\n",
    "RANDOM_SEED = 546\n",
    "\n",
    "pl.seed_everything(RANDOM_SEED)\n",
    "\n",
    "device = torch.device('cuda' if torch.cuda.is_available() else 'cpu')"
   ]
  },
  {
   "cell_type": "markdown",
   "metadata": {
    "id": "DYYWHys4aw2x"
   },
   "source": [
    "## DataSet"
   ]
  },
  {
   "cell_type": "code",
   "execution_count": 7,
   "metadata": {
    "colab": {
     "base_uri": "https://localhost:8080/"
    },
    "executionInfo": {
     "elapsed": 1377,
     "status": "ok",
     "timestamp": 1714381666015,
     "user": {
      "displayName": "Bruno Soares de Castro",
      "userId": "11507589105817192721"
     },
     "user_tz": -60
    },
    "id": "kBHxyGQ6aVmn",
    "outputId": "780c67ff-3c25-490c-ac4c-6467565127dd"
   },
   "outputs": [
    {
     "name": "stderr",
     "output_type": "stream",
     "text": [
      "INFO: Seed set to 546\n",
      "INFO:lightning.fabric.utilities.seed:Seed set to 546\n"
     ]
    }
   ],
   "source": [
    "pl.seed_everything(RANDOM_SEED)\n",
    "\n",
    "image_transforms = {\n",
    "    'train': v2.Compose([\n",
    "    v2.Lambda(lambda x: x.convert(\"RGB\")),\n",
    "    v2.Resize((128, 128)),\n",
    "    v2.ToImage(),\n",
    "    v2.ToDtype(torch.float32, scale=True), # transform.ToTensor()\n",
    "    v2.Normalize(mean=[0.5, 0.5, 0.5], std=[0.5, 0.5, 0.5])\n",
    "    ]),\n",
    "    'test': v2.Compose([\n",
    "    v2.Lambda(lambda x: x.convert(\"RGB\")),\n",
    "    v2.Resize((128, 128)),\n",
    "    v2.ToImage(),\n",
    "    v2.ToDtype(torch.float32, scale=True),\n",
    "    v2.Normalize(mean=[0.5, 0.5, 0.5], std=[0.5, 0.5, 0.5])\n",
    "    ])\n",
    "}"
   ]
  },
  {
   "cell_type": "code",
   "execution_count": 9,
   "metadata": {
    "colab": {
     "base_uri": "https://localhost:8080/"
    },
    "executionInfo": {
     "elapsed": 430,
     "status": "ok",
     "timestamp": 1714381678096,
     "user": {
      "displayName": "Bruno Soares de Castro",
      "userId": "11507589105817192721"
     },
     "user_tz": -60
    },
    "id": "UnQ5ZAa-bKy_",
    "outputId": "257a7275-d224-44df-fcb6-424251e65579"
   },
   "outputs": [
    {
     "name": "stderr",
     "output_type": "stream",
     "text": [
      "INFO: Seed set to 546\n",
      "INFO:lightning.fabric.utilities.seed:Seed set to 546\n"
     ]
    },
    {
     "name": "stdout",
     "output_type": "stream",
     "text": [
      "/content/gdrive/MyDrive/Colab Notebooks/ClassPreTreined/no_weights_no_argumation\n"
     ]
    }
   ],
   "source": [
    "pl.seed_everything(RANDOM_SEED)\n",
    "\n",
    "route = os.getcwd()\n",
    "print(route)\n",
    "\n",
    "train_dataset = datasets.MNIST(root=route,\n",
    "                                train=True,\n",
    "                                transform = image_transforms['train'],\n",
    "                                download=True)\n",
    "\n",
    "test_dataset = datasets.MNIST(root=route,\n",
    "                              train=False,\n",
    "                              transform = image_transforms['test'])"
   ]
  },
  {
   "cell_type": "code",
   "execution_count": 10,
   "metadata": {
    "colab": {
     "base_uri": "https://localhost:8080/"
    },
    "executionInfo": {
     "elapsed": 4,
     "status": "ok",
     "timestamp": 1714381681438,
     "user": {
      "displayName": "Bruno Soares de Castro",
      "userId": "11507589105817192721"
     },
     "user_tz": -60
    },
    "id": "yLguYFq2dvfI",
    "outputId": "43952cb8-e01f-404f-ac8a-d7bae225c5a0"
   },
   "outputs": [
    {
     "name": "stderr",
     "output_type": "stream",
     "text": [
      "INFO: Seed set to 546\n",
      "INFO:lightning.fabric.utilities.seed:Seed set to 546\n"
     ]
    },
    {
     "name": "stdout",
     "output_type": "stream",
     "text": [
      "Train size:  48000\n",
      "Valid size:  12000\n",
      "Test size:  1500\n"
     ]
    }
   ],
   "source": [
    "pl.seed_everything(RANDOM_SEED)\n",
    "\n",
    "VALIDATION_FRACTION = 0.2\n",
    "TEST_SAMPLE = 1500\n",
    "\n",
    "n_sample = train_dataset.__len__()\n",
    "n_sample_test = test_dataset.__len__()\n",
    "\n",
    "if VALIDATION_FRACTION is not None:\n",
    "  num = int(VALIDATION_FRACTION * n_sample)\n",
    "\n",
    "  train_indices = torch.arange(0, n_sample  - num)\n",
    "  valid_indices = torch.arange(n_sample  - num, n_sample )\n",
    "  test_indices = torch.arange(0, TEST_SAMPLE)\n",
    "\n",
    "  indices = torch.arange(0, n_sample)\n",
    "  shuffled_tensor = indices[torch.randperm(indices.size(0))]\n",
    "\n",
    "  indices_test = torch.arange(0, n_sample_test)\n",
    "  shuffled_tensor_test = indices_test[torch.randperm(indices_test.size(0))]\n",
    "\n",
    "  train_sampler = SubsetRandomSampler(shuffled_tensor[train_indices])\n",
    "  valid_sampler = SubsetRandomSampler(shuffled_tensor[valid_indices])\n",
    "  test_sampler = SubsetRandomSampler(shuffled_tensor_test[test_indices])\n",
    "\n",
    "  print('Train size: ', len(train_sampler))\n",
    "  print('Valid size: ', len(valid_sampler))\n",
    "  print('Test size: ', len(test_sampler))"
   ]
  },
  {
   "cell_type": "code",
   "execution_count": 11,
   "metadata": {
    "colab": {
     "base_uri": "https://localhost:8080/"
    },
    "executionInfo": {
     "elapsed": 601,
     "status": "ok",
     "timestamp": 1714381686048,
     "user": {
      "displayName": "Bruno Soares de Castro",
      "userId": "11507589105817192721"
     },
     "user_tz": -60
    },
    "id": "iSwkLHsad9Q_",
    "outputId": "b14f86e9-35da-4574-ace6-7e42037606d5"
   },
   "outputs": [
    {
     "name": "stderr",
     "output_type": "stream",
     "text": [
      "INFO: Seed set to 546\n",
      "INFO:lightning.fabric.utilities.seed:Seed set to 546\n"
     ]
    },
    {
     "name": "stdout",
     "output_type": "stream",
     "text": [
      "Size of Train DataLoader: 1500\n",
      "Size of Valid DataLoader: 375\n",
      "Size of Test DataLoader: 1500\n"
     ]
    }
   ],
   "source": [
    "pl.seed_everything(RANDOM_SEED)\n",
    "\n",
    "BATCH_SIZE = 32\n",
    "NUM_WORKERS = 8\n",
    "\n",
    "train_loader = DataLoader(dataset=train_dataset,\n",
    "                          batch_size= BATCH_SIZE,\n",
    "                          num_workers=NUM_WORKERS,\n",
    "                          drop_last=True,\n",
    "                          sampler=train_sampler)\n",
    "\n",
    "valid_loader = DataLoader(dataset=train_dataset,\n",
    "                          batch_size=BATCH_SIZE,\n",
    "                          num_workers=NUM_WORKERS,\n",
    "                          sampler=valid_sampler,\n",
    "                          shuffle=False)\n",
    "\n",
    "test_loader = DataLoader(dataset=test_dataset,\n",
    "                          batch_size=1,\n",
    "                          num_workers=NUM_WORKERS,\n",
    "                          sampler=test_sampler,\n",
    "                          shuffle=False)\n",
    "\n",
    "print(\"Size of Train DataLoader:\", len(train_loader))\n",
    "print(\"Size of Valid DataLoader:\", len(valid_loader))\n",
    "print(\"Size of Test DataLoader:\", len(test_loader))"
   ]
  },
  {
   "cell_type": "code",
   "execution_count": 13,
   "metadata": {
    "colab": {
     "base_uri": "https://localhost:8080/",
     "height": 243
    },
    "executionInfo": {
     "elapsed": 1339,
     "status": "ok",
     "timestamp": 1714381694732,
     "user": {
      "displayName": "Bruno Soares de Castro",
      "userId": "11507589105817192721"
     },
     "user_tz": -60
    },
    "id": "Y2CMzP-DeHfW",
    "outputId": "b5511788-c797-49a2-fd2e-88df8e5990ca"
   },
   "outputs": [
    {
     "name": "stderr",
     "output_type": "stream",
     "text": [
      "INFO: Seed set to 546\n",
      "INFO:lightning.fabric.utilities.seed:Seed set to 546\n"
     ]
    },
    {
     "name": "stdout",
     "output_type": "stream",
     "text": [
      "Image batch dimensions: torch.Size([32, 3, 128, 128])\n",
      "Image label dimensions: torch.Size([32])\n"
     ]
    },
    {
     "data": {
      "image/png": "[encoded data removed]",
      "text/plain": [
       "<Figure size 640x480 with 4 Axes>"
      ]
     },
     "metadata": {},
     "output_type": "display_data"
    }
   ],
   "source": [
    "# Checking the dataset\n",
    "pl.seed_everything(RANDOM_SEED)\n",
    "\n",
    "for batch in valid_loader:\n",
    "    images, labels = batch\n",
    "    # print(np.unique(images))\n",
    "    print('Image batch dimensions:', images.shape)\n",
    "    print('Image label dimensions:', labels.shape)\n",
    "    break\n",
    "\n",
    "fig, ax = plt.subplots(1, 4)\n",
    "\n",
    "for i in range(4):\n",
    "  img = v2.ToPILImage()(images[i])\n",
    "  ax[i].imshow(img)\n",
    "\n",
    "plt.tight_layout()\n",
    "\n"
   ]
  },
  {
   "cell_type": "code",
   "execution_count": 14,
   "metadata": {
    "colab": {
     "base_uri": "https://localhost:8080/",
     "height": 559
    },
    "executionInfo": {
     "elapsed": 1343,
     "status": "ok",
     "timestamp": 1714381699561,
     "user": {
      "displayName": "Bruno Soares de Castro",
      "userId": "11507589105817192721"
     },
     "user_tz": -60
    },
    "id": "4ELlFTu3YPdM",
    "outputId": "3d882d65-dfb2-4eb6-a5c1-916620df9e1d"
   },
   "outputs": [
    {
     "name": "stderr",
     "output_type": "stream",
     "text": [
      "INFO: Seed set to 546\n",
      "INFO:lightning.fabric.utilities.seed:Seed set to 546\n"
     ]
    },
    {
     "name": "stdout",
     "output_type": "stream",
     "text": [
      "Image batch dimensions: torch.Size([1, 3, 128, 128])\n",
      "Image label dimensions: torch.Size([1])\n"
     ]
    },
    {
     "data": {
      "image/png": "[encoded data removed]",
      "text/plain": [
       "<Figure size 640x480 with 1 Axes>"
      ]
     },
     "metadata": {},
     "output_type": "display_data"
    }
   ],
   "source": [
    "# Checking the dataset\n",
    "pl.seed_everything(RANDOM_SEED)\n",
    "\n",
    "for batch in test_loader:\n",
    "    images, labels = batch\n",
    "    # print(np.unique(images))\n",
    "    print('Image batch dimensions:', images.shape)\n",
    "    print('Image label dimensions:', labels.shape)\n",
    "    break\n",
    "\n",
    "img = v2.ToPILImage()(images[0])\n",
    "plt.imshow(img)\n",
    "plt.tight_layout()\n"
   ]
  },
  {
   "cell_type": "markdown",
   "metadata": {
    "id": "uvUWgi5slE3u"
   },
   "source": [
    "## Deep learning Models"
   ]
  },
  {
   "cell_type": "code",
   "execution_count": 16,
   "metadata": {
    "colab": {
     "base_uri": "https://localhost:8080/"
    },
    "executionInfo": {
     "elapsed": 974,
     "status": "ok",
     "timestamp": 1714381710367,
     "user": {
      "displayName": "Bruno Soares de Castro",
      "userId": "11507589105817192721"
     },
     "user_tz": -60
    },
    "id": "wav9xZallEdH",
    "outputId": "600f0581-7600-46d1-a10a-4520c3209a4f"
   },
   "outputs": [
    {
     "name": "stdout",
     "output_type": "stream",
     "text": [
      "----------------------------------------------------------------\n",
      "        Layer (type)               Output Shape         Param #\n",
      "================================================================\n",
      "            Conv2d-1           [-1, 32, 64, 64]             864\n",
      "       BatchNorm2d-2           [-1, 32, 64, 64]              64\n",
      "              ReLU-3           [-1, 32, 64, 64]               0\n",
      "            Conv2d-4           [-1, 48, 32, 32]           1,536\n",
      "       BatchNorm2d-5           [-1, 48, 32, 32]              96\n",
      "            Conv2d-6           [-1, 48, 64, 64]           1,536\n",
      "       BatchNorm2d-7           [-1, 48, 64, 64]              96\n",
      "              ReLU-8           [-1, 48, 64, 64]               0\n",
      "            Conv2d-9           [-1, 48, 32, 32]           3,456\n",
      "      BatchNorm2d-10           [-1, 48, 32, 32]              96\n",
      "             ReLU-11           [-1, 48, 32, 32]               0\n",
      "AdaptiveAvgPool2d-12             [-1, 48, 1, 1]               0\n",
      "           Conv2d-13              [-1, 8, 1, 1]             392\n",
      "             ReLU-14              [-1, 8, 1, 1]               0\n",
      "           Conv2d-15             [-1, 48, 1, 1]             432\n",
      "          Sigmoid-16             [-1, 48, 1, 1]               0\n",
      "SqueezeExcitation-17           [-1, 48, 32, 32]               0\n",
      "           Conv2d-18           [-1, 48, 32, 32]           2,304\n",
      "      BatchNorm2d-19           [-1, 48, 32, 32]              96\n",
      "             ReLU-20           [-1, 48, 32, 32]               0\n",
      "ResBottleneckBlock-21           [-1, 48, 32, 32]               0\n",
      "           Conv2d-22          [-1, 104, 16, 16]           4,992\n",
      "      BatchNorm2d-23          [-1, 104, 16, 16]             208\n",
      "           Conv2d-24          [-1, 104, 32, 32]           4,992\n",
      "      BatchNorm2d-25          [-1, 104, 32, 32]             208\n",
      "             ReLU-26          [-1, 104, 32, 32]               0\n",
      "           Conv2d-27          [-1, 104, 16, 16]           7,488\n",
      "      BatchNorm2d-28          [-1, 104, 16, 16]             208\n",
      "             ReLU-29          [-1, 104, 16, 16]               0\n",
      "AdaptiveAvgPool2d-30            [-1, 104, 1, 1]               0\n",
      "           Conv2d-31             [-1, 12, 1, 1]           1,260\n",
      "             ReLU-32             [-1, 12, 1, 1]               0\n",
      "           Conv2d-33            [-1, 104, 1, 1]           1,352\n",
      "          Sigmoid-34            [-1, 104, 1, 1]               0\n",
      "SqueezeExcitation-35          [-1, 104, 16, 16]               0\n",
      "           Conv2d-36          [-1, 104, 16, 16]          10,816\n",
      "      BatchNorm2d-37          [-1, 104, 16, 16]             208\n",
      "             ReLU-38          [-1, 104, 16, 16]               0\n",
      "ResBottleneckBlock-39          [-1, 104, 16, 16]               0\n",
      "           Conv2d-40          [-1, 104, 16, 16]          10,816\n",
      "      BatchNorm2d-41          [-1, 104, 16, 16]             208\n",
      "             ReLU-42          [-1, 104, 16, 16]               0\n",
      "           Conv2d-43          [-1, 104, 16, 16]           7,488\n",
      "      BatchNorm2d-44          [-1, 104, 16, 16]             208\n",
      "             ReLU-45          [-1, 104, 16, 16]               0\n",
      "AdaptiveAvgPool2d-46            [-1, 104, 1, 1]               0\n",
      "           Conv2d-47             [-1, 26, 1, 1]           2,730\n",
      "             ReLU-48             [-1, 26, 1, 1]               0\n",
      "           Conv2d-49            [-1, 104, 1, 1]           2,808\n",
      "          Sigmoid-50            [-1, 104, 1, 1]               0\n",
      "SqueezeExcitation-51          [-1, 104, 16, 16]               0\n",
      "           Conv2d-52          [-1, 104, 16, 16]          10,816\n",
      "      BatchNorm2d-53          [-1, 104, 16, 16]             208\n",
      "             ReLU-54          [-1, 104, 16, 16]               0\n",
      "ResBottleneckBlock-55          [-1, 104, 16, 16]               0\n",
      "           Conv2d-56          [-1, 104, 16, 16]          10,816\n",
      "      BatchNorm2d-57          [-1, 104, 16, 16]             208\n",
      "             ReLU-58          [-1, 104, 16, 16]               0\n",
      "           Conv2d-59          [-1, 104, 16, 16]           7,488\n",
      "      BatchNorm2d-60          [-1, 104, 16, 16]             208\n",
      "             ReLU-61          [-1, 104, 16, 16]               0\n",
      "AdaptiveAvgPool2d-62            [-1, 104, 1, 1]               0\n",
      "           Conv2d-63             [-1, 26, 1, 1]           2,730\n",
      "             ReLU-64             [-1, 26, 1, 1]               0\n",
      "           Conv2d-65            [-1, 104, 1, 1]           2,808\n",
      "          Sigmoid-66            [-1, 104, 1, 1]               0\n",
      "SqueezeExcitation-67          [-1, 104, 16, 16]               0\n",
      "           Conv2d-68          [-1, 104, 16, 16]          10,816\n",
      "      BatchNorm2d-69          [-1, 104, 16, 16]             208\n",
      "             ReLU-70          [-1, 104, 16, 16]               0\n",
      "ResBottleneckBlock-71          [-1, 104, 16, 16]               0\n",
      "           Conv2d-72            [-1, 208, 8, 8]          21,632\n",
      "      BatchNorm2d-73            [-1, 208, 8, 8]             416\n",
      "           Conv2d-74          [-1, 208, 16, 16]          21,632\n",
      "      BatchNorm2d-75          [-1, 208, 16, 16]             416\n",
      "             ReLU-76          [-1, 208, 16, 16]               0\n",
      "           Conv2d-77            [-1, 208, 8, 8]          14,976\n",
      "      BatchNorm2d-78            [-1, 208, 8, 8]             416\n",
      "             ReLU-79            [-1, 208, 8, 8]               0\n",
      "AdaptiveAvgPool2d-80            [-1, 208, 1, 1]               0\n",
      "           Conv2d-81             [-1, 26, 1, 1]           5,434\n",
      "             ReLU-82             [-1, 26, 1, 1]               0\n",
      "           Conv2d-83            [-1, 208, 1, 1]           5,616\n",
      "          Sigmoid-84            [-1, 208, 1, 1]               0\n",
      "SqueezeExcitation-85            [-1, 208, 8, 8]               0\n",
      "           Conv2d-86            [-1, 208, 8, 8]          43,264\n",
      "      BatchNorm2d-87            [-1, 208, 8, 8]             416\n",
      "             ReLU-88            [-1, 208, 8, 8]               0\n",
      "ResBottleneckBlock-89            [-1, 208, 8, 8]               0\n",
      "           Conv2d-90            [-1, 208, 8, 8]          43,264\n",
      "      BatchNorm2d-91            [-1, 208, 8, 8]             416\n",
      "             ReLU-92            [-1, 208, 8, 8]               0\n",
      "           Conv2d-93            [-1, 208, 8, 8]          14,976\n",
      "      BatchNorm2d-94            [-1, 208, 8, 8]             416\n",
      "             ReLU-95            [-1, 208, 8, 8]               0\n",
      "AdaptiveAvgPool2d-96            [-1, 208, 1, 1]               0\n",
      "           Conv2d-97             [-1, 52, 1, 1]          10,868\n",
      "             ReLU-98             [-1, 52, 1, 1]               0\n",
      "           Conv2d-99            [-1, 208, 1, 1]          11,024\n",
      "         Sigmoid-100            [-1, 208, 1, 1]               0\n",
      "SqueezeExcitation-101            [-1, 208, 8, 8]               0\n",
      "          Conv2d-102            [-1, 208, 8, 8]          43,264\n",
      "     BatchNorm2d-103            [-1, 208, 8, 8]             416\n",
      "            ReLU-104            [-1, 208, 8, 8]               0\n",
      "ResBottleneckBlock-105            [-1, 208, 8, 8]               0\n",
      "          Conv2d-106            [-1, 208, 8, 8]          43,264\n",
      "     BatchNorm2d-107            [-1, 208, 8, 8]             416\n",
      "            ReLU-108            [-1, 208, 8, 8]               0\n",
      "          Conv2d-109            [-1, 208, 8, 8]          14,976\n",
      "     BatchNorm2d-110            [-1, 208, 8, 8]             416\n",
      "            ReLU-111            [-1, 208, 8, 8]               0\n",
      "AdaptiveAvgPool2d-112            [-1, 208, 1, 1]               0\n",
      "          Conv2d-113             [-1, 52, 1, 1]          10,868\n",
      "            ReLU-114             [-1, 52, 1, 1]               0\n",
      "          Conv2d-115            [-1, 208, 1, 1]          11,024\n",
      "         Sigmoid-116            [-1, 208, 1, 1]               0\n",
      "SqueezeExcitation-117            [-1, 208, 8, 8]               0\n",
      "          Conv2d-118            [-1, 208, 8, 8]          43,264\n",
      "     BatchNorm2d-119            [-1, 208, 8, 8]             416\n",
      "            ReLU-120            [-1, 208, 8, 8]               0\n",
      "ResBottleneckBlock-121            [-1, 208, 8, 8]               0\n",
      "          Conv2d-122            [-1, 208, 8, 8]          43,264\n",
      "     BatchNorm2d-123            [-1, 208, 8, 8]             416\n",
      "            ReLU-124            [-1, 208, 8, 8]               0\n",
      "          Conv2d-125            [-1, 208, 8, 8]          14,976\n",
      "     BatchNorm2d-126            [-1, 208, 8, 8]             416\n",
      "            ReLU-127            [-1, 208, 8, 8]               0\n",
      "AdaptiveAvgPool2d-128            [-1, 208, 1, 1]               0\n",
      "          Conv2d-129             [-1, 52, 1, 1]          10,868\n",
      "            ReLU-130             [-1, 52, 1, 1]               0\n",
      "          Conv2d-131            [-1, 208, 1, 1]          11,024\n",
      "         Sigmoid-132            [-1, 208, 1, 1]               0\n",
      "SqueezeExcitation-133            [-1, 208, 8, 8]               0\n",
      "          Conv2d-134            [-1, 208, 8, 8]          43,264\n",
      "     BatchNorm2d-135            [-1, 208, 8, 8]             416\n",
      "            ReLU-136            [-1, 208, 8, 8]               0\n",
      "ResBottleneckBlock-137            [-1, 208, 8, 8]               0\n",
      "          Conv2d-138            [-1, 208, 8, 8]          43,264\n",
      "     BatchNorm2d-139            [-1, 208, 8, 8]             416\n",
      "            ReLU-140            [-1, 208, 8, 8]               0\n",
      "          Conv2d-141            [-1, 208, 8, 8]          14,976\n",
      "     BatchNorm2d-142            [-1, 208, 8, 8]             416\n",
      "            ReLU-143            [-1, 208, 8, 8]               0\n",
      "AdaptiveAvgPool2d-144            [-1, 208, 1, 1]               0\n",
      "          Conv2d-145             [-1, 52, 1, 1]          10,868\n",
      "            ReLU-146             [-1, 52, 1, 1]               0\n",
      "          Conv2d-147            [-1, 208, 1, 1]          11,024\n",
      "         Sigmoid-148            [-1, 208, 1, 1]               0\n",
      "SqueezeExcitation-149            [-1, 208, 8, 8]               0\n",
      "          Conv2d-150            [-1, 208, 8, 8]          43,264\n",
      "     BatchNorm2d-151            [-1, 208, 8, 8]             416\n",
      "            ReLU-152            [-1, 208, 8, 8]               0\n",
      "ResBottleneckBlock-153            [-1, 208, 8, 8]               0\n",
      "          Conv2d-154            [-1, 208, 8, 8]          43,264\n",
      "     BatchNorm2d-155            [-1, 208, 8, 8]             416\n",
      "            ReLU-156            [-1, 208, 8, 8]               0\n",
      "          Conv2d-157            [-1, 208, 8, 8]          14,976\n",
      "     BatchNorm2d-158            [-1, 208, 8, 8]             416\n",
      "            ReLU-159            [-1, 208, 8, 8]               0\n",
      "AdaptiveAvgPool2d-160            [-1, 208, 1, 1]               0\n",
      "          Conv2d-161             [-1, 52, 1, 1]          10,868\n",
      "            ReLU-162             [-1, 52, 1, 1]               0\n",
      "          Conv2d-163            [-1, 208, 1, 1]          11,024\n",
      "         Sigmoid-164            [-1, 208, 1, 1]               0\n",
      "SqueezeExcitation-165            [-1, 208, 8, 8]               0\n",
      "          Conv2d-166            [-1, 208, 8, 8]          43,264\n",
      "     BatchNorm2d-167            [-1, 208, 8, 8]             416\n",
      "            ReLU-168            [-1, 208, 8, 8]               0\n",
      "ResBottleneckBlock-169            [-1, 208, 8, 8]               0\n",
      "          Conv2d-170            [-1, 440, 4, 4]          91,520\n",
      "     BatchNorm2d-171            [-1, 440, 4, 4]             880\n",
      "          Conv2d-172            [-1, 440, 8, 8]          91,520\n",
      "     BatchNorm2d-173            [-1, 440, 8, 8]             880\n",
      "            ReLU-174            [-1, 440, 8, 8]               0\n",
      "          Conv2d-175            [-1, 440, 4, 4]          31,680\n",
      "     BatchNorm2d-176            [-1, 440, 4, 4]             880\n",
      "            ReLU-177            [-1, 440, 4, 4]               0\n",
      "AdaptiveAvgPool2d-178            [-1, 440, 1, 1]               0\n",
      "          Conv2d-179             [-1, 52, 1, 1]          22,932\n",
      "            ReLU-180             [-1, 52, 1, 1]               0\n",
      "          Conv2d-181            [-1, 440, 1, 1]          23,320\n",
      "         Sigmoid-182            [-1, 440, 1, 1]               0\n",
      "SqueezeExcitation-183            [-1, 440, 4, 4]               0\n",
      "          Conv2d-184            [-1, 440, 4, 4]         193,600\n",
      "     BatchNorm2d-185            [-1, 440, 4, 4]             880\n",
      "            ReLU-186            [-1, 440, 4, 4]               0\n",
      "ResBottleneckBlock-187            [-1, 440, 4, 4]               0\n",
      "          Conv2d-188            [-1, 440, 4, 4]         193,600\n",
      "     BatchNorm2d-189            [-1, 440, 4, 4]             880\n",
      "            ReLU-190            [-1, 440, 4, 4]               0\n",
      "          Conv2d-191            [-1, 440, 4, 4]          31,680\n",
      "     BatchNorm2d-192            [-1, 440, 4, 4]             880\n",
      "            ReLU-193            [-1, 440, 4, 4]               0\n",
      "AdaptiveAvgPool2d-194            [-1, 440, 1, 1]               0\n",
      "          Conv2d-195            [-1, 110, 1, 1]          48,510\n",
      "            ReLU-196            [-1, 110, 1, 1]               0\n",
      "          Conv2d-197            [-1, 440, 1, 1]          48,840\n",
      "         Sigmoid-198            [-1, 440, 1, 1]               0\n",
      "SqueezeExcitation-199            [-1, 440, 4, 4]               0\n",
      "          Conv2d-200            [-1, 440, 4, 4]         193,600\n",
      "     BatchNorm2d-201            [-1, 440, 4, 4]             880\n",
      "            ReLU-202            [-1, 440, 4, 4]               0\n",
      "ResBottleneckBlock-203            [-1, 440, 4, 4]               0\n",
      "          Conv2d-204            [-1, 440, 4, 4]         193,600\n",
      "     BatchNorm2d-205            [-1, 440, 4, 4]             880\n",
      "            ReLU-206            [-1, 440, 4, 4]               0\n",
      "          Conv2d-207            [-1, 440, 4, 4]          31,680\n",
      "     BatchNorm2d-208            [-1, 440, 4, 4]             880\n",
      "            ReLU-209            [-1, 440, 4, 4]               0\n",
      "AdaptiveAvgPool2d-210            [-1, 440, 1, 1]               0\n",
      "          Conv2d-211            [-1, 110, 1, 1]          48,510\n",
      "            ReLU-212            [-1, 110, 1, 1]               0\n",
      "          Conv2d-213            [-1, 440, 1, 1]          48,840\n",
      "         Sigmoid-214            [-1, 440, 1, 1]               0\n",
      "SqueezeExcitation-215            [-1, 440, 4, 4]               0\n",
      "          Conv2d-216            [-1, 440, 4, 4]         193,600\n",
      "     BatchNorm2d-217            [-1, 440, 4, 4]             880\n",
      "            ReLU-218            [-1, 440, 4, 4]               0\n",
      "ResBottleneckBlock-219            [-1, 440, 4, 4]               0\n",
      "          Conv2d-220            [-1, 440, 4, 4]         193,600\n",
      "     BatchNorm2d-221            [-1, 440, 4, 4]             880\n",
      "            ReLU-222            [-1, 440, 4, 4]               0\n",
      "          Conv2d-223            [-1, 440, 4, 4]          31,680\n",
      "     BatchNorm2d-224            [-1, 440, 4, 4]             880\n",
      "            ReLU-225            [-1, 440, 4, 4]               0\n",
      "AdaptiveAvgPool2d-226            [-1, 440, 1, 1]               0\n",
      "          Conv2d-227            [-1, 110, 1, 1]          48,510\n",
      "            ReLU-228            [-1, 110, 1, 1]               0\n",
      "          Conv2d-229            [-1, 440, 1, 1]          48,840\n",
      "         Sigmoid-230            [-1, 440, 1, 1]               0\n",
      "SqueezeExcitation-231            [-1, 440, 4, 4]               0\n",
      "          Conv2d-232            [-1, 440, 4, 4]         193,600\n",
      "     BatchNorm2d-233            [-1, 440, 4, 4]             880\n",
      "            ReLU-234            [-1, 440, 4, 4]               0\n",
      "ResBottleneckBlock-235            [-1, 440, 4, 4]               0\n",
      "          Conv2d-236            [-1, 440, 4, 4]         193,600\n",
      "     BatchNorm2d-237            [-1, 440, 4, 4]             880\n",
      "            ReLU-238            [-1, 440, 4, 4]               0\n",
      "          Conv2d-239            [-1, 440, 4, 4]          31,680\n",
      "     BatchNorm2d-240            [-1, 440, 4, 4]             880\n",
      "            ReLU-241            [-1, 440, 4, 4]               0\n",
      "AdaptiveAvgPool2d-242            [-1, 440, 1, 1]               0\n",
      "          Conv2d-243            [-1, 110, 1, 1]          48,510\n",
      "            ReLU-244            [-1, 110, 1, 1]               0\n",
      "          Conv2d-245            [-1, 440, 1, 1]          48,840\n",
      "         Sigmoid-246            [-1, 440, 1, 1]               0\n",
      "SqueezeExcitation-247            [-1, 440, 4, 4]               0\n",
      "          Conv2d-248            [-1, 440, 4, 4]         193,600\n",
      "     BatchNorm2d-249            [-1, 440, 4, 4]             880\n",
      "            ReLU-250            [-1, 440, 4, 4]               0\n",
      "ResBottleneckBlock-251            [-1, 440, 4, 4]               0\n",
      "          Conv2d-252            [-1, 440, 4, 4]         193,600\n",
      "     BatchNorm2d-253            [-1, 440, 4, 4]             880\n",
      "            ReLU-254            [-1, 440, 4, 4]               0\n",
      "          Conv2d-255            [-1, 440, 4, 4]          31,680\n",
      "     BatchNorm2d-256            [-1, 440, 4, 4]             880\n",
      "            ReLU-257            [-1, 440, 4, 4]               0\n",
      "AdaptiveAvgPool2d-258            [-1, 440, 1, 1]               0\n",
      "          Conv2d-259            [-1, 110, 1, 1]          48,510\n",
      "            ReLU-260            [-1, 110, 1, 1]               0\n",
      "          Conv2d-261            [-1, 440, 1, 1]          48,840\n",
      "         Sigmoid-262            [-1, 440, 1, 1]               0\n",
      "SqueezeExcitation-263            [-1, 440, 4, 4]               0\n",
      "          Conv2d-264            [-1, 440, 4, 4]         193,600\n",
      "     BatchNorm2d-265            [-1, 440, 4, 4]             880\n",
      "            ReLU-266            [-1, 440, 4, 4]               0\n",
      "ResBottleneckBlock-267            [-1, 440, 4, 4]               0\n",
      "AdaptiveAvgPool2d-268            [-1, 440, 1, 1]               0\n",
      "          Linear-269                 [-1, 1000]         441,000\n",
      "================================================================\n",
      "Total params: 4,344,144\n",
      "Trainable params: 4,344,144\n",
      "Non-trainable params: 0\n",
      "----------------------------------------------------------------\n",
      "Input size (MB): 0.19\n",
      "Forward/backward pass size (MB): 32.27\n",
      "Params size (MB): 16.57\n",
      "Estimated Total Size (MB): 49.03\n",
      "----------------------------------------------------------------\n"
     ]
    }
   ],
   "source": [
    "weights = models.RegNet_Y_400MF_Weights.DEFAULT\n",
    "model = models.regnet_y_400mf(weights=weights)\n",
    "input_size = (3, 128, 128)\n",
    "summary(model, input_size, device=\"cpu\")"
   ]
  },
  {
   "cell_type": "code",
   "execution_count": 17,
   "metadata": {
    "colab": {
     "base_uri": "https://localhost:8080/"
    },
    "executionInfo": {
     "elapsed": 8,
     "status": "ok",
     "timestamp": 1714381714005,
     "user": {
      "displayName": "Bruno Soares de Castro",
      "userId": "11507589105817192721"
     },
     "user_tz": -60
    },
    "id": "Vvam7gYY6S_p",
    "outputId": "96271bd5-56b0-456e-e529-232900b5ed9e"
   },
   "outputs": [
    {
     "name": "stdout",
     "output_type": "stream",
     "text": [
      "----------------------------------------------------------------\n",
      "        Layer (type)               Output Shape         Param #\n",
      "================================================================\n",
      "            Conv2d-1           [-1, 32, 64, 64]             864\n",
      "       BatchNorm2d-2           [-1, 32, 64, 64]              64\n",
      "              ReLU-3           [-1, 32, 64, 64]               0\n",
      "            Conv2d-4           [-1, 48, 32, 32]           1,536\n",
      "       BatchNorm2d-5           [-1, 48, 32, 32]              96\n",
      "            Conv2d-6           [-1, 48, 64, 64]           1,536\n",
      "       BatchNorm2d-7           [-1, 48, 64, 64]              96\n",
      "              ReLU-8           [-1, 48, 64, 64]               0\n",
      "            Conv2d-9           [-1, 48, 32, 32]           3,456\n",
      "      BatchNorm2d-10           [-1, 48, 32, 32]              96\n",
      "             ReLU-11           [-1, 48, 32, 32]               0\n",
      "AdaptiveAvgPool2d-12             [-1, 48, 1, 1]               0\n",
      "           Conv2d-13              [-1, 8, 1, 1]             392\n",
      "             ReLU-14              [-1, 8, 1, 1]               0\n",
      "           Conv2d-15             [-1, 48, 1, 1]             432\n",
      "          Sigmoid-16             [-1, 48, 1, 1]               0\n",
      "SqueezeExcitation-17           [-1, 48, 32, 32]               0\n",
      "           Conv2d-18           [-1, 48, 32, 32]           2,304\n",
      "      BatchNorm2d-19           [-1, 48, 32, 32]              96\n",
      "             ReLU-20           [-1, 48, 32, 32]               0\n",
      "ResBottleneckBlock-21           [-1, 48, 32, 32]               0\n",
      "           Conv2d-22          [-1, 104, 16, 16]           4,992\n",
      "      BatchNorm2d-23          [-1, 104, 16, 16]             208\n",
      "           Conv2d-24          [-1, 104, 32, 32]           4,992\n",
      "      BatchNorm2d-25          [-1, 104, 32, 32]             208\n",
      "             ReLU-26          [-1, 104, 32, 32]               0\n",
      "           Conv2d-27          [-1, 104, 16, 16]           7,488\n",
      "      BatchNorm2d-28          [-1, 104, 16, 16]             208\n",
      "             ReLU-29          [-1, 104, 16, 16]               0\n",
      "AdaptiveAvgPool2d-30            [-1, 104, 1, 1]               0\n",
      "           Conv2d-31             [-1, 12, 1, 1]           1,260\n",
      "             ReLU-32             [-1, 12, 1, 1]               0\n",
      "           Conv2d-33            [-1, 104, 1, 1]           1,352\n",
      "          Sigmoid-34            [-1, 104, 1, 1]               0\n",
      "SqueezeExcitation-35          [-1, 104, 16, 16]               0\n",
      "           Conv2d-36          [-1, 104, 16, 16]          10,816\n",
      "      BatchNorm2d-37          [-1, 104, 16, 16]             208\n",
      "             ReLU-38          [-1, 104, 16, 16]               0\n",
      "ResBottleneckBlock-39          [-1, 104, 16, 16]               0\n",
      "           Conv2d-40          [-1, 104, 16, 16]          10,816\n",
      "      BatchNorm2d-41          [-1, 104, 16, 16]             208\n",
      "             ReLU-42          [-1, 104, 16, 16]               0\n",
      "           Conv2d-43          [-1, 104, 16, 16]           7,488\n",
      "      BatchNorm2d-44          [-1, 104, 16, 16]             208\n",
      "             ReLU-45          [-1, 104, 16, 16]               0\n",
      "AdaptiveAvgPool2d-46            [-1, 104, 1, 1]               0\n",
      "           Conv2d-47             [-1, 26, 1, 1]           2,730\n",
      "             ReLU-48             [-1, 26, 1, 1]               0\n",
      "           Conv2d-49            [-1, 104, 1, 1]           2,808\n",
      "          Sigmoid-50            [-1, 104, 1, 1]               0\n",
      "SqueezeExcitation-51          [-1, 104, 16, 16]               0\n",
      "           Conv2d-52          [-1, 104, 16, 16]          10,816\n",
      "      BatchNorm2d-53          [-1, 104, 16, 16]             208\n",
      "             ReLU-54          [-1, 104, 16, 16]               0\n",
      "ResBottleneckBlock-55          [-1, 104, 16, 16]               0\n",
      "           Conv2d-56          [-1, 104, 16, 16]          10,816\n",
      "      BatchNorm2d-57          [-1, 104, 16, 16]             208\n",
      "             ReLU-58          [-1, 104, 16, 16]               0\n",
      "           Conv2d-59          [-1, 104, 16, 16]           7,488\n",
      "      BatchNorm2d-60          [-1, 104, 16, 16]             208\n",
      "             ReLU-61          [-1, 104, 16, 16]               0\n",
      "AdaptiveAvgPool2d-62            [-1, 104, 1, 1]               0\n",
      "           Conv2d-63             [-1, 26, 1, 1]           2,730\n",
      "             ReLU-64             [-1, 26, 1, 1]               0\n",
      "           Conv2d-65            [-1, 104, 1, 1]           2,808\n",
      "          Sigmoid-66            [-1, 104, 1, 1]               0\n",
      "SqueezeExcitation-67          [-1, 104, 16, 16]               0\n",
      "           Conv2d-68          [-1, 104, 16, 16]          10,816\n",
      "      BatchNorm2d-69          [-1, 104, 16, 16]             208\n",
      "             ReLU-70          [-1, 104, 16, 16]               0\n",
      "ResBottleneckBlock-71          [-1, 104, 16, 16]               0\n",
      "           Conv2d-72            [-1, 208, 8, 8]          21,632\n",
      "      BatchNorm2d-73            [-1, 208, 8, 8]             416\n",
      "           Conv2d-74          [-1, 208, 16, 16]          21,632\n",
      "      BatchNorm2d-75          [-1, 208, 16, 16]             416\n",
      "             ReLU-76          [-1, 208, 16, 16]               0\n",
      "           Conv2d-77            [-1, 208, 8, 8]          14,976\n",
      "      BatchNorm2d-78            [-1, 208, 8, 8]             416\n",
      "             ReLU-79            [-1, 208, 8, 8]               0\n",
      "AdaptiveAvgPool2d-80            [-1, 208, 1, 1]               0\n",
      "           Conv2d-81             [-1, 26, 1, 1]           5,434\n",
      "             ReLU-82             [-1, 26, 1, 1]               0\n",
      "           Conv2d-83            [-1, 208, 1, 1]           5,616\n",
      "          Sigmoid-84            [-1, 208, 1, 1]               0\n",
      "SqueezeExcitation-85            [-1, 208, 8, 8]               0\n",
      "           Conv2d-86            [-1, 208, 8, 8]          43,264\n",
      "      BatchNorm2d-87            [-1, 208, 8, 8]             416\n",
      "             ReLU-88            [-1, 208, 8, 8]               0\n",
      "ResBottleneckBlock-89            [-1, 208, 8, 8]               0\n",
      "           Conv2d-90            [-1, 208, 8, 8]          43,264\n",
      "      BatchNorm2d-91            [-1, 208, 8, 8]             416\n",
      "             ReLU-92            [-1, 208, 8, 8]               0\n",
      "           Conv2d-93            [-1, 208, 8, 8]          14,976\n",
      "      BatchNorm2d-94            [-1, 208, 8, 8]             416\n",
      "             ReLU-95            [-1, 208, 8, 8]               0\n",
      "AdaptiveAvgPool2d-96            [-1, 208, 1, 1]               0\n",
      "           Conv2d-97             [-1, 52, 1, 1]          10,868\n",
      "             ReLU-98             [-1, 52, 1, 1]               0\n",
      "           Conv2d-99            [-1, 208, 1, 1]          11,024\n",
      "         Sigmoid-100            [-1, 208, 1, 1]               0\n",
      "SqueezeExcitation-101            [-1, 208, 8, 8]               0\n",
      "          Conv2d-102            [-1, 208, 8, 8]          43,264\n",
      "     BatchNorm2d-103            [-1, 208, 8, 8]             416\n",
      "            ReLU-104            [-1, 208, 8, 8]               0\n",
      "ResBottleneckBlock-105            [-1, 208, 8, 8]               0\n",
      "          Conv2d-106            [-1, 208, 8, 8]          43,264\n",
      "     BatchNorm2d-107            [-1, 208, 8, 8]             416\n",
      "            ReLU-108            [-1, 208, 8, 8]               0\n",
      "          Conv2d-109            [-1, 208, 8, 8]          14,976\n",
      "     BatchNorm2d-110            [-1, 208, 8, 8]             416\n",
      "            ReLU-111            [-1, 208, 8, 8]               0\n",
      "AdaptiveAvgPool2d-112            [-1, 208, 1, 1]               0\n",
      "          Conv2d-113             [-1, 52, 1, 1]          10,868\n",
      "            ReLU-114             [-1, 52, 1, 1]               0\n",
      "          Conv2d-115            [-1, 208, 1, 1]          11,024\n",
      "         Sigmoid-116            [-1, 208, 1, 1]               0\n",
      "SqueezeExcitation-117            [-1, 208, 8, 8]               0\n",
      "          Conv2d-118            [-1, 208, 8, 8]          43,264\n",
      "     BatchNorm2d-119            [-1, 208, 8, 8]             416\n",
      "            ReLU-120            [-1, 208, 8, 8]               0\n",
      "ResBottleneckBlock-121            [-1, 208, 8, 8]               0\n",
      "          Conv2d-122            [-1, 208, 8, 8]          43,264\n",
      "     BatchNorm2d-123            [-1, 208, 8, 8]             416\n",
      "            ReLU-124            [-1, 208, 8, 8]               0\n",
      "          Conv2d-125            [-1, 208, 8, 8]          14,976\n",
      "     BatchNorm2d-126            [-1, 208, 8, 8]             416\n",
      "            ReLU-127            [-1, 208, 8, 8]               0\n",
      "AdaptiveAvgPool2d-128            [-1, 208, 1, 1]               0\n",
      "          Conv2d-129             [-1, 52, 1, 1]          10,868\n",
      "            ReLU-130             [-1, 52, 1, 1]               0\n",
      "          Conv2d-131            [-1, 208, 1, 1]          11,024\n",
      "         Sigmoid-132            [-1, 208, 1, 1]               0\n",
      "SqueezeExcitation-133            [-1, 208, 8, 8]               0\n",
      "          Conv2d-134            [-1, 208, 8, 8]          43,264\n",
      "     BatchNorm2d-135            [-1, 208, 8, 8]             416\n",
      "            ReLU-136            [-1, 208, 8, 8]               0\n",
      "ResBottleneckBlock-137            [-1, 208, 8, 8]               0\n",
      "          Conv2d-138            [-1, 208, 8, 8]          43,264\n",
      "     BatchNorm2d-139            [-1, 208, 8, 8]             416\n",
      "            ReLU-140            [-1, 208, 8, 8]               0\n",
      "          Conv2d-141            [-1, 208, 8, 8]          14,976\n",
      "     BatchNorm2d-142            [-1, 208, 8, 8]             416\n",
      "            ReLU-143            [-1, 208, 8, 8]               0\n",
      "AdaptiveAvgPool2d-144            [-1, 208, 1, 1]               0\n",
      "          Conv2d-145             [-1, 52, 1, 1]          10,868\n",
      "            ReLU-146             [-1, 52, 1, 1]               0\n",
      "          Conv2d-147            [-1, 208, 1, 1]          11,024\n",
      "         Sigmoid-148            [-1, 208, 1, 1]               0\n",
      "SqueezeExcitation-149            [-1, 208, 8, 8]               0\n",
      "          Conv2d-150            [-1, 208, 8, 8]          43,264\n",
      "     BatchNorm2d-151            [-1, 208, 8, 8]             416\n",
      "            ReLU-152            [-1, 208, 8, 8]               0\n",
      "ResBottleneckBlock-153            [-1, 208, 8, 8]               0\n",
      "          Conv2d-154            [-1, 208, 8, 8]          43,264\n",
      "     BatchNorm2d-155            [-1, 208, 8, 8]             416\n",
      "            ReLU-156            [-1, 208, 8, 8]               0\n",
      "          Conv2d-157            [-1, 208, 8, 8]          14,976\n",
      "     BatchNorm2d-158            [-1, 208, 8, 8]             416\n",
      "            ReLU-159            [-1, 208, 8, 8]               0\n",
      "AdaptiveAvgPool2d-160            [-1, 208, 1, 1]               0\n",
      "          Conv2d-161             [-1, 52, 1, 1]          10,868\n",
      "            ReLU-162             [-1, 52, 1, 1]               0\n",
      "          Conv2d-163            [-1, 208, 1, 1]          11,024\n",
      "         Sigmoid-164            [-1, 208, 1, 1]               0\n",
      "SqueezeExcitation-165            [-1, 208, 8, 8]               0\n",
      "          Conv2d-166            [-1, 208, 8, 8]          43,264\n",
      "     BatchNorm2d-167            [-1, 208, 8, 8]             416\n",
      "            ReLU-168            [-1, 208, 8, 8]               0\n",
      "ResBottleneckBlock-169            [-1, 208, 8, 8]               0\n",
      "          Conv2d-170            [-1, 440, 4, 4]          91,520\n",
      "     BatchNorm2d-171            [-1, 440, 4, 4]             880\n",
      "          Conv2d-172            [-1, 440, 8, 8]          91,520\n",
      "     BatchNorm2d-173            [-1, 440, 8, 8]             880\n",
      "            ReLU-174            [-1, 440, 8, 8]               0\n",
      "          Conv2d-175            [-1, 440, 4, 4]          31,680\n",
      "     BatchNorm2d-176            [-1, 440, 4, 4]             880\n",
      "            ReLU-177            [-1, 440, 4, 4]               0\n",
      "AdaptiveAvgPool2d-178            [-1, 440, 1, 1]               0\n",
      "          Conv2d-179             [-1, 52, 1, 1]          22,932\n",
      "            ReLU-180             [-1, 52, 1, 1]               0\n",
      "          Conv2d-181            [-1, 440, 1, 1]          23,320\n",
      "         Sigmoid-182            [-1, 440, 1, 1]               0\n",
      "SqueezeExcitation-183            [-1, 440, 4, 4]               0\n",
      "          Conv2d-184            [-1, 440, 4, 4]         193,600\n",
      "     BatchNorm2d-185            [-1, 440, 4, 4]             880\n",
      "            ReLU-186            [-1, 440, 4, 4]               0\n",
      "ResBottleneckBlock-187            [-1, 440, 4, 4]               0\n",
      "          Conv2d-188            [-1, 440, 4, 4]         193,600\n",
      "     BatchNorm2d-189            [-1, 440, 4, 4]             880\n",
      "            ReLU-190            [-1, 440, 4, 4]               0\n",
      "          Conv2d-191            [-1, 440, 4, 4]          31,680\n",
      "     BatchNorm2d-192            [-1, 440, 4, 4]             880\n",
      "            ReLU-193            [-1, 440, 4, 4]               0\n",
      "AdaptiveAvgPool2d-194            [-1, 440, 1, 1]               0\n",
      "          Conv2d-195            [-1, 110, 1, 1]          48,510\n",
      "            ReLU-196            [-1, 110, 1, 1]               0\n",
      "          Conv2d-197            [-1, 440, 1, 1]          48,840\n",
      "         Sigmoid-198            [-1, 440, 1, 1]               0\n",
      "SqueezeExcitation-199            [-1, 440, 4, 4]               0\n",
      "          Conv2d-200            [-1, 440, 4, 4]         193,600\n",
      "     BatchNorm2d-201            [-1, 440, 4, 4]             880\n",
      "            ReLU-202            [-1, 440, 4, 4]               0\n",
      "ResBottleneckBlock-203            [-1, 440, 4, 4]               0\n",
      "          Conv2d-204            [-1, 440, 4, 4]         193,600\n",
      "     BatchNorm2d-205            [-1, 440, 4, 4]             880\n",
      "            ReLU-206            [-1, 440, 4, 4]               0\n",
      "          Conv2d-207            [-1, 440, 4, 4]          31,680\n",
      "     BatchNorm2d-208            [-1, 440, 4, 4]             880\n",
      "            ReLU-209            [-1, 440, 4, 4]               0\n",
      "AdaptiveAvgPool2d-210            [-1, 440, 1, 1]               0\n",
      "          Conv2d-211            [-1, 110, 1, 1]          48,510\n",
      "            ReLU-212            [-1, 110, 1, 1]               0\n",
      "          Conv2d-213            [-1, 440, 1, 1]          48,840\n",
      "         Sigmoid-214            [-1, 440, 1, 1]               0\n",
      "SqueezeExcitation-215            [-1, 440, 4, 4]               0\n",
      "          Conv2d-216            [-1, 440, 4, 4]         193,600\n",
      "     BatchNorm2d-217            [-1, 440, 4, 4]             880\n",
      "            ReLU-218            [-1, 440, 4, 4]               0\n",
      "ResBottleneckBlock-219            [-1, 440, 4, 4]               0\n",
      "          Conv2d-220            [-1, 440, 4, 4]         193,600\n",
      "     BatchNorm2d-221            [-1, 440, 4, 4]             880\n",
      "            ReLU-222            [-1, 440, 4, 4]               0\n",
      "          Conv2d-223            [-1, 440, 4, 4]          31,680\n",
      "     BatchNorm2d-224            [-1, 440, 4, 4]             880\n",
      "            ReLU-225            [-1, 440, 4, 4]               0\n",
      "AdaptiveAvgPool2d-226            [-1, 440, 1, 1]               0\n",
      "          Conv2d-227            [-1, 110, 1, 1]          48,510\n",
      "            ReLU-228            [-1, 110, 1, 1]               0\n",
      "          Conv2d-229            [-1, 440, 1, 1]          48,840\n",
      "         Sigmoid-230            [-1, 440, 1, 1]               0\n",
      "SqueezeExcitation-231            [-1, 440, 4, 4]               0\n",
      "          Conv2d-232            [-1, 440, 4, 4]         193,600\n",
      "     BatchNorm2d-233            [-1, 440, 4, 4]             880\n",
      "            ReLU-234            [-1, 440, 4, 4]               0\n",
      "ResBottleneckBlock-235            [-1, 440, 4, 4]               0\n",
      "          Conv2d-236            [-1, 440, 4, 4]         193,600\n",
      "     BatchNorm2d-237            [-1, 440, 4, 4]             880\n",
      "            ReLU-238            [-1, 440, 4, 4]               0\n",
      "          Conv2d-239            [-1, 440, 4, 4]          31,680\n",
      "     BatchNorm2d-240            [-1, 440, 4, 4]             880\n",
      "            ReLU-241            [-1, 440, 4, 4]               0\n",
      "AdaptiveAvgPool2d-242            [-1, 440, 1, 1]               0\n",
      "          Conv2d-243            [-1, 110, 1, 1]          48,510\n",
      "            ReLU-244            [-1, 110, 1, 1]               0\n",
      "          Conv2d-245            [-1, 440, 1, 1]          48,840\n",
      "         Sigmoid-246            [-1, 440, 1, 1]               0\n",
      "SqueezeExcitation-247            [-1, 440, 4, 4]               0\n",
      "          Conv2d-248            [-1, 440, 4, 4]         193,600\n",
      "     BatchNorm2d-249            [-1, 440, 4, 4]             880\n",
      "            ReLU-250            [-1, 440, 4, 4]               0\n",
      "ResBottleneckBlock-251            [-1, 440, 4, 4]               0\n",
      "          Conv2d-252            [-1, 440, 4, 4]         193,600\n",
      "     BatchNorm2d-253            [-1, 440, 4, 4]             880\n",
      "            ReLU-254            [-1, 440, 4, 4]               0\n",
      "          Conv2d-255            [-1, 440, 4, 4]          31,680\n",
      "     BatchNorm2d-256            [-1, 440, 4, 4]             880\n",
      "            ReLU-257            [-1, 440, 4, 4]               0\n",
      "AdaptiveAvgPool2d-258            [-1, 440, 1, 1]               0\n",
      "          Conv2d-259            [-1, 110, 1, 1]          48,510\n",
      "            ReLU-260            [-1, 110, 1, 1]               0\n",
      "          Conv2d-261            [-1, 440, 1, 1]          48,840\n",
      "         Sigmoid-262            [-1, 440, 1, 1]               0\n",
      "SqueezeExcitation-263            [-1, 440, 4, 4]               0\n",
      "          Conv2d-264            [-1, 440, 4, 4]         193,600\n",
      "     BatchNorm2d-265            [-1, 440, 4, 4]             880\n",
      "            ReLU-266            [-1, 440, 4, 4]               0\n",
      "ResBottleneckBlock-267            [-1, 440, 4, 4]               0\n",
      "AdaptiveAvgPool2d-268            [-1, 440, 1, 1]               0\n",
      "          Linear-269                   [-1, 10]           4,410\n",
      "================================================================\n",
      "Total params: 3,907,554\n",
      "Trainable params: 3,907,554\n",
      "Non-trainable params: 0\n",
      "----------------------------------------------------------------\n",
      "Input size (MB): 0.19\n",
      "Forward/backward pass size (MB): 32.26\n",
      "Params size (MB): 14.91\n",
      "Estimated Total Size (MB): 47.35\n",
      "----------------------------------------------------------------\n"
     ]
    }
   ],
   "source": [
    "for index, (name, param) in enumerate(model.named_parameters()):\n",
    "    param.requires_grad = True\n",
    "\n",
    "NUM_CLASSES = 10\n",
    "model.fc = torch.nn.Linear(model.fc.in_features, NUM_CLASSES)\n",
    "\n",
    "summary(model, input_size, device=\"cpu\")"
   ]
  },
  {
   "cell_type": "code",
   "execution_count": 18,
   "metadata": {
    "colab": {
     "base_uri": "https://localhost:8080/"
    },
    "executionInfo": {
     "elapsed": 1029,
     "status": "ok",
     "timestamp": 1714381719867,
     "user": {
      "displayName": "Bruno Soares de Castro",
      "userId": "11507589105817192721"
     },
     "user_tz": -60
    },
    "id": "b6vioXkhp5Rt",
    "outputId": "22a826af-a27f-467e-923d-a2d9ef30e9a2"
   },
   "outputs": [
    {
     "name": "stderr",
     "output_type": "stream",
     "text": [
      "INFO: Seed set to 546\n",
      "INFO:lightning.fabric.utilities.seed:Seed set to 546\n"
     ]
    }
   ],
   "source": [
    "pl.seed_everything(RANDOM_SEED)\n",
    "\n",
    "class LightningModel(pl.LightningModule):\n",
    "    def __init__(self, model, optimizer_name, optimizer_hparams):\n",
    "        \"\"\"LightningModel.\n",
    "        Args:\n",
    "            model: Name of the model/CNN to run. Used for creating the model\n",
    "            optimizer_name: Name of the optimizer to use. Currently supported: Adam, SGD\n",
    "            optimizer_hparams: Hyperparameters for the optimizer, as dictionary. This includes learning rate, weight decay, etc.\n",
    "         \"\"\"\n",
    "        super().__init__()\n",
    "\n",
    "        self.model = model\n",
    "        self.save_hyperparameters(ignore=['model'])\n",
    "\n",
    "        # Set up attributes for computing the accuracy\n",
    "        self.train_acc = torchmetrics.Accuracy(task='multiclass', num_classes=NUM_CLASSES)\n",
    "        self.valid_acc = torchmetrics.Accuracy(task='multiclass', num_classes=NUM_CLASSES)\n",
    "        self.test_acc = torchmetrics.Accuracy(task='multiclass', num_classes=NUM_CLASSES)\n",
    "\n",
    "    # Defining the forward method is only necessary\n",
    "    # if you want to use a Trainer's .predict() method (optional)\n",
    "    def forward(self, x):\n",
    "        return self.model(x)\n",
    "\n",
    "    # A common forward step to compute the loss and labels\n",
    "    # this is used for training, validation, and testing below\n",
    "    def _shared_step(self, batch):\n",
    "        features, true_labels = batch\n",
    "        logits = self(features)\n",
    "        loss = torch.nn.functional.cross_entropy(logits, true_labels)\n",
    "        predicted_labels = torch.argmax(logits, dim=1)\n",
    "\n",
    "        return loss, true_labels, predicted_labels\n",
    "\n",
    "    def training_step(self, batch, batch_idx):\n",
    "        loss, true_labels, predicted_labels = self._shared_step(batch)\n",
    "        self.train_acc.update(predicted_labels, true_labels)\n",
    "        metrics = {'train_loss': loss, 'train_acc': self.train_acc}\n",
    "        self.log_dict(metrics, on_epoch=True, on_step=False, prog_bar=True)\n",
    "        return loss  # this is passed to the optimzer for training\n",
    "\n",
    "    def validation_step(self, batch, batch_idx):\n",
    "        loss, true_labels, predicted_labels = self._shared_step(batch)\n",
    "        self.valid_acc(predicted_labels, true_labels)\n",
    "        metrics = {'valid_loss': loss, 'valid_acc': self.valid_acc}\n",
    "        self.log_dict(metrics, on_epoch=True, on_step=False, prog_bar=True)\n",
    "\n",
    "    def test_step(self, batch, batch_idx):\n",
    "        loss, true_labels, predicted_labels = self._shared_step(batch)\n",
    "        self.test_acc(predicted_labels, true_labels)\n",
    "        metrics = {'test_loss': loss, 'test_acc': self.test_acc}\n",
    "        self.log_dict(metrics, on_epoch=True, on_step=False, prog_bar=True)\n",
    "\n",
    "    def configure_optimizers(self):\n",
    "      # We will support Adam or SGD as optimizers.\n",
    "      if self.hparams.optimizer_name == \"Adam\":\n",
    "          optimizer = torch.optim.AdamW(self.parameters(), **self.hparams.optimizer_hparams)\n",
    "      elif self.hparams.optimizer_name == \"SGD\":\n",
    "          optimizer = torch.optim.SGD(self.parameters(), **self.hparams.optimizer_hparams)\n",
    "      else:\n",
    "          assert False, f'Unknown optimizer: \"{self.hparams.optimizer_name}\"'\n",
    "\n",
    "      # scheduler = torch.optim.swa_utils.SWALR(optimizer, anneal_strategy=\"cos\", anneal_epochs=5, swa_lr=0.002)\n",
    "      scheduler = torch.optim.lr_scheduler.ReduceLROnPlateau(optimizer, factor=0.1, patience=5)\n",
    "      return {\"optimizer\": optimizer, \"lr_scheduler\": scheduler, \"monitor\": \"valid_loss\"}"
   ]
  },
  {
   "cell_type": "code",
   "execution_count": 19,
   "metadata": {
    "colab": {
     "base_uri": "https://localhost:8080/"
    },
    "executionInfo": {
     "elapsed": 4,
     "status": "ok",
     "timestamp": 1714381725803,
     "user": {
      "displayName": "Bruno Soares de Castro",
      "userId": "11507589105817192721"
     },
     "user_tz": -60
    },
    "id": "PqlI7ZIKrs3j",
    "outputId": "2d9c91a5-cc1d-4aa5-b6be-836305c2603e"
   },
   "outputs": [
    {
     "name": "stderr",
     "output_type": "stream",
     "text": [
      "INFO: Seed set to 546\n",
      "INFO:lightning.fabric.utilities.seed:Seed set to 546\n"
     ]
    }
   ],
   "source": [
    "pl.seed_everything(RANDOM_SEED)\n",
    "\n",
    "optimizer_name = \"Adam\"\n",
    "optimizer_hparams = {\"lr\": 0.00003, \"betas\": (0.9, 0.999), \"eps\": 1e-08, \"weight_decay\": 0.01, \"amsgrad\": False}\n",
    "\n",
    "model_light = LightningModel(model, optimizer_name, optimizer_hparams)\n",
    "\n",
    "arch = 'regnet_y_400m'\n",
    "\n",
    "cbs = ModelCheckpoint(dirpath = f'./checkpoints_{arch}',\n",
    "                                   filename = arch,\n",
    "                                   verbose = True,\n",
    "                                   monitor = 'valid_loss',\n",
    "                                   mode = 'min')\n",
    "\n",
    "logger_csv = CSVLogger(save_dir=\"logs/\", name=\"my-model\")"
   ]
  },
  {
   "cell_type": "code",
   "execution_count": 31,
   "metadata": {
    "colab": {
     "base_uri": "https://localhost:8080/"
    },
    "executionInfo": {
     "elapsed": 369,
     "status": "ok",
     "timestamp": 1714383506749,
     "user": {
      "displayName": "Bruno Soares de Castro",
      "userId": "11507589105817192721"
     },
     "user_tz": -60
    },
    "id": "tlrYVSXbsr6R",
    "outputId": "a1b75f39-67bb-4148-da9f-85a248d65841"
   },
   "outputs": [
    {
     "name": "stderr",
     "output_type": "stream",
     "text": [
      "INFO: Seed set to 546\n",
      "INFO:lightning.fabric.utilities.seed:Seed set to 546\n",
      "INFO: GPU available: True (cuda), used: True\n",
      "INFO:lightning.pytorch.utilities.rank_zero:GPU available: True (cuda), used: True\n",
      "INFO: TPU available: False, using: 0 TPU cores\n",
      "INFO:lightning.pytorch.utilities.rank_zero:TPU available: False, using: 0 TPU cores\n",
      "INFO: IPU available: False, using: 0 IPUs\n",
      "INFO:lightning.pytorch.utilities.rank_zero:IPU available: False, using: 0 IPUs\n",
      "INFO: HPU available: False, using: 0 HPUs\n",
      "INFO:lightning.pytorch.utilities.rank_zero:HPU available: False, using: 0 HPUs\n",
      "INFO: `Trainer(limit_val_batches=1)` was configured so 1 batch will be used.\n",
      "INFO:lightning.pytorch.utilities.rank_zero:`Trainer(limit_val_batches=1)` was configured so 1 batch will be used.\n"
     ]
    }
   ],
   "source": [
    "pl.seed_everything(RANDOM_SEED)\n",
    "\n",
    "PERCENT_VALID_EXAMPLES = 1\n",
    "EPOCHS = 20\n",
    "LOG_EVERY_N_STEPS = 1\n",
    "\n",
    "trainer = pl.Trainer(\n",
    "    limit_val_batches = PERCENT_VALID_EXAMPLES,\n",
    "    max_epochs = EPOCHS,\n",
    "    logger=logger_csv,\n",
    "    callbacks = cbs,\n",
    "    log_every_n_steps=LOG_EVERY_N_STEPS,\n",
    "    accelerator=\"auto\",  # Uses GPUs or TPUs if available\n",
    "    devices=\"auto\",  # Uses all available GPUs/TPUs if applicable\n",
    "\n",
    ")\n",
    "\n",
    "# trainer.fit(model_light, train_dataloaders = train_loader, val_dataloaders=valid_loader)"
   ]
  },
  {
   "cell_type": "code",
   "execution_count": 21,
   "metadata": {
    "colab": {
     "base_uri": "https://localhost:8080/",
     "height": 104,
     "referenced_widgets": [
      "95bf4999318f46b6bef6ffe0f7f1d8d6",
      "78e6d794eae7432390bf22ed28130b30",
      "03083878a8be425f8345b5d84f4e8751",
      "e749beb4c20e4f62881a79d586082fde",
      "883a98cac3634e5eaca4f5382ee242b6",
      "5b237517745644558a79eccebc465977",
      "829ae8a4062b4eca8a39d3a58c9b1faf",
      "67565c7963d44baa832a5b8c06aaf548",
      "7ae206931bc045e08fe7663f843dcfab",
      "fa006f19b78c49f68f092baf8bde0090",
      "edc05715eab2484bba0dd04a717d505d"
     ]
    },
    "executionInfo": {
     "elapsed": 23920,
     "status": "ok",
     "timestamp": 1714383358879,
     "user": {
      "displayName": "Bruno Soares de Castro",
      "userId": "11507589105817192721"
     },
     "user_tz": -60
    },
    "id": "bTzKf6t4bYyz",
    "outputId": "16063266-2ec8-4129-cee9-91f6226f0c3c"
   },
   "outputs": [
    {
     "name": "stderr",
     "output_type": "stream",
     "text": [
      "INFO: LOCAL_RANK: 0 - CUDA_VISIBLE_DEVICES: [0]\n",
      "INFO:lightning.pytorch.accelerators.cuda:LOCAL_RANK: 0 - CUDA_VISIBLE_DEVICES: [0]\n"
     ]
    },
    {
     "data": {
      "application/vnd.jupyter.widget-view+json": {
       "model_id": "95bf4999318f46b6bef6ffe0f7f1d8d6",
       "version_major": 2,
       "version_minor": 0
      },
      "text/plain": [
       "Testing: |          | 0/? [00:00<?, ?it/s]"
      ]
     },
     "metadata": {},
     "output_type": "display_data"
    },
    {
     "name": "stdout",
     "output_type": "stream",
     "text": [
      "[{'test_loss': 0.018439507111907005, 'test_acc': 0.996666669845581}]\n"
     ]
    }
   ],
   "source": [
    "# run test dataset\n",
    "test_metrics = trainer.test(model_light, dataloaders=test_loader, verbose=False)\n",
    "print(test_metrics)"
   ]
  },
  {
   "cell_type": "markdown",
   "metadata": {
    "id": "RHvCItUZS6Lg"
   },
   "source": [
    "## Load the model from the checkpoint"
   ]
  },
  {
   "cell_type": "code",
   "execution_count": 22,
   "metadata": {
    "colab": {
     "base_uri": "https://localhost:8080/"
    },
    "executionInfo": {
     "elapsed": 361,
     "status": "ok",
     "timestamp": 1714383370066,
     "user": {
      "displayName": "Bruno Soares de Castro",
      "userId": "11507589105817192721"
     },
     "user_tz": -60
    },
    "id": "W_GVNH_nnEFJ",
    "outputId": "0bbbaa02-f751-49eb-e300-6216b2992d4f"
   },
   "outputs": [
    {
     "name": "stderr",
     "output_type": "stream",
     "text": [
      "INFO: Seed set to 546\n",
      "INFO:lightning.fabric.utilities.seed:Seed set to 546\n"
     ]
    },
    {
     "data": {
      "text/plain": [
       "<All keys matched successfully>"
      ]
     },
     "execution_count": 22,
     "metadata": {},
     "output_type": "execute_result"
    }
   ],
   "source": [
    "# If you are working in GPU, please, you do not run: device = torch.device('cpu')\n",
    "device = torch.device('cpu')\n",
    "checkpoint_file = '/content/gdrive/MyDrive/Colab Notebooks/ClassPreTreined/no_weights_no_argumation/checkpoints_regnet_y_400m/regnet_y_400m.ckpt'\n",
    "\n",
    "pl.seed_everything(RANDOM_SEED)\n",
    "\n",
    "optimizer_name = \"Adam\"\n",
    "optimizer_hparams = {\"lr\": 0.00003, \"betas\": (0.9, 0.999), \"eps\": 1e-08, \"weight_decay\": 0.01, \"amsgrad\": False}\n",
    "\n",
    "model_light = LightningModel(model, optimizer_name, optimizer_hparams)\n",
    "\n",
    "checkpoint = torch.load(checkpoint_file, map_location=device)\n",
    "model_light.load_state_dict(checkpoint['state_dict'])"
   ]
  },
  {
   "cell_type": "code",
   "execution_count": 23,
   "metadata": {
    "colab": {
     "base_uri": "https://localhost:8080/",
     "height": 899
    },
    "executionInfo": {
     "elapsed": 1942,
     "status": "ok",
     "timestamp": 1714383374421,
     "user": {
      "displayName": "Bruno Soares de Castro",
      "userId": "11507589105817192721"
     },
     "user_tz": -60
    },
    "id": "S5wz2SU7L2CU",
    "outputId": "76f4b34d-aedb-4b3c-96c4-7e87751a2135"
   },
   "outputs": [
    {
     "data": {
      "text/plain": [
       "<Axes: xlabel='Epoch', ylabel='ACC'>"
      ]
     },
     "execution_count": 23,
     "metadata": {},
     "output_type": "execute_result"
    },
    {
     "data": {
      "image/png": "[encoded data removed]",
      "text/plain": [
       "<Figure size 640x480 with 1 Axes>"
      ]
     },
     "metadata": {},
     "output_type": "display_data"
    },
    {
     "data": {
      "image/png": "[encoded data removed]",
      "text/plain": [
       "<Figure size 640x480 with 1 Axes>"
      ]
     },
     "metadata": {},
     "output_type": "display_data"
    }
   ],
   "source": [
    "import pandas as pd\n",
    "\n",
    "def printdf(df):\n",
    "  return display(pd.DataFrame(df))\n",
    "\n",
    "path = '/content/gdrive/MyDrive/Colab Notebooks/ClassPreTreined/no_weights_no_argumation/logs/my-model/version_0'\n",
    "metrics = pd.read_csv(f\"{path}/metrics.csv\")\n",
    "metrics\n",
    "\n",
    "aggreg_metrics = []\n",
    "agg_col = \"epoch\"\n",
    "for i, dfg in metrics.groupby(agg_col):\n",
    "    agg = dict(dfg.mean())\n",
    "    agg[agg_col] = i\n",
    "    aggreg_metrics.append(agg)\n",
    "\n",
    "df_metrics = pd.DataFrame(aggreg_metrics)\n",
    "\n",
    "df_metrics[[\"train_loss\", \"valid_loss\"]].plot(grid=True, legend=True, xlabel='Epoch', ylabel='Loss')\n",
    "df_metrics[[\"train_acc\", \"valid_acc\"]].plot(grid=True, legend=True, xlabel='Epoch', ylabel='ACC')"
   ]
  },
  {
   "cell_type": "markdown",
   "metadata": {
    "id": "RIGc90uwTDE3"
   },
   "source": [
    "## This cell must be run if it is the first time.\n",
    "\n",
    "### The results can called from the predict folder."
   ]
  },
  {
   "cell_type": "code",
   "execution_count": 24,
   "metadata": {
    "colab": {
     "base_uri": "https://localhost:8080/"
    },
    "executionInfo": {
     "elapsed": 32728,
     "status": "ok",
     "timestamp": 1714383421500,
     "user": {
      "displayName": "Bruno Soares de Castro",
      "userId": "11507589105817192721"
     },
     "user_tz": -60
    },
    "id": "6I0_Ic66S3Bs",
    "outputId": "eface2b9-588b-4dff-9976-2c2298026537"
   },
   "outputs": [
    {
     "name": "stderr",
     "output_type": "stream",
     "text": [
      "INFO: Seed set to 546\n",
      "INFO:lightning.fabric.utilities.seed:Seed set to 546\n",
      "/usr/lib/python3.10/multiprocessing/popen_fork.py:66: RuntimeWarning: os.fork() was called. os.fork() is incompatible with multithreaded code, and JAX is multithreaded, so this will likely lead to a deadlock.\n",
      "  self.pid = os.fork()\n"
     ]
    }
   ],
   "source": [
    "pl.seed_everything(RANDOM_SEED)\n",
    "\n",
    "target_list = []\n",
    "predict_list = []\n",
    "prob_predict_list = []\n",
    "\n",
    "for idx, batch in enumerate(test_loader):\n",
    "    images, targets = batch\n",
    "    with torch.no_grad():\n",
    "      model.eval()\n",
    "      logits = model(images)\n",
    "\n",
    "    prob_predict = logits.sigmoid()\n",
    "\n",
    "    pr_masks = torch.argmax(logits, 1).unsqueeze(1)\n",
    "\n",
    "    target = targets[0].cpu().numpy().astype(int)\n",
    "    target_predict = pr_masks[0][0].cpu().numpy().astype(int)\n",
    "\n",
    "    target_list.append(target)\n",
    "    predict_list.append(target_predict)\n",
    "    prob_predict_list.append(prob_predict)\n",
    "    # if idx == 3:\n",
    "    #   break\n",
    "\n",
    "target_ = np.vstack(target_list)\n",
    "predict_ = np.vstack(predict_list)\n",
    "prob_predict_ = np.vstack(prob_predict_list)"
   ]
  },
  {
   "cell_type": "markdown",
   "metadata": {
    "id": "Vc0YivJ5V5Bf"
   },
   "source": [
    "## It will call the results saved from the previous cell in folder"
   ]
  },
  {
   "cell_type": "code",
   "execution_count": 27,
   "metadata": {
    "colab": {
     "base_uri": "https://localhost:8080/"
    },
    "executionInfo": {
     "elapsed": 783,
     "status": "ok",
     "timestamp": 1714383474608,
     "user": {
      "displayName": "Bruno Soares de Castro",
      "userId": "11507589105817192721"
     },
     "user_tz": -60
    },
    "id": "nIDJlxAHVglU",
    "outputId": "cdeda149-1eb8-49d8-e29d-6df8b9c55cc6"
   },
   "outputs": [
    {
     "name": "stdout",
     "output_type": "stream",
     "text": [
      "(1500, 1)\n",
      "(1500, 1)\n",
      "(1500, 10)\n"
     ]
    }
   ],
   "source": [
    "# %mkdir predict\n",
    "\n",
    "path = '/content/gdrive/MyDrive/Colab Notebooks/ClassPreTreined/no_weights_no_argumation/predict'\n",
    "\n",
    "# np.save(f'{path}/target.npy', target_)\n",
    "# np.save(f'{path}/predict.npy', predict_)\n",
    "# np.save(f'{path}/prob_predict.npy', prob_predict_)\n",
    "\n",
    "target = np.load(f'{path}/target.npy')\n",
    "predict = np.load(f'{path}/predict.npy')\n",
    "prob_predict = np.load(f'{path}/prob_predict.npy')\n",
    "\n",
    "print(target.shape)\n",
    "print(predict.shape)\n",
    "print(prob_predict.shape)"
   ]
  },
  {
   "cell_type": "code",
   "execution_count": 28,
   "metadata": {
    "colab": {
     "base_uri": "https://localhost:8080/",
     "height": 381
    },
    "executionInfo": {
     "elapsed": 1742,
     "status": "ok",
     "timestamp": 1714383479476,
     "user": {
      "displayName": "Bruno Soares de Castro",
      "userId": "11507589105817192721"
     },
     "user_tz": -60
    },
    "id": "54Lj2Zb6WUsM",
    "outputId": "7c4b4756-89c7-4e30-a9b4-ced37aa6bf7d"
   },
   "outputs": [
    {
     "name": "stdout",
     "output_type": "stream",
     "text": [
      "Confusion Matrix:\n"
     ]
    },
    {
     "data": {
      "application/vnd.google.colaboratory.intrinsic+json": {
       "summary": "{\n  \"name\": \"printdf(conf_matrix)\",\n  \"rows\": 10,\n  \"fields\": [\n    {\n      \"column\": 0,\n      \"properties\": {\n        \"dtype\": \"number\",\n        \"std\": 44,\n        \"min\": 0,\n        \"max\": 140,\n        \"num_unique_values\": 3,\n        \"samples\": [\n          140,\n          0,\n          1\n        ],\n        \"semantic_type\": \"\",\n        \"description\": \"\"\n      }\n    },\n    {\n      \"column\": 1,\n      \"properties\": {\n        \"dtype\": \"number\",\n        \"std\": 58,\n        \"min\": 0,\n        \"max\": 185,\n        \"num_unique_values\": 3,\n        \"samples\": [\n          0,\n          185,\n          1\n        ],\n        \"semantic_type\": \"\",\n        \"description\": \"\"\n      }\n    },\n    {\n      \"column\": 2,\n      \"properties\": {\n        \"dtype\": \"number\",\n        \"std\": 48,\n        \"min\": 0,\n        \"max\": 154,\n        \"num_unique_values\": 2,\n        \"samples\": [\n          154,\n          0\n        ],\n        \"semantic_type\": \"\",\n        \"description\": \"\"\n      }\n    },\n    {\n      \"column\": 3,\n      \"properties\": {\n        \"dtype\": \"number\",\n        \"std\": 50,\n        \"min\": 0,\n        \"max\": 159,\n        \"num_unique_values\": 2,\n        \"samples\": [\n          159,\n          0\n        ],\n        \"semantic_type\": \"\",\n        \"description\": \"\"\n      }\n    },\n    {\n      \"column\": 4,\n      \"properties\": {\n        \"dtype\": \"number\",\n        \"std\": 47,\n        \"min\": 0,\n        \"max\": 151,\n        \"num_unique_values\": 3,\n        \"samples\": [\n          0,\n          151\n        ],\n        \"semantic_type\": \"\",\n        \"description\": \"\"\n      }\n    },\n    {\n      \"column\": 5,\n      \"properties\": {\n        \"dtype\": \"number\",\n        \"std\": 40,\n        \"min\": 0,\n        \"max\": 129,\n        \"num_unique_values\": 3,\n        \"samples\": [\n          0,\n          1\n        ],\n        \"semantic_type\": \"\",\n        \"description\": \"\"\n      }\n    },\n    {\n      \"column\": 6,\n      \"properties\": {\n        \"dtype\": \"number\",\n        \"std\": 45,\n        \"min\": 0,\n        \"max\": 145,\n        \"num_unique_values\": 3,\n        \"samples\": [\n          0,\n          1\n        ],\n        \"semantic_type\": \"\",\n        \"description\": \"\"\n      }\n    },\n    {\n      \"column\": 7,\n      \"properties\": {\n        \"dtype\": \"number\",\n        \"std\": 54,\n        \"min\": 0,\n        \"max\": 171,\n        \"num_unique_values\": 3,\n        \"samples\": [\n          0,\n          171\n        ],\n        \"semantic_type\": \"\",\n        \"description\": \"\"\n      }\n    },\n    {\n      \"column\": 8,\n      \"properties\": {\n        \"dtype\": \"number\",\n        \"std\": 40,\n        \"min\": 0,\n        \"max\": 129,\n        \"num_unique_values\": 2,\n        \"samples\": [\n          129,\n          0\n        ],\n        \"semantic_type\": \"\",\n        \"description\": \"\"\n      }\n    },\n    {\n      \"column\": 9,\n      \"properties\": {\n        \"dtype\": \"number\",\n        \"std\": 40,\n        \"min\": 0,\n        \"max\": 127,\n        \"num_unique_values\": 3,\n        \"samples\": [\n          0,\n          1\n        ],\n        \"semantic_type\": \"\",\n        \"description\": \"\"\n      }\n    }\n  ]\n}",
       "type": "dataframe"
      },
      "text/html": [
       "\n",
       "  <div id=\"df-6000bdc6-dc77-4a55-baf9-11b63d8dae7a\" class=\"colab-df-container\">\n",
       "    <div>\n",
       "<style scoped>\n",
       "    .dataframe tbody tr th:only-of-type {\n",
       "        vertical-align: middle;\n",
       "    }\n",
       "\n",
       "    .dataframe tbody tr th {\n",
       "        vertical-align: top;\n",
       "    }\n",
       "\n",
       "    .dataframe thead th {\n",
       "        text-align: right;\n",
       "    }\n",
       "</style>\n",
       "<table border=\"1\" class=\"dataframe\">\n",
       "  <thead>\n",
       "    <tr style=\"text-align: right;\">\n",
       "      <th></th>\n",
       "      <th>0</th>\n",
       "      <th>1</th>\n",
       "      <th>2</th>\n",
       "      <th>3</th>\n",
       "      <th>4</th>\n",
       "      <th>5</th>\n",
       "      <th>6</th>\n",
       "      <th>7</th>\n",
       "      <th>8</th>\n",
       "      <th>9</th>\n",
       "    </tr>\n",
       "  </thead>\n",
       "  <tbody>\n",
       "    <tr>\n",
       "      <th>0</th>\n",
       "      <td>140</td>\n",
       "      <td>0</td>\n",
       "      <td>0</td>\n",
       "      <td>0</td>\n",
       "      <td>0</td>\n",
       "      <td>0</td>\n",
       "      <td>0</td>\n",
       "      <td>0</td>\n",
       "      <td>0</td>\n",
       "      <td>0</td>\n",
       "    </tr>\n",
       "    <tr>\n",
       "      <th>1</th>\n",
       "      <td>0</td>\n",
       "      <td>185</td>\n",
       "      <td>0</td>\n",
       "      <td>0</td>\n",
       "      <td>0</td>\n",
       "      <td>0</td>\n",
       "      <td>1</td>\n",
       "      <td>0</td>\n",
       "      <td>0</td>\n",
       "      <td>0</td>\n",
       "    </tr>\n",
       "    <tr>\n",
       "      <th>2</th>\n",
       "      <td>0</td>\n",
       "      <td>0</td>\n",
       "      <td>154</td>\n",
       "      <td>0</td>\n",
       "      <td>0</td>\n",
       "      <td>0</td>\n",
       "      <td>0</td>\n",
       "      <td>0</td>\n",
       "      <td>0</td>\n",
       "      <td>0</td>\n",
       "    </tr>\n",
       "    <tr>\n",
       "      <th>3</th>\n",
       "      <td>0</td>\n",
       "      <td>0</td>\n",
       "      <td>0</td>\n",
       "      <td>159</td>\n",
       "      <td>0</td>\n",
       "      <td>1</td>\n",
       "      <td>0</td>\n",
       "      <td>0</td>\n",
       "      <td>0</td>\n",
       "      <td>0</td>\n",
       "    </tr>\n",
       "    <tr>\n",
       "      <th>4</th>\n",
       "      <td>0</td>\n",
       "      <td>0</td>\n",
       "      <td>0</td>\n",
       "      <td>0</td>\n",
       "      <td>151</td>\n",
       "      <td>0</td>\n",
       "      <td>0</td>\n",
       "      <td>0</td>\n",
       "      <td>0</td>\n",
       "      <td>1</td>\n",
       "    </tr>\n",
       "    <tr>\n",
       "      <th>5</th>\n",
       "      <td>0</td>\n",
       "      <td>0</td>\n",
       "      <td>0</td>\n",
       "      <td>0</td>\n",
       "      <td>0</td>\n",
       "      <td>129</td>\n",
       "      <td>0</td>\n",
       "      <td>0</td>\n",
       "      <td>0</td>\n",
       "      <td>0</td>\n",
       "    </tr>\n",
       "    <tr>\n",
       "      <th>6</th>\n",
       "      <td>0</td>\n",
       "      <td>1</td>\n",
       "      <td>0</td>\n",
       "      <td>0</td>\n",
       "      <td>0</td>\n",
       "      <td>0</td>\n",
       "      <td>145</td>\n",
       "      <td>0</td>\n",
       "      <td>0</td>\n",
       "      <td>0</td>\n",
       "    </tr>\n",
       "    <tr>\n",
       "      <th>7</th>\n",
       "      <td>0</td>\n",
       "      <td>0</td>\n",
       "      <td>0</td>\n",
       "      <td>0</td>\n",
       "      <td>0</td>\n",
       "      <td>0</td>\n",
       "      <td>0</td>\n",
       "      <td>171</td>\n",
       "      <td>0</td>\n",
       "      <td>1</td>\n",
       "    </tr>\n",
       "    <tr>\n",
       "      <th>8</th>\n",
       "      <td>0</td>\n",
       "      <td>0</td>\n",
       "      <td>0</td>\n",
       "      <td>0</td>\n",
       "      <td>0</td>\n",
       "      <td>0</td>\n",
       "      <td>0</td>\n",
       "      <td>1</td>\n",
       "      <td>129</td>\n",
       "      <td>0</td>\n",
       "    </tr>\n",
       "    <tr>\n",
       "      <th>9</th>\n",
       "      <td>1</td>\n",
       "      <td>0</td>\n",
       "      <td>0</td>\n",
       "      <td>0</td>\n",
       "      <td>2</td>\n",
       "      <td>1</td>\n",
       "      <td>0</td>\n",
       "      <td>0</td>\n",
       "      <td>0</td>\n",
       "      <td>127</td>\n",
       "    </tr>\n",
       "  </tbody>\n",
       "</table>\n",
       "</div>\n",
       "    <div class=\"colab-df-buttons\">\n",
       "\n",
       "  <div class=\"colab-df-container\">\n",
       "    <button class=\"colab-df-convert\" onclick=\"convertToInteractive('df-6000bdc6-dc77-4a55-baf9-11b63d8dae7a')\"\n",
       "            title=\"Convert this dataframe to an interactive table.\"\n",
       "            style=\"display:none;\">\n",
       "\n",
       "  <svg xmlns=\"http://www.w3.org/2000/svg\" height=\"24px\" viewBox=\"0 -960 960 960\">\n",
       "    <path d=\"M120-120v-720h720v720H120Zm60-500h600v-160H180v160Zm220 220h160v-160H400v160Zm0 220h160v-160H400v160ZM180-400h160v-160H180v160Zm440 0h160v-160H620v160ZM180-180h160v-160H180v160Zm440 0h160v-160H620v160Z\"/>\n",
       "  </svg>\n",
       "    </button>\n",
       "\n",
       "  <style>\n",
       "    .colab-df-container {\n",
       "      display:flex;\n",
       "      gap: 12px;\n",
       "    }\n",
       "\n",
       "    .colab-df-convert {\n",
       "      background-color: #E8F0FE;\n",
       "      border: none;\n",
       "      border-radius: 50%;\n",
       "      cursor: pointer;\n",
       "      display: none;\n",
       "      fill: #1967D2;\n",
       "      height: 32px;\n",
       "      padding: 0 0 0 0;\n",
       "      width: 32px;\n",
       "    }\n",
       "\n",
       "    .colab-df-convert:hover {\n",
       "      background-color: #E2EBFA;\n",
       "      box-shadow: 0px 1px 2px rgba(60, 64, 67, 0.3), 0px 1px 3px 1px rgba(60, 64, 67, 0.15);\n",
       "      fill: #174EA6;\n",
       "    }\n",
       "\n",
       "    .colab-df-buttons div {\n",
       "      margin-bottom: 4px;\n",
       "    }\n",
       "\n",
       "    [theme=dark] .colab-df-convert {\n",
       "      background-color: #3B4455;\n",
       "      fill: #D2E3FC;\n",
       "    }\n",
       "\n",
       "    [theme=dark] .colab-df-convert:hover {\n",
       "      background-color: #434B5C;\n",
       "      box-shadow: 0px 1px 3px 1px rgba(0, 0, 0, 0.15);\n",
       "      filter: drop-shadow(0px 1px 2px rgba(0, 0, 0, 0.3));\n",
       "      fill: #FFFFFF;\n",
       "    }\n",
       "  </style>\n",
       "\n",
       "    <script>\n",
       "      const buttonEl =\n",
       "        document.querySelector('#df-6000bdc6-dc77-4a55-baf9-11b63d8dae7a button.colab-df-convert');\n",
       "      buttonEl.style.display =\n",
       "        google.colab.kernel.accessAllowed ? 'block' : 'none';\n",
       "\n",
       "      async function convertToInteractive(key) {\n",
       "        const element = document.querySelector('#df-6000bdc6-dc77-4a55-baf9-11b63d8dae7a');\n",
       "        const dataTable =\n",
       "          await google.colab.kernel.invokeFunction('convertToInteractive',\n",
       "                                                    [key], {});\n",
       "        if (!dataTable) return;\n",
       "\n",
       "        const docLinkHtml = 'Like what you see? Visit the ' +\n",
       "          '<a target=\"_blank\" href=https://colab.research.google.com/notebooks/data_table.ipynb>data table notebook</a>'\n",
       "          + ' to learn more about interactive tables.';\n",
       "        element.innerHTML = '';\n",
       "        dataTable['output_type'] = 'display_data';\n",
       "        await google.colab.output.renderOutput(dataTable, element);\n",
       "        const docLink = document.createElement('div');\n",
       "        docLink.innerHTML = docLinkHtml;\n",
       "        element.appendChild(docLink);\n",
       "      }\n",
       "    </script>\n",
       "  </div>\n",
       "\n",
       "\n",
       "<div id=\"df-063491ca-aa7c-4891-b9f9-e19516778c57\">\n",
       "  <button class=\"colab-df-quickchart\" onclick=\"quickchart('df-063491ca-aa7c-4891-b9f9-e19516778c57')\"\n",
       "            title=\"Suggest charts\"\n",
       "            style=\"display:none;\">\n",
       "\n",
       "<svg xmlns=\"http://www.w3.org/2000/svg\" height=\"24px\"viewBox=\"0 0 24 24\"\n",
       "     width=\"24px\">\n",
       "    <g>\n",
       "        <path d=\"M19 3H5c-1.1 0-2 .9-2 2v14c0 1.1.9 2 2 2h14c1.1 0 2-.9 2-2V5c0-1.1-.9-2-2-2zM9 17H7v-7h2v7zm4 0h-2V7h2v10zm4 0h-2v-4h2v4z\"/>\n",
       "    </g>\n",
       "</svg>\n",
       "  </button>\n",
       "\n",
       "<style>\n",
       "  .colab-df-quickchart {\n",
       "      --bg-color: #E8F0FE;\n",
       "      --fill-color: #1967D2;\n",
       "      --hover-bg-color: #E2EBFA;\n",
       "      --hover-fill-color: #174EA6;\n",
       "      --disabled-fill-color: #AAA;\n",
       "      --disabled-bg-color: #DDD;\n",
       "  }\n",
       "\n",
       "  [theme=dark] .colab-df-quickchart {\n",
       "      --bg-color: #3B4455;\n",
       "      --fill-color: #D2E3FC;\n",
       "      --hover-bg-color: #434B5C;\n",
       "      --hover-fill-color: #FFFFFF;\n",
       "      --disabled-bg-color: #3B4455;\n",
       "      --disabled-fill-color: #666;\n",
       "  }\n",
       "\n",
       "  .colab-df-quickchart {\n",
       "    background-color: var(--bg-color);\n",
       "    border: none;\n",
       "    border-radius: 50%;\n",
       "    cursor: pointer;\n",
       "    display: none;\n",
       "    fill: var(--fill-color);\n",
       "    height: 32px;\n",
       "    padding: 0;\n",
       "    width: 32px;\n",
       "  }\n",
       "\n",
       "  .colab-df-quickchart:hover {\n",
       "    background-color: var(--hover-bg-color);\n",
       "    box-shadow: 0 1px 2px rgba(60, 64, 67, 0.3), 0 1px 3px 1px rgba(60, 64, 67, 0.15);\n",
       "    fill: var(--button-hover-fill-color);\n",
       "  }\n",
       "\n",
       "  .colab-df-quickchart-complete:disabled,\n",
       "  .colab-df-quickchart-complete:disabled:hover {\n",
       "    background-color: var(--disabled-bg-color);\n",
       "    fill: var(--disabled-fill-color);\n",
       "    box-shadow: none;\n",
       "  }\n",
       "\n",
       "  .colab-df-spinner {\n",
       "    border: 2px solid var(--fill-color);\n",
       "    border-color: transparent;\n",
       "    border-bottom-color: var(--fill-color);\n",
       "    animation:\n",
       "      spin 1s steps(1) infinite;\n",
       "  }\n",
       "\n",
       "  @keyframes spin {\n",
       "    0% {\n",
       "      border-color: transparent;\n",
       "      border-bottom-color: var(--fill-color);\n",
       "      border-left-color: var(--fill-color);\n",
       "    }\n",
       "    20% {\n",
       "      border-color: transparent;\n",
       "      border-left-color: var(--fill-color);\n",
       "      border-top-color: var(--fill-color);\n",
       "    }\n",
       "    30% {\n",
       "      border-color: transparent;\n",
       "      border-left-color: var(--fill-color);\n",
       "      border-top-color: var(--fill-color);\n",
       "      border-right-color: var(--fill-color);\n",
       "    }\n",
       "    40% {\n",
       "      border-color: transparent;\n",
       "      border-right-color: var(--fill-color);\n",
       "      border-top-color: var(--fill-color);\n",
       "    }\n",
       "    60% {\n",
       "      border-color: transparent;\n",
       "      border-right-color: var(--fill-color);\n",
       "    }\n",
       "    80% {\n",
       "      border-color: transparent;\n",
       "      border-right-color: var(--fill-color);\n",
       "      border-bottom-color: var(--fill-color);\n",
       "    }\n",
       "    90% {\n",
       "      border-color: transparent;\n",
       "      border-bottom-color: var(--fill-color);\n",
       "    }\n",
       "  }\n",
       "</style>\n",
       "\n",
       "  <script>\n",
       "    async function quickchart(key) {\n",
       "      const quickchartButtonEl =\n",
       "        document.querySelector('#' + key + ' button');\n",
       "      quickchartButtonEl.disabled = true;  // To prevent multiple clicks.\n",
       "      quickchartButtonEl.classList.add('colab-df-spinner');\n",
       "      try {\n",
       "        const charts = await google.colab.kernel.invokeFunction(\n",
       "            'suggestCharts', [key], {});\n",
       "      } catch (error) {\n",
       "        console.error('Error during call to suggestCharts:', error);\n",
       "      }\n",
       "      quickchartButtonEl.classList.remove('colab-df-spinner');\n",
       "      quickchartButtonEl.classList.add('colab-df-quickchart-complete');\n",
       "    }\n",
       "    (() => {\n",
       "      let quickchartButtonEl =\n",
       "        document.querySelector('#df-063491ca-aa7c-4891-b9f9-e19516778c57 button');\n",
       "      quickchartButtonEl.style.display =\n",
       "        google.colab.kernel.accessAllowed ? 'block' : 'none';\n",
       "    })();\n",
       "  </script>\n",
       "</div>\n",
       "    </div>\n",
       "  </div>\n"
      ],
      "text/plain": [
       "     0    1    2    3    4    5    6    7    8    9\n",
       "0  140    0    0    0    0    0    0    0    0    0\n",
       "1    0  185    0    0    0    0    1    0    0    0\n",
       "2    0    0  154    0    0    0    0    0    0    0\n",
       "3    0    0    0  159    0    1    0    0    0    0\n",
       "4    0    0    0    0  151    0    0    0    0    1\n",
       "5    0    0    0    0    0  129    0    0    0    0\n",
       "6    0    1    0    0    0    0  145    0    0    0\n",
       "7    0    0    0    0    0    0    0  171    0    1\n",
       "8    0    0    0    0    0    0    0    1  129    0\n",
       "9    1    0    0    0    2    1    0    0    0  127"
      ]
     },
     "metadata": {},
     "output_type": "display_data"
    }
   ],
   "source": [
    "from sklearn.metrics import confusion_matrix\n",
    "\n",
    "# Assuming target_flatten and target_pred_flatten are your actual and predicted labels respectively\n",
    "conf_matrix = confusion_matrix(target.flatten(), predict.flatten())\n",
    "\n",
    "print(\"Confusion Matrix:\")\n",
    "printdf(conf_matrix)"
   ]
  },
  {
   "cell_type": "code",
   "execution_count": 29,
   "metadata": {
    "colab": {
     "base_uri": "https://localhost:8080/"
    },
    "executionInfo": {
     "elapsed": 593,
     "status": "ok",
     "timestamp": 1714383485461,
     "user": {
      "displayName": "Bruno Soares de Castro",
      "userId": "11507589105817192721"
     },
     "user_tz": -60
    },
    "id": "a3S91Qp4WelE",
    "outputId": "2d1061d3-8fc5-49ac-b484-6ef57298d2af"
   },
   "outputs": [
    {
     "name": "stdout",
     "output_type": "stream",
     "text": [
      "              precision    recall  f1-score   support\n",
      "\n",
      "           0       0.99      1.00      1.00       140\n",
      "           1       0.99      0.99      0.99       186\n",
      "           2       1.00      1.00      1.00       154\n",
      "           3       1.00      0.99      1.00       160\n",
      "           4       0.99      0.99      0.99       152\n",
      "           5       0.98      1.00      0.99       129\n",
      "           6       0.99      0.99      0.99       146\n",
      "           7       0.99      0.99      0.99       172\n",
      "           8       1.00      0.99      1.00       130\n",
      "           9       0.98      0.97      0.98       131\n",
      "\n",
      "    accuracy                           0.99      1500\n",
      "   macro avg       0.99      0.99      0.99      1500\n",
      "weighted avg       0.99      0.99      0.99      1500\n",
      "\n"
     ]
    }
   ],
   "source": [
    "from sklearn.metrics import classification_report\n",
    "\n",
    "target_names = ['0', '1', '2', '3', '4', '5', '6', '7', '8', '9']\n",
    "print(classification_report(target, predict, target_names=target_names))"
   ]
  },
  {
   "cell_type": "code",
   "execution_count": 30,
   "metadata": {
    "colab": {
     "base_uri": "https://localhost:8080/",
     "height": 930
    },
    "executionInfo": {
     "elapsed": 993,
     "status": "ok",
     "timestamp": 1714383491599,
     "user": {
      "displayName": "Bruno Soares de Castro",
      "userId": "11507589105817192721"
     },
     "user_tz": -60
    },
    "id": "41r3RZ9sc8m1",
    "outputId": "06b337e9-853f-4f27-895b-0495b10f1562"
   },
   "outputs": [
    {
     "name": "stdout",
     "output_type": "stream",
     "text": [
      "(1500, 10)\n",
      "(1500, 10)\n"
     ]
    },
    {
     "data": {
      "image/png": "[encoded data removed]",
      "text/plain": [
       "<Figure size 1000x1000 with 1 Axes>"
      ]
     },
     "metadata": {},
     "output_type": "display_data"
    }
   ],
   "source": [
    "from itertools import cycle\n",
    "from sklearn.metrics import auc, roc_curve\n",
    "from sklearn.metrics import RocCurveDisplay\n",
    "from sklearn.preprocessing import LabelBinarizer\n",
    "\n",
    "label_binarizer = LabelBinarizer().fit(target)\n",
    "target_onehot = label_binarizer.transform(target)\n",
    "predict_onehot = label_binarizer.transform(predict)\n",
    "\n",
    "target_names = ['0', '1', '2', '3', '4', '5', '6', '7', '8', '9']\n",
    "colors = cycle([\"aqua\", \"darkorange\", \"cornflowerblue\", \"red\", \"green\", \"blue\", \"yellow\", \"purple\", \"pink\", \"orange\"])\n",
    "\n",
    "print(prob_predict.shape)\n",
    "print(target_onehot.shape)\n",
    "\n",
    "fig, ax = plt.subplots(figsize=(10, 10))\n",
    "\n",
    "n_classes = 10\n",
    "for class_id, color in zip(range(n_classes), colors):\n",
    "  RocCurveDisplay.from_predictions(\n",
    "        target_onehot[:, class_id],\n",
    "        prob_predict[:, class_id],\n",
    "        name=f\"ROC curve for {target_names[class_id]}\",\n",
    "        color=color,\n",
    "        ax=ax\n",
    "    )\n",
    "\n",
    "_ = ax.set(\n",
    "    xlabel=\"False Positive Rate\",\n",
    "    ylabel=\"True Positive Rate\",\n",
    "    title=\"Extension of Receiver Operating Characteristic\\nto One-vs-Rest multiclass\",\n",
    ")"
   ]
  }
 ],
 "metadata": {
  "accelerator": "GPU",
  "colab": {
   "authorship_tag": "ABX9TyPcFfm9jY9mZegfi9pE2MXs",
   "gpuType": "V100",
   "machine_shape": "hm",
   "provenance": []
  },
  "kernelspec": {
   "display_name": "Python 3 (ipykernel)",
   "language": "python",
   "name": "python3"
  },
  "language_info": {
   "codemirror_mode": {
    "name": "ipython",
    "version": 3
   },
   "file_extension": ".py",
   "mimetype": "text/x-python",
   "name": "python",
   "nbconvert_exporter": "python",
   "pygments_lexer": "ipython3",
   "version": "3.10.9"
  }
 },
 "nbformat": 4,
 "nbformat_minor": 1
}
