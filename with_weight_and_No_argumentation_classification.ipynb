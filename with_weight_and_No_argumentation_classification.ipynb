{
 "cells": [
  {
   "cell_type": "code",
   "execution_count": 3,
   "metadata": {
    "executionInfo": {
     "elapsed": 6,
     "status": "ok",
     "timestamp": 1714378981825,
     "user": {
      "displayName": "Bruno Soares de Castro",
      "userId": "11507589105817192721"
     },
     "user_tz": -60
    },
    "id": "wU67BWUzYvDo"
   },
   "outputs": [],
   "source": [
    "# !pip install lightning"
   ]
  },
  {
   "cell_type": "code",
   "execution_count": 2,
   "metadata": {
    "colab": {
     "base_uri": "https://localhost:8080/"
    },
    "executionInfo": {
     "elapsed": 22587,
     "status": "ok",
     "timestamp": 1714378981824,
     "user": {
      "displayName": "Bruno Soares de Castro",
      "userId": "11507589105817192721"
     },
     "user_tz": -60
    },
    "id": "Y8ODGCnVZq3e",
    "outputId": "cc3baa26-c698-4e58-e945-f583ea0f2e3d"
   },
   "outputs": [
    {
     "name": "stdout",
     "output_type": "stream",
     "text": [
      "Mounted at /content/gdrive\n"
     ]
    }
   ],
   "source": [
    "from google.colab import drive\n",
    "drive.mount('/content/gdrive')"
   ]
  },
  {
   "cell_type": "code",
   "execution_count": 4,
   "metadata": {
    "colab": {
     "base_uri": "https://localhost:8080/"
    },
    "executionInfo": {
     "elapsed": 1355,
     "status": "ok",
     "timestamp": 1714378988708,
     "user": {
      "displayName": "Bruno Soares de Castro",
      "userId": "11507589105817192721"
     },
     "user_tz": -60
    },
    "id": "fsLXk0-KZ04w",
    "outputId": "8af2ad0f-16aa-4c59-ed64-8d185cd8b675"
   },
   "outputs": [
    {
     "name": "stdout",
     "output_type": "stream",
     "text": [
      "/content/gdrive/MyDrive/Colab Notebooks/ClassPreTreined\n",
      "/content/gdrive/MyDrive/Colab Notebooks/ClassPreTreined/weights_no_argumation\n"
     ]
    }
   ],
   "source": [
    "# %cd /content/gdrive/MyDrive/Colab Notebooks\n",
    "# %mkdir ClassPreTreined\n",
    "\n",
    "# %cd /content/gdrive/MyDrive/Colab Notebooks/ClassPreTreined\n",
    "# %mkdir weights_no_argumation\n",
    "\n",
    "%cd /content/gdrive/MyDrive/Colab Notebooks/ClassPreTreined/weights_no_argumation"
   ]
  },
  {
   "cell_type": "code",
   "execution_count": 5,
   "metadata": {
    "colab": {
     "base_uri": "https://localhost:8080/"
    },
    "executionInfo": {
     "elapsed": 29,
     "status": "ok",
     "timestamp": 1714379009016,
     "user": {
      "displayName": "Bruno Soares de Castro",
      "userId": "11507589105817192721"
     },
     "user_tz": -60
    },
    "id": "h3B2QwwiaPMa",
    "outputId": "5f8acb0c-5665-4d63-c501-f9bd872bf6a0"
   },
   "outputs": [
    {
     "name": "stderr",
     "output_type": "stream",
     "text": [
      "INFO: Seed set to 546\n",
      "INFO:lightning.fabric.utilities.seed:Seed set to 546\n"
     ]
    }
   ],
   "source": [
    "import os\n",
    "import numpy as np\n",
    "from numpy import random\n",
    "\n",
    "import matplotlib.pyplot as plt\n",
    "%matplotlib inline\n",
    "\n",
    "import torch\n",
    "import torchmetrics\n",
    "from torchvision import datasets, models\n",
    "from torchvision.transforms import v2\n",
    "from torchsummary import summary\n",
    "\n",
    "from torch.utils.data import DataLoader, SubsetRandomSampler\n",
    "\n",
    "import lightning.pytorch as pl\n",
    "from lightning.pytorch.loggers import TensorBoardLogger, CSVLogger\n",
    "from lightning.pytorch.callbacks import ModelCheckpoint\n",
    "from lightning.pytorch import Trainer, LightningModule\n",
    "\n",
    "RANDOM_SEED = 546\n",
    "\n",
    "pl.seed_everything(RANDOM_SEED)\n",
    "\n",
    "device = torch.device('cuda' if torch.cuda.is_available() else 'cpu')"
   ]
  },
  {
   "cell_type": "markdown",
   "metadata": {
    "id": "DYYWHys4aw2x"
   },
   "source": [
    "## DataSet"
   ]
  },
  {
   "cell_type": "code",
   "execution_count": 6,
   "metadata": {
    "colab": {
     "base_uri": "https://localhost:8080/"
    },
    "executionInfo": {
     "elapsed": 25,
     "status": "ok",
     "timestamp": 1714379009017,
     "user": {
      "displayName": "Bruno Soares de Castro",
      "userId": "11507589105817192721"
     },
     "user_tz": -60
    },
    "id": "kBHxyGQ6aVmn",
    "outputId": "7aa6ecfe-c086-4e94-a16d-5f2b1f8b147c"
   },
   "outputs": [
    {
     "name": "stderr",
     "output_type": "stream",
     "text": [
      "INFO: Seed set to 546\n",
      "INFO:lightning.fabric.utilities.seed:Seed set to 546\n"
     ]
    }
   ],
   "source": [
    "pl.seed_everything(RANDOM_SEED)\n",
    "\n",
    "image_transforms = {\n",
    "    'train': v2.Compose([\n",
    "    v2.Lambda(lambda x: x.convert(\"RGB\")),\n",
    "    v2.Resize((128, 128)),\n",
    "    v2.ToImage(),\n",
    "    v2.ToDtype(torch.float32, scale=True), # transform.ToTensor()\n",
    "    v2.Normalize(mean=[0.5, 0.5, 0.5], std=[0.5, 0.5, 0.5])\n",
    "    ]),\n",
    "    'test': v2.Compose([\n",
    "    v2.Lambda(lambda x: x.convert(\"RGB\")),\n",
    "    v2.Resize((128, 128)),\n",
    "    v2.ToImage(),\n",
    "    v2.ToDtype(torch.float32, scale=True),\n",
    "    v2.Normalize(mean=[0.5, 0.5, 0.5], std=[0.5, 0.5, 0.5])\n",
    "    ])\n",
    "}"
   ]
  },
  {
   "cell_type": "code",
   "execution_count": 14,
   "metadata": {
    "colab": {
     "base_uri": "https://localhost:8080/"
    },
    "executionInfo": {
     "elapsed": 8,
     "status": "ok",
     "timestamp": 1714379030298,
     "user": {
      "displayName": "Bruno Soares de Castro",
      "userId": "11507589105817192721"
     },
     "user_tz": -60
    },
    "id": "UnQ5ZAa-bKy_",
    "outputId": "16506f61-27da-4d6e-fb29-49f5af84ffb3"
   },
   "outputs": [
    {
     "name": "stderr",
     "output_type": "stream",
     "text": [
      "INFO: Seed set to 546\n",
      "INFO:lightning.fabric.utilities.seed:Seed set to 546\n"
     ]
    },
    {
     "name": "stdout",
     "output_type": "stream",
     "text": [
      "/content/gdrive/MyDrive/Colab Notebooks/ClassPreTreined/weights_no_argumation\n"
     ]
    }
   ],
   "source": [
    "pl.seed_everything(RANDOM_SEED)\n",
    "\n",
    "route = os.getcwd()\n",
    "print(route)\n",
    "\n",
    "train_dataset = datasets.MNIST(root=route,\n",
    "                                train=True,\n",
    "                                transform = image_transforms['train'],\n",
    "                                download=True)\n",
    "\n",
    "test_dataset = datasets.MNIST(root=route,\n",
    "                              train=False,\n",
    "                              transform = image_transforms['test'])"
   ]
  },
  {
   "cell_type": "code",
   "execution_count": 8,
   "metadata": {
    "colab": {
     "base_uri": "https://localhost:8080/"
    },
    "executionInfo": {
     "elapsed": 8,
     "status": "ok",
     "timestamp": 1714379011324,
     "user": {
      "displayName": "Bruno Soares de Castro",
      "userId": "11507589105817192721"
     },
     "user_tz": -60
    },
    "id": "yLguYFq2dvfI",
    "outputId": "d46db961-6f09-4784-cc4f-a1c3f445c2c8"
   },
   "outputs": [
    {
     "name": "stderr",
     "output_type": "stream",
     "text": [
      "INFO: Seed set to 546\n",
      "INFO:lightning.fabric.utilities.seed:Seed set to 546\n"
     ]
    },
    {
     "name": "stdout",
     "output_type": "stream",
     "text": [
      "Train size:  48000\n",
      "Valid size:  12000\n",
      "Test size:  1500\n"
     ]
    }
   ],
   "source": [
    "pl.seed_everything(RANDOM_SEED)\n",
    "\n",
    "VALIDATION_FRACTION = 0.2\n",
    "TEST_SAMPLE = 1500\n",
    "\n",
    "n_sample = train_dataset.__len__()\n",
    "n_sample_test = test_dataset.__len__()\n",
    "\n",
    "if VALIDATION_FRACTION is not None:\n",
    "  num = int(VALIDATION_FRACTION * n_sample)\n",
    "\n",
    "  train_indices = torch.arange(0, n_sample  - num)\n",
    "  valid_indices = torch.arange(n_sample  - num, n_sample )\n",
    "  test_indices = torch.arange(0, TEST_SAMPLE)\n",
    "\n",
    "  indices = torch.arange(0, n_sample)\n",
    "  shuffled_tensor = indices[torch.randperm(indices.size(0))]\n",
    "\n",
    "  indices_test = torch.arange(0, n_sample_test)\n",
    "  shuffled_tensor_test = indices_test[torch.randperm(indices_test.size(0))]\n",
    "\n",
    "  train_sampler = SubsetRandomSampler(shuffled_tensor[train_indices])\n",
    "  valid_sampler = SubsetRandomSampler(shuffled_tensor[valid_indices])\n",
    "  test_sampler = SubsetRandomSampler(shuffled_tensor_test[test_indices])\n",
    "\n",
    "  print('Train size: ', len(train_sampler))\n",
    "  print('Valid size: ', len(valid_sampler))\n",
    "  print('Test size: ', len(test_sampler))"
   ]
  },
  {
   "cell_type": "code",
   "execution_count": 9,
   "metadata": {
    "colab": {
     "base_uri": "https://localhost:8080/"
    },
    "executionInfo": {
     "elapsed": 7,
     "status": "ok",
     "timestamp": 1714379011324,
     "user": {
      "displayName": "Bruno Soares de Castro",
      "userId": "11507589105817192721"
     },
     "user_tz": -60
    },
    "id": "iSwkLHsad9Q_",
    "outputId": "ea2591f8-c456-4cbd-bac5-2c9709fef771"
   },
   "outputs": [
    {
     "name": "stderr",
     "output_type": "stream",
     "text": [
      "INFO: Seed set to 546\n",
      "INFO:lightning.fabric.utilities.seed:Seed set to 546\n"
     ]
    },
    {
     "name": "stdout",
     "output_type": "stream",
     "text": [
      "Size of Train DataLoader: 1500\n",
      "Size of Valid DataLoader: 375\n",
      "Size of Test DataLoader: 1500\n"
     ]
    }
   ],
   "source": [
    "pl.seed_everything(RANDOM_SEED)\n",
    "\n",
    "BATCH_SIZE = 32\n",
    "NUM_WORKERS = 8\n",
    "\n",
    "train_loader = DataLoader(dataset=train_dataset,\n",
    "                          batch_size= BATCH_SIZE,\n",
    "                          num_workers=NUM_WORKERS,\n",
    "                          drop_last=True,\n",
    "                          sampler=train_sampler)\n",
    "\n",
    "valid_loader = DataLoader(dataset=train_dataset,\n",
    "                          batch_size=BATCH_SIZE,\n",
    "                          num_workers=NUM_WORKERS,\n",
    "                          sampler=valid_sampler,\n",
    "                          shuffle=False)\n",
    "\n",
    "test_loader = DataLoader(dataset=test_dataset,\n",
    "                          batch_size=1,\n",
    "                          num_workers=NUM_WORKERS,\n",
    "                          sampler=test_sampler,\n",
    "                          shuffle=False)\n",
    "\n",
    "print(\"Size of Train DataLoader:\", len(train_loader))\n",
    "print(\"Size of Valid DataLoader:\", len(valid_loader))\n",
    "print(\"Size of Test DataLoader:\", len(test_loader))"
   ]
  },
  {
   "cell_type": "code",
   "execution_count": 12,
   "metadata": {
    "colab": {
     "base_uri": "https://localhost:8080/",
     "height": 243
    },
    "executionInfo": {
     "elapsed": 1572,
     "status": "ok",
     "timestamp": 1714379017721,
     "user": {
      "displayName": "Bruno Soares de Castro",
      "userId": "11507589105817192721"
     },
     "user_tz": -60
    },
    "id": "Y2CMzP-DeHfW",
    "outputId": "a9abaa10-d255-4245-963c-6b0a4a1d12a1"
   },
   "outputs": [
    {
     "name": "stderr",
     "output_type": "stream",
     "text": [
      "INFO: Seed set to 546\n",
      "INFO:lightning.fabric.utilities.seed:Seed set to 546\n"
     ]
    },
    {
     "name": "stdout",
     "output_type": "stream",
     "text": [
      "Image batch dimensions: torch.Size([32, 3, 128, 128])\n",
      "Image label dimensions: torch.Size([32])\n"
     ]
    },
    {
     "data": {
      "image/png": "[encoded data removed]",
      "text/plain": [
       "<Figure size 640x480 with 4 Axes>"
      ]
     },
     "metadata": {},
     "output_type": "display_data"
    }
   ],
   "source": [
    "# Checking the dataset\n",
    "pl.seed_everything(RANDOM_SEED)\n",
    "\n",
    "for batch in valid_loader:\n",
    "    images, labels = batch\n",
    "    # print(np.unique(images))\n",
    "    print('Image batch dimensions:', images.shape)\n",
    "    print('Image label dimensions:', labels.shape)\n",
    "    break\n",
    "\n",
    "fig, ax = plt.subplots(1, 4)\n",
    "\n",
    "for i in range(4):\n",
    "  img = v2.ToPILImage()(images[i])\n",
    "  ax[i].imshow(img)\n",
    "\n",
    "plt.tight_layout()\n",
    "\n"
   ]
  },
  {
   "cell_type": "code",
   "execution_count": 13,
   "metadata": {
    "colab": {
     "base_uri": "https://localhost:8080/",
     "height": 559
    },
    "executionInfo": {
     "elapsed": 1566,
     "status": "ok",
     "timestamp": 1714379022918,
     "user": {
      "displayName": "Bruno Soares de Castro",
      "userId": "11507589105817192721"
     },
     "user_tz": -60
    },
    "id": "4ELlFTu3YPdM",
    "outputId": "5e148e70-fbf5-4a23-fe67-6995b5939f67"
   },
   "outputs": [
    {
     "name": "stderr",
     "output_type": "stream",
     "text": [
      "INFO: Seed set to 546\n",
      "INFO:lightning.fabric.utilities.seed:Seed set to 546\n"
     ]
    },
    {
     "name": "stdout",
     "output_type": "stream",
     "text": [
      "Image batch dimensions: torch.Size([1, 3, 128, 128])\n",
      "Image label dimensions: torch.Size([1])\n"
     ]
    },
    {
     "data": {
      "image/png": "[encoded data removed]",
      "text/plain": [
       "<Figure size 640x480 with 1 Axes>"
      ]
     },
     "metadata": {},
     "output_type": "display_data"
    }
   ],
   "source": [
    "# Checking the dataset\n",
    "pl.seed_everything(RANDOM_SEED)\n",
    "\n",
    "for batch in test_loader:\n",
    "    images, labels = batch\n",
    "    # print(np.unique(images))\n",
    "    print('Image batch dimensions:', images.shape)\n",
    "    print('Image label dimensions:', labels.shape)\n",
    "    break\n",
    "\n",
    "img = v2.ToPILImage()(images[0])\n",
    "plt.imshow(img)\n",
    "plt.tight_layout()\n"
   ]
  },
  {
   "cell_type": "markdown",
   "metadata": {
    "id": "uvUWgi5slE3u"
   },
   "source": [
    "## Deep learning Models"
   ]
  },
  {
   "cell_type": "code",
   "execution_count": 16,
   "metadata": {
    "executionInfo": {
     "elapsed": 1296,
     "status": "ok",
     "timestamp": 1714379048134,
     "user": {
      "displayName": "Bruno Soares de Castro",
      "userId": "11507589105817192721"
     },
     "user_tz": -60
    },
    "id": "wav9xZallEdH"
   },
   "outputs": [],
   "source": [
    "weights = models.RegNet_Y_400MF_Weights.DEFAULT\n",
    "model = models.regnet_y_400mf(weights=weights)\n",
    "input_size = (3, 128, 128)\n",
    "# summary(model, input_size, device=\"cpu\")"
   ]
  },
  {
   "cell_type": "code",
   "execution_count": 17,
   "metadata": {
    "executionInfo": {
     "elapsed": 405,
     "status": "ok",
     "timestamp": 1714379049871,
     "user": {
      "displayName": "Bruno Soares de Castro",
      "userId": "11507589105817192721"
     },
     "user_tz": -60
    },
    "id": "Vvam7gYY6S_p"
   },
   "outputs": [],
   "source": [
    "for index, (name, param) in enumerate(model.named_parameters()):\n",
    "  if \"fc\" in name:\n",
    "    param.requires_grad = True\n",
    "  else:\n",
    "    param.requires_grad = False\n",
    "\n",
    "NUM_CLASSES = 10\n",
    "model.fc = torch.nn.Linear(model.fc.in_features, NUM_CLASSES)\n",
    "\n",
    "# summary(model, input_size, device=\"cpu\")"
   ]
  },
  {
   "cell_type": "code",
   "execution_count": 18,
   "metadata": {
    "colab": {
     "base_uri": "https://localhost:8080/"
    },
    "executionInfo": {
     "elapsed": 5,
     "status": "ok",
     "timestamp": 1714379053221,
     "user": {
      "displayName": "Bruno Soares de Castro",
      "userId": "11507589105817192721"
     },
     "user_tz": -60
    },
    "id": "b6vioXkhp5Rt",
    "outputId": "1180d080-4301-49c1-cd44-df85357caf87"
   },
   "outputs": [
    {
     "name": "stderr",
     "output_type": "stream",
     "text": [
      "INFO: Seed set to 546\n",
      "INFO:lightning.fabric.utilities.seed:Seed set to 546\n"
     ]
    }
   ],
   "source": [
    "pl.seed_everything(RANDOM_SEED)\n",
    "\n",
    "class LightningModel(pl.LightningModule):\n",
    "    def __init__(self, model, optimizer_name, optimizer_hparams):\n",
    "        \"\"\"LightningModel.\n",
    "        Args:\n",
    "            model: Name of the model/CNN to run. Used for creating the model\n",
    "            optimizer_name: Name of the optimizer to use. Currently supported: Adam, SGD\n",
    "            optimizer_hparams: Hyperparameters for the optimizer, as dictionary. This includes learning rate, weight decay, etc.\n",
    "         \"\"\"\n",
    "        super().__init__()\n",
    "\n",
    "        self.model = model\n",
    "        self.save_hyperparameters(ignore=['model'])\n",
    "\n",
    "        # Set up attributes for computing the accuracy\n",
    "        self.train_acc = torchmetrics.Accuracy(task='multiclass', num_classes=NUM_CLASSES)\n",
    "        self.valid_acc = torchmetrics.Accuracy(task='multiclass', num_classes=NUM_CLASSES)\n",
    "        self.test_acc = torchmetrics.Accuracy(task='multiclass', num_classes=NUM_CLASSES)\n",
    "\n",
    "    # Defining the forward method is only necessary\n",
    "    # if you want to use a Trainer's .predict() method (optional)\n",
    "    def forward(self, x):\n",
    "        return self.model(x)\n",
    "\n",
    "    # A common forward step to compute the loss and labels\n",
    "    # this is used for training, validation, and testing below\n",
    "    def _shared_step(self, batch):\n",
    "        features, true_labels = batch\n",
    "        logits = self(features)\n",
    "        loss = torch.nn.functional.cross_entropy(logits, true_labels)\n",
    "        predicted_labels = torch.argmax(logits, dim=1)\n",
    "\n",
    "        return loss, true_labels, predicted_labels\n",
    "\n",
    "    def training_step(self, batch, batch_idx):\n",
    "        loss, true_labels, predicted_labels = self._shared_step(batch)\n",
    "        self.train_acc.update(predicted_labels, true_labels)\n",
    "        metrics = {'train_loss': loss, 'train_acc': self.train_acc}\n",
    "        self.log_dict(metrics, on_epoch=True, on_step=False, prog_bar=True)\n",
    "        return loss  # this is passed to the optimzer for training\n",
    "\n",
    "    def validation_step(self, batch, batch_idx):\n",
    "        loss, true_labels, predicted_labels = self._shared_step(batch)\n",
    "        self.valid_acc(predicted_labels, true_labels)\n",
    "        metrics = {'valid_loss': loss, 'valid_acc': self.valid_acc}\n",
    "        self.log_dict(metrics, on_epoch=True, on_step=False, prog_bar=True)\n",
    "\n",
    "    def test_step(self, batch, batch_idx):\n",
    "        loss, true_labels, predicted_labels = self._shared_step(batch)\n",
    "        self.test_acc(predicted_labels, true_labels)\n",
    "        metrics = {'test_loss': loss, 'test_acc': self.test_acc}\n",
    "        self.log_dict(metrics, on_epoch=True, on_step=False, prog_bar=True)\n",
    "\n",
    "    def configure_optimizers(self):\n",
    "      # We will support Adam or SGD as optimizers.\n",
    "      if self.hparams.optimizer_name == \"Adam\":\n",
    "          optimizer = torch.optim.AdamW(self.parameters(), **self.hparams.optimizer_hparams)\n",
    "      elif self.hparams.optimizer_name == \"SGD\":\n",
    "          optimizer = torch.optim.SGD(self.parameters(), **self.hparams.optimizer_hparams)\n",
    "      else:\n",
    "          assert False, f'Unknown optimizer: \"{self.hparams.optimizer_name}\"'\n",
    "\n",
    "      # scheduler = torch.optim.swa_utils.SWALR(optimizer, anneal_strategy=\"cos\", anneal_epochs=5, swa_lr=0.002)\n",
    "      scheduler = torch.optim.lr_scheduler.ReduceLROnPlateau(optimizer, factor=0.1, patience=5)\n",
    "      return {\"optimizer\": optimizer, \"lr_scheduler\": scheduler, \"monitor\": \"valid_loss\"}"
   ]
  },
  {
   "cell_type": "code",
   "execution_count": 19,
   "metadata": {
    "colab": {
     "base_uri": "https://localhost:8080/"
    },
    "executionInfo": {
     "elapsed": 10,
     "status": "ok",
     "timestamp": 1714379061204,
     "user": {
      "displayName": "Bruno Soares de Castro",
      "userId": "11507589105817192721"
     },
     "user_tz": -60
    },
    "id": "PqlI7ZIKrs3j",
    "outputId": "e395d303-ed5c-481f-ca50-910062e835cd"
   },
   "outputs": [
    {
     "name": "stderr",
     "output_type": "stream",
     "text": [
      "INFO: Seed set to 546\n",
      "INFO:lightning.fabric.utilities.seed:Seed set to 546\n"
     ]
    }
   ],
   "source": [
    "pl.seed_everything(RANDOM_SEED)\n",
    "\n",
    "optimizer_name = \"Adam\"\n",
    "optimizer_hparams = {\"lr\": 0.00003, \"betas\": (0.9, 0.999), \"eps\": 1e-08, \"weight_decay\": 0.01, \"amsgrad\": False}\n",
    "\n",
    "model_light = LightningModel(model, optimizer_name, optimizer_hparams)\n",
    "\n",
    "arch = 'regnet_y_400m'\n",
    "\n",
    "cbs = ModelCheckpoint(dirpath = f'./checkpoints_{arch}',\n",
    "                                   filename = arch,\n",
    "                                   verbose = True,\n",
    "                                   monitor = 'valid_loss',\n",
    "                                   mode = 'min')\n",
    "\n",
    "logger_csv = CSVLogger(save_dir=\"logs/\", name=\"my-model\")"
   ]
  },
  {
   "cell_type": "code",
   "execution_count": 32,
   "metadata": {
    "colab": {
     "base_uri": "https://localhost:8080/"
    },
    "executionInfo": {
     "elapsed": 594,
     "status": "ok",
     "timestamp": 1714380641033,
     "user": {
      "displayName": "Bruno Soares de Castro",
      "userId": "11507589105817192721"
     },
     "user_tz": -60
    },
    "id": "tlrYVSXbsr6R",
    "outputId": "c7787a5e-dd9a-4b70-febf-9b143f8db461"
   },
   "outputs": [
    {
     "name": "stderr",
     "output_type": "stream",
     "text": [
      "INFO: Seed set to 546\n",
      "INFO:lightning.fabric.utilities.seed:Seed set to 546\n",
      "INFO: GPU available: True (cuda), used: True\n",
      "INFO:lightning.pytorch.utilities.rank_zero:GPU available: True (cuda), used: True\n",
      "INFO: TPU available: False, using: 0 TPU cores\n",
      "INFO:lightning.pytorch.utilities.rank_zero:TPU available: False, using: 0 TPU cores\n",
      "INFO: IPU available: False, using: 0 IPUs\n",
      "INFO:lightning.pytorch.utilities.rank_zero:IPU available: False, using: 0 IPUs\n",
      "INFO: HPU available: False, using: 0 HPUs\n",
      "INFO:lightning.pytorch.utilities.rank_zero:HPU available: False, using: 0 HPUs\n",
      "INFO: `Trainer(limit_val_batches=1)` was configured so 1 batch will be used.\n",
      "INFO:lightning.pytorch.utilities.rank_zero:`Trainer(limit_val_batches=1)` was configured so 1 batch will be used.\n"
     ]
    }
   ],
   "source": [
    "pl.seed_everything(RANDOM_SEED)\n",
    "\n",
    "PERCENT_VALID_EXAMPLES = 1\n",
    "EPOCHS = 20\n",
    "LOG_EVERY_N_STEPS = 1\n",
    "\n",
    "trainer = pl.Trainer(\n",
    "    limit_val_batches = PERCENT_VALID_EXAMPLES,\n",
    "    max_epochs = EPOCHS,\n",
    "    logger=logger_csv,\n",
    "    callbacks = cbs,\n",
    "    log_every_n_steps=LOG_EVERY_N_STEPS,\n",
    "    accelerator=\"auto\",  # Uses GPUs or TPUs if available\n",
    "    devices=\"auto\",  # Uses all available GPUs/TPUs if applicable\n",
    "\n",
    ")\n",
    "\n",
    "# trainer.fit(model_light, train_dataloaders = train_loader, val_dataloaders=valid_loader)"
   ]
  },
  {
   "cell_type": "code",
   "execution_count": 22,
   "metadata": {
    "colab": {
     "base_uri": "https://localhost:8080/",
     "height": 104,
     "referenced_widgets": [
      "2753837b0f834fe3bdff9bd82a845c65",
      "10234fe0420746c7a55c7acfa8b58a90",
      "b1bc63f151524fe8832f4b0f551137db",
      "b1e730f3832b4623b3132dee5c8e9f2b",
      "859ca89928fb477e9ef4f17277da8e66",
      "4a43e70e10144421b060f4671dfcdfc9",
      "e7b4d2d0ab6f4a64b76a9ff7e691c76a",
      "f1edcecc295c42b58a772389a7da220f",
      "28fb8bc57c7a4f98a26c32861be01ee6",
      "5875158f9f6149aaaac94c365a11aed0",
      "fb2e30216dab4575888ded057e4b92e4"
     ]
    },
    "executionInfo": {
     "elapsed": 22941,
     "status": "ok",
     "timestamp": 1714380389160,
     "user": {
      "displayName": "Bruno Soares de Castro",
      "userId": "11507589105817192721"
     },
     "user_tz": -60
    },
    "id": "bTzKf6t4bYyz",
    "outputId": "d6e4f202-e71e-4ac8-eecd-1985eece2a42"
   },
   "outputs": [
    {
     "name": "stderr",
     "output_type": "stream",
     "text": [
      "INFO: LOCAL_RANK: 0 - CUDA_VISIBLE_DEVICES: [0]\n",
      "INFO:lightning.pytorch.accelerators.cuda:LOCAL_RANK: 0 - CUDA_VISIBLE_DEVICES: [0]\n"
     ]
    },
    {
     "data": {
      "application/vnd.jupyter.widget-view+json": {
       "model_id": "2753837b0f834fe3bdff9bd82a845c65",
       "version_major": 2,
       "version_minor": 0
      },
      "text/plain": [
       "Testing: |          | 0/? [00:00<?, ?it/s]"
      ]
     },
     "metadata": {},
     "output_type": "display_data"
    },
    {
     "name": "stdout",
     "output_type": "stream",
     "text": [
      "[{'test_loss': 0.021999642252922058, 'test_acc': 0.9933333396911621}]\n"
     ]
    }
   ],
   "source": [
    "# run test dataset\n",
    "test_metrics = trainer.test(model_light, dataloaders=test_loader, verbose=False)\n",
    "print(test_metrics)"
   ]
  },
  {
   "cell_type": "markdown",
   "metadata": {
    "id": "RHvCItUZS6Lg"
   },
   "source": [
    "## Load the model from the checkpoint"
   ]
  },
  {
   "cell_type": "code",
   "execution_count": 23,
   "metadata": {
    "colab": {
     "base_uri": "https://localhost:8080/"
    },
    "executionInfo": {
     "elapsed": 672,
     "status": "ok",
     "timestamp": 1714380399073,
     "user": {
      "displayName": "Bruno Soares de Castro",
      "userId": "11507589105817192721"
     },
     "user_tz": -60
    },
    "id": "W_GVNH_nnEFJ",
    "outputId": "887faf5e-a753-4995-be4a-a0e10ffe47b9"
   },
   "outputs": [
    {
     "name": "stderr",
     "output_type": "stream",
     "text": [
      "INFO: Seed set to 546\n",
      "INFO:lightning.fabric.utilities.seed:Seed set to 546\n"
     ]
    },
    {
     "data": {
      "text/plain": [
       "<All keys matched successfully>"
      ]
     },
     "execution_count": 23,
     "metadata": {},
     "output_type": "execute_result"
    }
   ],
   "source": [
    "# If you are working in GPU, please, you do not run: device = torch.device('cpu')\n",
    "device = torch.device('cpu')\n",
    "checkpoint_file = '/content/gdrive/MyDrive/Colab Notebooks/ClassPreTreined/weights_no_argumation/checkpoints_regnet_y_400m/regnet_y_400m.ckpt'\n",
    "\n",
    "pl.seed_everything(RANDOM_SEED)\n",
    "\n",
    "optimizer_name = \"Adam\"\n",
    "optimizer_hparams = {\"lr\": 0.00003, \"betas\": (0.9, 0.999), \"eps\": 1e-08, \"weight_decay\": 0.01, \"amsgrad\": False}\n",
    "\n",
    "model_light = LightningModel(model, optimizer_name, optimizer_hparams)\n",
    "\n",
    "checkpoint = torch.load(checkpoint_file, map_location=device)\n",
    "model_light.load_state_dict(checkpoint['state_dict'])"
   ]
  },
  {
   "cell_type": "code",
   "execution_count": 24,
   "metadata": {
    "colab": {
     "base_uri": "https://localhost:8080/",
     "height": 899
    },
    "executionInfo": {
     "elapsed": 1615,
     "status": "ok",
     "timestamp": 1714380406473,
     "user": {
      "displayName": "Bruno Soares de Castro",
      "userId": "11507589105817192721"
     },
     "user_tz": -60
    },
    "id": "S5wz2SU7L2CU",
    "outputId": "6281c87c-5c8b-4fdd-a7b4-2d82658b1c9d"
   },
   "outputs": [
    {
     "data": {
      "text/plain": [
       "<Axes: xlabel='Epoch', ylabel='ACC'>"
      ]
     },
     "execution_count": 24,
     "metadata": {},
     "output_type": "execute_result"
    },
    {
     "data": {
      "image/png": "[encoded data removed]",
      "text/plain": [
       "<Figure size 640x480 with 1 Axes>"
      ]
     },
     "metadata": {},
     "output_type": "display_data"
    },
    {
     "data": {
      "image/png": "[encoded data removed]",
      "text/plain": [
       "<Figure size 640x480 with 1 Axes>"
      ]
     },
     "metadata": {},
     "output_type": "display_data"
    }
   ],
   "source": [
    "import pandas as pd\n",
    "\n",
    "def printdf(df):\n",
    "  return display(pd.DataFrame(df))\n",
    "\n",
    "path = '/content/gdrive/MyDrive/Colab Notebooks/ClassPreTreined/weights_no_argumation/logs/my-model/version_0'\n",
    "metrics = pd.read_csv(f\"{path}/metrics.csv\")\n",
    "metrics\n",
    "\n",
    "aggreg_metrics = []\n",
    "agg_col = \"epoch\"\n",
    "for i, dfg in metrics.groupby(agg_col):\n",
    "    agg = dict(dfg.mean())\n",
    "    agg[agg_col] = i\n",
    "    aggreg_metrics.append(agg)\n",
    "\n",
    "df_metrics = pd.DataFrame(aggreg_metrics)\n",
    "\n",
    "df_metrics[[\"train_loss\", \"valid_loss\"]].plot(grid=True, legend=True, xlabel='Epoch', ylabel='Loss')\n",
    "df_metrics[[\"train_acc\", \"valid_acc\"]].plot(grid=True, legend=True, xlabel='Epoch', ylabel='ACC')"
   ]
  },
  {
   "cell_type": "markdown",
   "metadata": {
    "id": "RIGc90uwTDE3"
   },
   "source": [
    "## This cell must be run if it is the first time.\n",
    "\n",
    "### The results can called from the predict folder."
   ]
  },
  {
   "cell_type": "code",
   "execution_count": 25,
   "metadata": {
    "colab": {
     "base_uri": "https://localhost:8080/"
    },
    "executionInfo": {
     "elapsed": 34220,
     "status": "ok",
     "timestamp": 1714380456657,
     "user": {
      "displayName": "Bruno Soares de Castro",
      "userId": "11507589105817192721"
     },
     "user_tz": -60
    },
    "id": "6I0_Ic66S3Bs",
    "outputId": "73f0be86-a631-42f3-c9d4-543602b53ae1"
   },
   "outputs": [
    {
     "name": "stderr",
     "output_type": "stream",
     "text": [
      "INFO: Seed set to 546\n",
      "INFO:lightning.fabric.utilities.seed:Seed set to 546\n",
      "/usr/lib/python3.10/multiprocessing/popen_fork.py:66: RuntimeWarning: os.fork() was called. os.fork() is incompatible with multithreaded code, and JAX is multithreaded, so this will likely lead to a deadlock.\n",
      "  self.pid = os.fork()\n"
     ]
    }
   ],
   "source": [
    "pl.seed_everything(RANDOM_SEED)\n",
    "\n",
    "target_list = []\n",
    "predict_list = []\n",
    "prob_predict_list = []\n",
    "\n",
    "for idx, batch in enumerate(test_loader):\n",
    "    images, targets = batch\n",
    "    with torch.no_grad():\n",
    "      model.eval()\n",
    "      logits = model(images)\n",
    "\n",
    "    prob_predict = logits.sigmoid()\n",
    "\n",
    "    pr_masks = torch.argmax(logits, 1).unsqueeze(1)\n",
    "\n",
    "    target = targets[0].cpu().numpy().astype(int)\n",
    "    target_predict = pr_masks[0][0].cpu().numpy().astype(int)\n",
    "\n",
    "    target_list.append(target)\n",
    "    predict_list.append(target_predict)\n",
    "    prob_predict_list.append(prob_predict)\n",
    "    # if idx == 3:\n",
    "    #   break\n",
    "\n",
    "target_ = np.vstack(target_list)\n",
    "predict_ = np.vstack(predict_list)\n",
    "prob_predict_ = np.vstack(prob_predict_list)"
   ]
  },
  {
   "cell_type": "markdown",
   "metadata": {
    "id": "Vc0YivJ5V5Bf"
   },
   "source": [
    "## It will call the results saved from the previous cell in folder"
   ]
  },
  {
   "cell_type": "code",
   "execution_count": 28,
   "metadata": {
    "colab": {
     "base_uri": "https://localhost:8080/"
    },
    "executionInfo": {
     "elapsed": 550,
     "status": "ok",
     "timestamp": 1714380584580,
     "user": {
      "displayName": "Bruno Soares de Castro",
      "userId": "11507589105817192721"
     },
     "user_tz": -60
    },
    "id": "nIDJlxAHVglU",
    "outputId": "859f0e22-ab58-4e57-a2d1-e4861eb73cb1"
   },
   "outputs": [
    {
     "name": "stdout",
     "output_type": "stream",
     "text": [
      "(1500, 1)\n",
      "(1500, 1)\n",
      "(1500, 10)\n"
     ]
    }
   ],
   "source": [
    "# %mkdir predict\n",
    "\n",
    "path = '/content/gdrive/MyDrive/Colab Notebooks/ClassPreTreined/weights_no_argumation/predict'\n",
    "\n",
    "# np.save(f'{path}/target.npy', target_)\n",
    "# np.save(f'{path}/predict.npy', predict_)\n",
    "# np.save(f'{path}/prob_predict.npy', prob_predict_)\n",
    "\n",
    "target = np.load(f'{path}/target.npy')\n",
    "predict = np.load(f'{path}/predict.npy')\n",
    "prob_predict = np.load(f'{path}/prob_predict.npy')\n",
    "\n",
    "print(target.shape)\n",
    "print(predict.shape)\n",
    "print(prob_predict.shape)"
   ]
  },
  {
   "cell_type": "code",
   "execution_count": 29,
   "metadata": {
    "colab": {
     "base_uri": "https://localhost:8080/",
     "height": 381
    },
    "executionInfo": {
     "elapsed": 1391,
     "status": "ok",
     "timestamp": 1714380590529,
     "user": {
      "displayName": "Bruno Soares de Castro",
      "userId": "11507589105817192721"
     },
     "user_tz": -60
    },
    "id": "54Lj2Zb6WUsM",
    "outputId": "4a24aed4-d328-42f7-80eb-cb5a1e47e920"
   },
   "outputs": [
    {
     "name": "stdout",
     "output_type": "stream",
     "text": [
      "Confusion Matrix:\n"
     ]
    },
    {
     "data": {
      "application/vnd.google.colaboratory.intrinsic+json": {
       "summary": "{\n  \"name\": \"printdf(conf_matrix)\",\n  \"rows\": 10,\n  \"fields\": [\n    {\n      \"column\": 0,\n      \"properties\": {\n        \"dtype\": \"number\",\n        \"std\": 44,\n        \"min\": 0,\n        \"max\": 140,\n        \"num_unique_values\": 3,\n        \"samples\": [\n          140,\n          0,\n          1\n        ],\n        \"semantic_type\": \"\",\n        \"description\": \"\"\n      }\n    },\n    {\n      \"column\": 1,\n      \"properties\": {\n        \"dtype\": \"number\",\n        \"std\": 58,\n        \"min\": 0,\n        \"max\": 186,\n        \"num_unique_values\": 2,\n        \"samples\": [\n          186,\n          0\n        ],\n        \"semantic_type\": \"\",\n        \"description\": \"\"\n      }\n    },\n    {\n      \"column\": 2,\n      \"properties\": {\n        \"dtype\": \"number\",\n        \"std\": 48,\n        \"min\": 0,\n        \"max\": 153,\n        \"num_unique_values\": 2,\n        \"samples\": [\n          153,\n          0\n        ],\n        \"semantic_type\": \"\",\n        \"description\": \"\"\n      }\n    },\n    {\n      \"column\": 3,\n      \"properties\": {\n        \"dtype\": \"number\",\n        \"std\": 50,\n        \"min\": 0,\n        \"max\": 159,\n        \"num_unique_values\": 2,\n        \"samples\": [\n          159,\n          0\n        ],\n        \"semantic_type\": \"\",\n        \"description\": \"\"\n      }\n    },\n    {\n      \"column\": 4,\n      \"properties\": {\n        \"dtype\": \"number\",\n        \"std\": 47,\n        \"min\": 0,\n        \"max\": 150,\n        \"num_unique_values\": 3,\n        \"samples\": [\n          0,\n          150\n        ],\n        \"semantic_type\": \"\",\n        \"description\": \"\"\n      }\n    },\n    {\n      \"column\": 5,\n      \"properties\": {\n        \"dtype\": \"number\",\n        \"std\": 40,\n        \"min\": 0,\n        \"max\": 129,\n        \"num_unique_values\": 3,\n        \"samples\": [\n          0,\n          1\n        ],\n        \"semantic_type\": \"\",\n        \"description\": \"\"\n      }\n    },\n    {\n      \"column\": 6,\n      \"properties\": {\n        \"dtype\": \"number\",\n        \"std\": 45,\n        \"min\": 0,\n        \"max\": 145,\n        \"num_unique_values\": 2,\n        \"samples\": [\n          145,\n          0\n        ],\n        \"semantic_type\": \"\",\n        \"description\": \"\"\n      }\n    },\n    {\n      \"column\": 7,\n      \"properties\": {\n        \"dtype\": \"number\",\n        \"std\": 54,\n        \"min\": 0,\n        \"max\": 171,\n        \"num_unique_values\": 3,\n        \"samples\": [\n          0,\n          1\n        ],\n        \"semantic_type\": \"\",\n        \"description\": \"\"\n      }\n    },\n    {\n      \"column\": 8,\n      \"properties\": {\n        \"dtype\": \"number\",\n        \"std\": 40,\n        \"min\": 0,\n        \"max\": 129,\n        \"num_unique_values\": 3,\n        \"samples\": [\n          0,\n          1\n        ],\n        \"semantic_type\": \"\",\n        \"description\": \"\"\n      }\n    },\n    {\n      \"column\": 9,\n      \"properties\": {\n        \"dtype\": \"number\",\n        \"std\": 40,\n        \"min\": 0,\n        \"max\": 129,\n        \"num_unique_values\": 3,\n        \"samples\": [\n          0,\n          2\n        ],\n        \"semantic_type\": \"\",\n        \"description\": \"\"\n      }\n    }\n  ]\n}",
       "type": "dataframe"
      },
      "text/html": [
       "\n",
       "  <div id=\"df-2bc71ad6-0a6c-40bf-acf4-049e4db980b6\" class=\"colab-df-container\">\n",
       "    <div>\n",
       "<style scoped>\n",
       "    .dataframe tbody tr th:only-of-type {\n",
       "        vertical-align: middle;\n",
       "    }\n",
       "\n",
       "    .dataframe tbody tr th {\n",
       "        vertical-align: top;\n",
       "    }\n",
       "\n",
       "    .dataframe thead th {\n",
       "        text-align: right;\n",
       "    }\n",
       "</style>\n",
       "<table border=\"1\" class=\"dataframe\">\n",
       "  <thead>\n",
       "    <tr style=\"text-align: right;\">\n",
       "      <th></th>\n",
       "      <th>0</th>\n",
       "      <th>1</th>\n",
       "      <th>2</th>\n",
       "      <th>3</th>\n",
       "      <th>4</th>\n",
       "      <th>5</th>\n",
       "      <th>6</th>\n",
       "      <th>7</th>\n",
       "      <th>8</th>\n",
       "      <th>9</th>\n",
       "    </tr>\n",
       "  </thead>\n",
       "  <tbody>\n",
       "    <tr>\n",
       "      <th>0</th>\n",
       "      <td>140</td>\n",
       "      <td>0</td>\n",
       "      <td>0</td>\n",
       "      <td>0</td>\n",
       "      <td>0</td>\n",
       "      <td>0</td>\n",
       "      <td>0</td>\n",
       "      <td>0</td>\n",
       "      <td>0</td>\n",
       "      <td>0</td>\n",
       "    </tr>\n",
       "    <tr>\n",
       "      <th>1</th>\n",
       "      <td>0</td>\n",
       "      <td>186</td>\n",
       "      <td>0</td>\n",
       "      <td>0</td>\n",
       "      <td>0</td>\n",
       "      <td>0</td>\n",
       "      <td>0</td>\n",
       "      <td>0</td>\n",
       "      <td>0</td>\n",
       "      <td>0</td>\n",
       "    </tr>\n",
       "    <tr>\n",
       "      <th>2</th>\n",
       "      <td>0</td>\n",
       "      <td>0</td>\n",
       "      <td>153</td>\n",
       "      <td>0</td>\n",
       "      <td>0</td>\n",
       "      <td>0</td>\n",
       "      <td>0</td>\n",
       "      <td>1</td>\n",
       "      <td>0</td>\n",
       "      <td>0</td>\n",
       "    </tr>\n",
       "    <tr>\n",
       "      <th>3</th>\n",
       "      <td>0</td>\n",
       "      <td>0</td>\n",
       "      <td>0</td>\n",
       "      <td>159</td>\n",
       "      <td>0</td>\n",
       "      <td>1</td>\n",
       "      <td>0</td>\n",
       "      <td>0</td>\n",
       "      <td>0</td>\n",
       "      <td>0</td>\n",
       "    </tr>\n",
       "    <tr>\n",
       "      <th>4</th>\n",
       "      <td>0</td>\n",
       "      <td>0</td>\n",
       "      <td>0</td>\n",
       "      <td>0</td>\n",
       "      <td>150</td>\n",
       "      <td>0</td>\n",
       "      <td>0</td>\n",
       "      <td>0</td>\n",
       "      <td>0</td>\n",
       "      <td>2</td>\n",
       "    </tr>\n",
       "    <tr>\n",
       "      <th>5</th>\n",
       "      <td>0</td>\n",
       "      <td>0</td>\n",
       "      <td>0</td>\n",
       "      <td>0</td>\n",
       "      <td>0</td>\n",
       "      <td>129</td>\n",
       "      <td>0</td>\n",
       "      <td>0</td>\n",
       "      <td>0</td>\n",
       "      <td>0</td>\n",
       "    </tr>\n",
       "    <tr>\n",
       "      <th>6</th>\n",
       "      <td>0</td>\n",
       "      <td>0</td>\n",
       "      <td>0</td>\n",
       "      <td>0</td>\n",
       "      <td>0</td>\n",
       "      <td>0</td>\n",
       "      <td>145</td>\n",
       "      <td>0</td>\n",
       "      <td>1</td>\n",
       "      <td>0</td>\n",
       "    </tr>\n",
       "    <tr>\n",
       "      <th>7</th>\n",
       "      <td>0</td>\n",
       "      <td>0</td>\n",
       "      <td>0</td>\n",
       "      <td>0</td>\n",
       "      <td>1</td>\n",
       "      <td>0</td>\n",
       "      <td>0</td>\n",
       "      <td>171</td>\n",
       "      <td>0</td>\n",
       "      <td>0</td>\n",
       "    </tr>\n",
       "    <tr>\n",
       "      <th>8</th>\n",
       "      <td>0</td>\n",
       "      <td>0</td>\n",
       "      <td>0</td>\n",
       "      <td>0</td>\n",
       "      <td>1</td>\n",
       "      <td>0</td>\n",
       "      <td>0</td>\n",
       "      <td>0</td>\n",
       "      <td>129</td>\n",
       "      <td>0</td>\n",
       "    </tr>\n",
       "    <tr>\n",
       "      <th>9</th>\n",
       "      <td>1</td>\n",
       "      <td>0</td>\n",
       "      <td>0</td>\n",
       "      <td>0</td>\n",
       "      <td>0</td>\n",
       "      <td>1</td>\n",
       "      <td>0</td>\n",
       "      <td>0</td>\n",
       "      <td>0</td>\n",
       "      <td>129</td>\n",
       "    </tr>\n",
       "  </tbody>\n",
       "</table>\n",
       "</div>\n",
       "    <div class=\"colab-df-buttons\">\n",
       "\n",
       "  <div class=\"colab-df-container\">\n",
       "    <button class=\"colab-df-convert\" onclick=\"convertToInteractive('df-2bc71ad6-0a6c-40bf-acf4-049e4db980b6')\"\n",
       "            title=\"Convert this dataframe to an interactive table.\"\n",
       "            style=\"display:none;\">\n",
       "\n",
       "  <svg xmlns=\"http://www.w3.org/2000/svg\" height=\"24px\" viewBox=\"0 -960 960 960\">\n",
       "    <path d=\"M120-120v-720h720v720H120Zm60-500h600v-160H180v160Zm220 220h160v-160H400v160Zm0 220h160v-160H400v160ZM180-400h160v-160H180v160Zm440 0h160v-160H620v160ZM180-180h160v-160H180v160Zm440 0h160v-160H620v160Z\"/>\n",
       "  </svg>\n",
       "    </button>\n",
       "\n",
       "  <style>\n",
       "    .colab-df-container {\n",
       "      display:flex;\n",
       "      gap: 12px;\n",
       "    }\n",
       "\n",
       "    .colab-df-convert {\n",
       "      background-color: #E8F0FE;\n",
       "      border: none;\n",
       "      border-radius: 50%;\n",
       "      cursor: pointer;\n",
       "      display: none;\n",
       "      fill: #1967D2;\n",
       "      height: 32px;\n",
       "      padding: 0 0 0 0;\n",
       "      width: 32px;\n",
       "    }\n",
       "\n",
       "    .colab-df-convert:hover {\n",
       "      background-color: #E2EBFA;\n",
       "      box-shadow: 0px 1px 2px rgba(60, 64, 67, 0.3), 0px 1px 3px 1px rgba(60, 64, 67, 0.15);\n",
       "      fill: #174EA6;\n",
       "    }\n",
       "\n",
       "    .colab-df-buttons div {\n",
       "      margin-bottom: 4px;\n",
       "    }\n",
       "\n",
       "    [theme=dark] .colab-df-convert {\n",
       "      background-color: #3B4455;\n",
       "      fill: #D2E3FC;\n",
       "    }\n",
       "\n",
       "    [theme=dark] .colab-df-convert:hover {\n",
       "      background-color: #434B5C;\n",
       "      box-shadow: 0px 1px 3px 1px rgba(0, 0, 0, 0.15);\n",
       "      filter: drop-shadow(0px 1px 2px rgba(0, 0, 0, 0.3));\n",
       "      fill: #FFFFFF;\n",
       "    }\n",
       "  </style>\n",
       "\n",
       "    <script>\n",
       "      const buttonEl =\n",
       "        document.querySelector('#df-2bc71ad6-0a6c-40bf-acf4-049e4db980b6 button.colab-df-convert');\n",
       "      buttonEl.style.display =\n",
       "        google.colab.kernel.accessAllowed ? 'block' : 'none';\n",
       "\n",
       "      async function convertToInteractive(key) {\n",
       "        const element = document.querySelector('#df-2bc71ad6-0a6c-40bf-acf4-049e4db980b6');\n",
       "        const dataTable =\n",
       "          await google.colab.kernel.invokeFunction('convertToInteractive',\n",
       "                                                    [key], {});\n",
       "        if (!dataTable) return;\n",
       "\n",
       "        const docLinkHtml = 'Like what you see? Visit the ' +\n",
       "          '<a target=\"_blank\" href=https://colab.research.google.com/notebooks/data_table.ipynb>data table notebook</a>'\n",
       "          + ' to learn more about interactive tables.';\n",
       "        element.innerHTML = '';\n",
       "        dataTable['output_type'] = 'display_data';\n",
       "        await google.colab.output.renderOutput(dataTable, element);\n",
       "        const docLink = document.createElement('div');\n",
       "        docLink.innerHTML = docLinkHtml;\n",
       "        element.appendChild(docLink);\n",
       "      }\n",
       "    </script>\n",
       "  </div>\n",
       "\n",
       "\n",
       "<div id=\"df-cda0711e-f03f-42dc-830b-0eb03e3ee6d5\">\n",
       "  <button class=\"colab-df-quickchart\" onclick=\"quickchart('df-cda0711e-f03f-42dc-830b-0eb03e3ee6d5')\"\n",
       "            title=\"Suggest charts\"\n",
       "            style=\"display:none;\">\n",
       "\n",
       "<svg xmlns=\"http://www.w3.org/2000/svg\" height=\"24px\"viewBox=\"0 0 24 24\"\n",
       "     width=\"24px\">\n",
       "    <g>\n",
       "        <path d=\"M19 3H5c-1.1 0-2 .9-2 2v14c0 1.1.9 2 2 2h14c1.1 0 2-.9 2-2V5c0-1.1-.9-2-2-2zM9 17H7v-7h2v7zm4 0h-2V7h2v10zm4 0h-2v-4h2v4z\"/>\n",
       "    </g>\n",
       "</svg>\n",
       "  </button>\n",
       "\n",
       "<style>\n",
       "  .colab-df-quickchart {\n",
       "      --bg-color: #E8F0FE;\n",
       "      --fill-color: #1967D2;\n",
       "      --hover-bg-color: #E2EBFA;\n",
       "      --hover-fill-color: #174EA6;\n",
       "      --disabled-fill-color: #AAA;\n",
       "      --disabled-bg-color: #DDD;\n",
       "  }\n",
       "\n",
       "  [theme=dark] .colab-df-quickchart {\n",
       "      --bg-color: #3B4455;\n",
       "      --fill-color: #D2E3FC;\n",
       "      --hover-bg-color: #434B5C;\n",
       "      --hover-fill-color: #FFFFFF;\n",
       "      --disabled-bg-color: #3B4455;\n",
       "      --disabled-fill-color: #666;\n",
       "  }\n",
       "\n",
       "  .colab-df-quickchart {\n",
       "    background-color: var(--bg-color);\n",
       "    border: none;\n",
       "    border-radius: 50%;\n",
       "    cursor: pointer;\n",
       "    display: none;\n",
       "    fill: var(--fill-color);\n",
       "    height: 32px;\n",
       "    padding: 0;\n",
       "    width: 32px;\n",
       "  }\n",
       "\n",
       "  .colab-df-quickchart:hover {\n",
       "    background-color: var(--hover-bg-color);\n",
       "    box-shadow: 0 1px 2px rgba(60, 64, 67, 0.3), 0 1px 3px 1px rgba(60, 64, 67, 0.15);\n",
       "    fill: var(--button-hover-fill-color);\n",
       "  }\n",
       "\n",
       "  .colab-df-quickchart-complete:disabled,\n",
       "  .colab-df-quickchart-complete:disabled:hover {\n",
       "    background-color: var(--disabled-bg-color);\n",
       "    fill: var(--disabled-fill-color);\n",
       "    box-shadow: none;\n",
       "  }\n",
       "\n",
       "  .colab-df-spinner {\n",
       "    border: 2px solid var(--fill-color);\n",
       "    border-color: transparent;\n",
       "    border-bottom-color: var(--fill-color);\n",
       "    animation:\n",
       "      spin 1s steps(1) infinite;\n",
       "  }\n",
       "\n",
       "  @keyframes spin {\n",
       "    0% {\n",
       "      border-color: transparent;\n",
       "      border-bottom-color: var(--fill-color);\n",
       "      border-left-color: var(--fill-color);\n",
       "    }\n",
       "    20% {\n",
       "      border-color: transparent;\n",
       "      border-left-color: var(--fill-color);\n",
       "      border-top-color: var(--fill-color);\n",
       "    }\n",
       "    30% {\n",
       "      border-color: transparent;\n",
       "      border-left-color: var(--fill-color);\n",
       "      border-top-color: var(--fill-color);\n",
       "      border-right-color: var(--fill-color);\n",
       "    }\n",
       "    40% {\n",
       "      border-color: transparent;\n",
       "      border-right-color: var(--fill-color);\n",
       "      border-top-color: var(--fill-color);\n",
       "    }\n",
       "    60% {\n",
       "      border-color: transparent;\n",
       "      border-right-color: var(--fill-color);\n",
       "    }\n",
       "    80% {\n",
       "      border-color: transparent;\n",
       "      border-right-color: var(--fill-color);\n",
       "      border-bottom-color: var(--fill-color);\n",
       "    }\n",
       "    90% {\n",
       "      border-color: transparent;\n",
       "      border-bottom-color: var(--fill-color);\n",
       "    }\n",
       "  }\n",
       "</style>\n",
       "\n",
       "  <script>\n",
       "    async function quickchart(key) {\n",
       "      const quickchartButtonEl =\n",
       "        document.querySelector('#' + key + ' button');\n",
       "      quickchartButtonEl.disabled = true;  // To prevent multiple clicks.\n",
       "      quickchartButtonEl.classList.add('colab-df-spinner');\n",
       "      try {\n",
       "        const charts = await google.colab.kernel.invokeFunction(\n",
       "            'suggestCharts', [key], {});\n",
       "      } catch (error) {\n",
       "        console.error('Error during call to suggestCharts:', error);\n",
       "      }\n",
       "      quickchartButtonEl.classList.remove('colab-df-spinner');\n",
       "      quickchartButtonEl.classList.add('colab-df-quickchart-complete');\n",
       "    }\n",
       "    (() => {\n",
       "      let quickchartButtonEl =\n",
       "        document.querySelector('#df-cda0711e-f03f-42dc-830b-0eb03e3ee6d5 button');\n",
       "      quickchartButtonEl.style.display =\n",
       "        google.colab.kernel.accessAllowed ? 'block' : 'none';\n",
       "    })();\n",
       "  </script>\n",
       "</div>\n",
       "    </div>\n",
       "  </div>\n"
      ],
      "text/plain": [
       "     0    1    2    3    4    5    6    7    8    9\n",
       "0  140    0    0    0    0    0    0    0    0    0\n",
       "1    0  186    0    0    0    0    0    0    0    0\n",
       "2    0    0  153    0    0    0    0    1    0    0\n",
       "3    0    0    0  159    0    1    0    0    0    0\n",
       "4    0    0    0    0  150    0    0    0    0    2\n",
       "5    0    0    0    0    0  129    0    0    0    0\n",
       "6    0    0    0    0    0    0  145    0    1    0\n",
       "7    0    0    0    0    1    0    0  171    0    0\n",
       "8    0    0    0    0    1    0    0    0  129    0\n",
       "9    1    0    0    0    0    1    0    0    0  129"
      ]
     },
     "metadata": {},
     "output_type": "display_data"
    }
   ],
   "source": [
    "from sklearn.metrics import confusion_matrix\n",
    "\n",
    "# Assuming target_flatten and target_pred_flatten are your actual and predicted labels respectively\n",
    "conf_matrix = confusion_matrix(target.flatten(), predict.flatten())\n",
    "\n",
    "print(\"Confusion Matrix:\")\n",
    "printdf(conf_matrix)"
   ]
  },
  {
   "cell_type": "code",
   "execution_count": 30,
   "metadata": {
    "colab": {
     "base_uri": "https://localhost:8080/"
    },
    "executionInfo": {
     "elapsed": 643,
     "status": "ok",
     "timestamp": 1714380596076,
     "user": {
      "displayName": "Bruno Soares de Castro",
      "userId": "11507589105817192721"
     },
     "user_tz": -60
    },
    "id": "a3S91Qp4WelE",
    "outputId": "7b094837-13dd-49cb-cc34-6f8ced0dcc62"
   },
   "outputs": [
    {
     "name": "stdout",
     "output_type": "stream",
     "text": [
      "              precision    recall  f1-score   support\n",
      "\n",
      "           0       0.99      1.00      1.00       140\n",
      "           1       1.00      1.00      1.00       186\n",
      "           2       1.00      0.99      1.00       154\n",
      "           3       1.00      0.99      1.00       160\n",
      "           4       0.99      0.99      0.99       152\n",
      "           5       0.98      1.00      0.99       129\n",
      "           6       1.00      0.99      1.00       146\n",
      "           7       0.99      0.99      0.99       172\n",
      "           8       0.99      0.99      0.99       130\n",
      "           9       0.98      0.98      0.98       131\n",
      "\n",
      "    accuracy                           0.99      1500\n",
      "   macro avg       0.99      0.99      0.99      1500\n",
      "weighted avg       0.99      0.99      0.99      1500\n",
      "\n"
     ]
    }
   ],
   "source": [
    "from sklearn.metrics import classification_report\n",
    "\n",
    "target_names = ['0', '1', '2', '3', '4', '5', '6', '7', '8', '9']\n",
    "print(classification_report(target, predict, target_names=target_names))"
   ]
  },
  {
   "cell_type": "code",
   "execution_count": 31,
   "metadata": {
    "colab": {
     "base_uri": "https://localhost:8080/",
     "height": 930
    },
    "executionInfo": {
     "elapsed": 9,
     "status": "ok",
     "timestamp": 1714380600639,
     "user": {
      "displayName": "Bruno Soares de Castro",
      "userId": "11507589105817192721"
     },
     "user_tz": -60
    },
    "id": "41r3RZ9sc8m1",
    "outputId": "bf289db4-3a28-436e-9a43-8a7650d69f24"
   },
   "outputs": [
    {
     "name": "stdout",
     "output_type": "stream",
     "text": [
      "(1500, 10)\n",
      "(1500, 10)\n"
     ]
    },
    {
     "data": {
      "image/png": "[encoded data removed]",
      "text/plain": [
       "<Figure size 1000x1000 with 1 Axes>"
      ]
     },
     "metadata": {},
     "output_type": "display_data"
    }
   ],
   "source": [
    "from itertools import cycle\n",
    "from sklearn.metrics import auc, roc_curve\n",
    "from sklearn.metrics import RocCurveDisplay\n",
    "from sklearn.preprocessing import LabelBinarizer\n",
    "\n",
    "label_binarizer = LabelBinarizer().fit(target)\n",
    "target_onehot = label_binarizer.transform(target)\n",
    "predict_onehot = label_binarizer.transform(predict)\n",
    "\n",
    "target_names = ['0', '1', '2', '3', '4', '5', '6', '7', '8', '9']\n",
    "colors = cycle([\"aqua\", \"darkorange\", \"cornflowerblue\", \"red\", \"green\", \"blue\", \"yellow\", \"purple\", \"pink\", \"orange\"])\n",
    "\n",
    "print(prob_predict.shape)\n",
    "print(target_onehot.shape)\n",
    "\n",
    "fig, ax = plt.subplots(figsize=(10, 10))\n",
    "\n",
    "n_classes = 10\n",
    "for class_id, color in zip(range(n_classes), colors):\n",
    "  RocCurveDisplay.from_predictions(\n",
    "        target_onehot[:, class_id],\n",
    "        prob_predict[:, class_id],\n",
    "        name=f\"ROC curve for {target_names[class_id]}\",\n",
    "        color=color,\n",
    "        ax=ax\n",
    "    )\n",
    "\n",
    "_ = ax.set(\n",
    "    xlabel=\"False Positive Rate\",\n",
    "    ylabel=\"True Positive Rate\",\n",
    "    title=\"Extension of Receiver Operating Characteristic\\nto One-vs-Rest multiclass\",\n",
    ")"
   ]
  }
 ],
 "metadata": {
  "colab": {
   "authorship_tag": "ABX9TyP+ifFTkRWjicqoFe0+Y/Rx",
   "machine_shape": "hm",
   "provenance": []
  },
  "kernelspec": {
   "display_name": "Python 3 (ipykernel)",
   "language": "python",
   "name": "python3"
  },
  "language_info": {
   "codemirror_mode": {
    "name": "ipython",
    "version": 3
   },
   "file_extension": ".py",
   "mimetype": "text/x-python",
   "name": "python",
   "nbconvert_exporter": "python",
   "pygments_lexer": "ipython3",
   "version": "3.10.9"
  }
 },
 "nbformat": 4,
 "nbformat_minor": 1
}
