{
 "cells": [
  {
   "cell_type": "code",
   "execution_count": 3,
   "metadata": {
    "executionInfo": {
     "elapsed": 5,
     "status": "ok",
     "timestamp": 1714380984388,
     "user": {
      "displayName": "Bruno Soares de Castro",
      "userId": "11507589105817192721"
     },
     "user_tz": -60
    },
    "id": "wU67BWUzYvDo"
   },
   "outputs": [],
   "source": [
    "# !pip install lightning"
   ]
  },
  {
   "cell_type": "code",
   "execution_count": 2,
   "metadata": {
    "colab": {
     "base_uri": "https://localhost:8080/"
    },
    "executionInfo": {
     "elapsed": 42480,
     "status": "ok",
     "timestamp": 1714380984388,
     "user": {
      "displayName": "Bruno Soares de Castro",
      "userId": "11507589105817192721"
     },
     "user_tz": -60
    },
    "id": "Y8ODGCnVZq3e",
    "outputId": "bb91d3e4-19ff-4c42-b238-ea84303a54ba"
   },
   "outputs": [
    {
     "name": "stdout",
     "output_type": "stream",
     "text": [
      "Mounted at /content/gdrive\n"
     ]
    }
   ],
   "source": [
    "from google.colab import drive\n",
    "drive.mount('/content/gdrive')"
   ]
  },
  {
   "cell_type": "code",
   "execution_count": 6,
   "metadata": {
    "colab": {
     "base_uri": "https://localhost:8080/"
    },
    "executionInfo": {
     "elapsed": 282,
     "status": "ok",
     "timestamp": 1714381059211,
     "user": {
      "displayName": "Bruno Soares de Castro",
      "userId": "11507589105817192721"
     },
     "user_tz": -60
    },
    "id": "fsLXk0-KZ04w",
    "outputId": "b14a08e1-341f-4865-c43f-abb1c002d3bf"
   },
   "outputs": [
    {
     "name": "stdout",
     "output_type": "stream",
     "text": [
      "/content/gdrive/MyDrive/Colab Notebooks/ClassPreTreined/no_weights\n"
     ]
    }
   ],
   "source": [
    "# %cd /content/gdrive/MyDrive/Colab Notebooks\n",
    "# %mkdir ClassPreTreined\n",
    "# %cd /content/gdrive/MyDrive/Colab Notebooks/ClassPreTreined\n",
    "# %mkdir no_weights\n",
    "\n",
    "%cd /content/gdrive/MyDrive/Colab Notebooks/ClassPreTreined/no_weights"
   ]
  },
  {
   "cell_type": "code",
   "execution_count": 7,
   "metadata": {
    "colab": {
     "base_uri": "https://localhost:8080/"
    },
    "executionInfo": {
     "elapsed": 7054,
     "status": "ok",
     "timestamp": 1714381073582,
     "user": {
      "displayName": "Bruno Soares de Castro",
      "userId": "11507589105817192721"
     },
     "user_tz": -60
    },
    "id": "h3B2QwwiaPMa",
    "outputId": "d28a30da-4ada-4ba7-e493-3387f7853052"
   },
   "outputs": [
    {
     "name": "stderr",
     "output_type": "stream",
     "text": [
      "INFO: Seed set to 546\n",
      "INFO:lightning.fabric.utilities.seed:Seed set to 546\n"
     ]
    }
   ],
   "source": [
    "import os\n",
    "import numpy as np\n",
    "from numpy import random\n",
    "\n",
    "import matplotlib.pyplot as plt\n",
    "%matplotlib inline\n",
    "\n",
    "import torch\n",
    "import torchmetrics\n",
    "from torchvision import datasets, models\n",
    "from torchvision.transforms import v2\n",
    "from torchsummary import summary\n",
    "\n",
    "from torch.utils.data import DataLoader, SubsetRandomSampler\n",
    "\n",
    "import lightning.pytorch as pl\n",
    "from lightning.pytorch.loggers import TensorBoardLogger, CSVLogger\n",
    "from lightning.pytorch.callbacks import ModelCheckpoint\n",
    "from lightning.pytorch import Trainer, LightningModule\n",
    "\n",
    "RANDOM_SEED = 546\n",
    "\n",
    "pl.seed_everything(RANDOM_SEED)\n",
    "\n",
    "device = torch.device('cuda' if torch.cuda.is_available() else 'cpu')"
   ]
  },
  {
   "cell_type": "markdown",
   "metadata": {
    "id": "DYYWHys4aw2x"
   },
   "source": [
    "## DataSet"
   ]
  },
  {
   "cell_type": "code",
   "execution_count": 8,
   "metadata": {
    "colab": {
     "base_uri": "https://localhost:8080/"
    },
    "executionInfo": {
     "elapsed": 16,
     "status": "ok",
     "timestamp": 1714381073583,
     "user": {
      "displayName": "Bruno Soares de Castro",
      "userId": "11507589105817192721"
     },
     "user_tz": -60
    },
    "id": "kBHxyGQ6aVmn",
    "outputId": "a7da27cf-138f-4457-87c8-6e09888845ed"
   },
   "outputs": [
    {
     "name": "stderr",
     "output_type": "stream",
     "text": [
      "INFO: Seed set to 546\n",
      "INFO:lightning.fabric.utilities.seed:Seed set to 546\n"
     ]
    }
   ],
   "source": [
    "pl.seed_everything(RANDOM_SEED)\n",
    "\n",
    "image_transforms = {\n",
    "    'train': v2.Compose([\n",
    "    v2.Pad(4),\n",
    "    v2.RandomAffine(degrees=15, translate=(0.1, 0.1), scale=(0.5, 1.25), shear=5, interpolation=v2.InterpolationMode.BILINEAR),\n",
    "    v2.ColorJitter(brightness=(0.1, 0.5), contrast=(0.1, 0.5)),\n",
    "    v2.Lambda(lambda x: x.convert(\"RGB\")),\n",
    "    v2.Resize((132, 132)),\n",
    "    v2.RandomCrop(size=(128, 128)),\n",
    "    v2.ToImage(),\n",
    "    v2.ToDtype(torch.float32, scale=True), # transform.ToTensor()\n",
    "    v2.Normalize(mean=[0.5, 0.5, 0.5], std=[0.5, 0.5, 0.5])\n",
    "    ]),\n",
    "    'test': v2.Compose([\n",
    "    v2.Lambda(lambda x: x.convert(\"RGB\")),\n",
    "    v2.Resize((132, 132)),\n",
    "    v2.RandomCrop(size=(128, 128)),\n",
    "    v2.ToImage(),\n",
    "    v2.ToDtype(torch.float32, scale=True),\n",
    "    v2.Normalize(mean=[0.5, 0.5, 0.5], std=[0.5, 0.5, 0.5])\n",
    "    ])\n",
    "}"
   ]
  },
  {
   "cell_type": "code",
   "execution_count": 10,
   "metadata": {
    "colab": {
     "base_uri": "https://localhost:8080/"
    },
    "executionInfo": {
     "elapsed": 258,
     "status": "ok",
     "timestamp": 1714381093021,
     "user": {
      "displayName": "Bruno Soares de Castro",
      "userId": "11507589105817192721"
     },
     "user_tz": -60
    },
    "id": "UnQ5ZAa-bKy_",
    "outputId": "24cc538d-5493-4a1b-c436-f68e0ad8bf8f"
   },
   "outputs": [
    {
     "name": "stderr",
     "output_type": "stream",
     "text": [
      "INFO: Seed set to 546\n",
      "INFO:lightning.fabric.utilities.seed:Seed set to 546\n"
     ]
    },
    {
     "name": "stdout",
     "output_type": "stream",
     "text": [
      "/content/gdrive/MyDrive/Colab Notebooks/ClassPreTreined/no_weights\n"
     ]
    }
   ],
   "source": [
    "pl.seed_everything(RANDOM_SEED)\n",
    "\n",
    "route = os.getcwd()\n",
    "print(route)\n",
    "\n",
    "train_dataset = datasets.MNIST(root=route,\n",
    "                                train=True,\n",
    "                                transform = image_transforms['train'],\n",
    "                                download=True)\n",
    "\n",
    "test_dataset = datasets.MNIST(root=route,\n",
    "                              train=False,\n",
    "                              transform = image_transforms['test'])"
   ]
  },
  {
   "cell_type": "code",
   "execution_count": 11,
   "metadata": {
    "colab": {
     "base_uri": "https://localhost:8080/"
    },
    "executionInfo": {
     "elapsed": 252,
     "status": "ok",
     "timestamp": 1714381096337,
     "user": {
      "displayName": "Bruno Soares de Castro",
      "userId": "11507589105817192721"
     },
     "user_tz": -60
    },
    "id": "yLguYFq2dvfI",
    "outputId": "3f99f7c7-e90f-4961-90ad-ede5163c58b9"
   },
   "outputs": [
    {
     "name": "stderr",
     "output_type": "stream",
     "text": [
      "INFO: Seed set to 546\n",
      "INFO:lightning.fabric.utilities.seed:Seed set to 546\n"
     ]
    },
    {
     "name": "stdout",
     "output_type": "stream",
     "text": [
      "Train size:  48000\n",
      "Valid size:  12000\n",
      "Test size:  1500\n"
     ]
    }
   ],
   "source": [
    "pl.seed_everything(RANDOM_SEED)\n",
    "\n",
    "VALIDATION_FRACTION = 0.2\n",
    "TEST_SAMPLE = 1500\n",
    "\n",
    "n_sample = train_dataset.__len__()\n",
    "n_sample_test = test_dataset.__len__()\n",
    "\n",
    "if VALIDATION_FRACTION is not None:\n",
    "  num = int(VALIDATION_FRACTION * n_sample)\n",
    "\n",
    "  train_indices = torch.arange(0, n_sample  - num)\n",
    "  valid_indices = torch.arange(n_sample  - num, n_sample )\n",
    "  test_indices = torch.arange(0, TEST_SAMPLE)\n",
    "\n",
    "  indices = torch.arange(0, n_sample)\n",
    "  shuffled_tensor = indices[torch.randperm(indices.size(0))]\n",
    "\n",
    "  indices_test = torch.arange(0, n_sample_test)\n",
    "  shuffled_tensor_test = indices_test[torch.randperm(indices_test.size(0))]\n",
    "\n",
    "  train_sampler = SubsetRandomSampler(shuffled_tensor[train_indices])\n",
    "  valid_sampler = SubsetRandomSampler(shuffled_tensor[valid_indices])\n",
    "  test_sampler = SubsetRandomSampler(shuffled_tensor_test[test_indices])\n",
    "\n",
    "  print('Train size: ', len(train_sampler))\n",
    "  print('Valid size: ', len(valid_sampler))\n",
    "  print('Test size: ', len(test_sampler))"
   ]
  },
  {
   "cell_type": "code",
   "execution_count": 12,
   "metadata": {
    "colab": {
     "base_uri": "https://localhost:8080/"
    },
    "executionInfo": {
     "elapsed": 286,
     "status": "ok",
     "timestamp": 1714381098910,
     "user": {
      "displayName": "Bruno Soares de Castro",
      "userId": "11507589105817192721"
     },
     "user_tz": -60
    },
    "id": "iSwkLHsad9Q_",
    "outputId": "2096f45d-7a82-4f5c-cd62-e853c7253088"
   },
   "outputs": [
    {
     "name": "stderr",
     "output_type": "stream",
     "text": [
      "INFO: Seed set to 546\n",
      "INFO:lightning.fabric.utilities.seed:Seed set to 546\n"
     ]
    },
    {
     "name": "stdout",
     "output_type": "stream",
     "text": [
      "Size of Train DataLoader: 1500\n",
      "Size of Valid DataLoader: 375\n",
      "Size of Test DataLoader: 1500\n"
     ]
    }
   ],
   "source": [
    "pl.seed_everything(RANDOM_SEED)\n",
    "\n",
    "BATCH_SIZE = 32\n",
    "NUM_WORKERS = 8\n",
    "\n",
    "train_loader = DataLoader(dataset=train_dataset,\n",
    "                          batch_size= BATCH_SIZE,\n",
    "                          num_workers=NUM_WORKERS,\n",
    "                          drop_last=True,\n",
    "                          sampler=train_sampler)\n",
    "\n",
    "valid_loader = DataLoader(dataset=train_dataset,\n",
    "                          batch_size=BATCH_SIZE,\n",
    "                          num_workers=NUM_WORKERS,\n",
    "                          sampler=valid_sampler,\n",
    "                          shuffle=False)\n",
    "\n",
    "test_loader = DataLoader(dataset=test_dataset,\n",
    "                          batch_size=1,\n",
    "                          num_workers=NUM_WORKERS,\n",
    "                          sampler=test_sampler,\n",
    "                          shuffle=False)\n",
    "\n",
    "print(\"Size of Train DataLoader:\", len(train_loader))\n",
    "print(\"Size of Valid DataLoader:\", len(valid_loader))\n",
    "print(\"Size of Test DataLoader:\", len(test_loader))"
   ]
  },
  {
   "cell_type": "code",
   "execution_count": 14,
   "metadata": {
    "colab": {
     "base_uri": "https://localhost:8080/",
     "height": 243
    },
    "executionInfo": {
     "elapsed": 1093,
     "status": "ok",
     "timestamp": 1714381106375,
     "user": {
      "displayName": "Bruno Soares de Castro",
      "userId": "11507589105817192721"
     },
     "user_tz": -60
    },
    "id": "Y2CMzP-DeHfW",
    "outputId": "2fe4cfbc-a40c-4852-878b-ab9c7653927d"
   },
   "outputs": [
    {
     "name": "stderr",
     "output_type": "stream",
     "text": [
      "INFO: Seed set to 546\n",
      "INFO:lightning.fabric.utilities.seed:Seed set to 546\n"
     ]
    },
    {
     "name": "stdout",
     "output_type": "stream",
     "text": [
      "Image batch dimensions: torch.Size([32, 3, 128, 128])\n",
      "Image label dimensions: torch.Size([32])\n"
     ]
    },
    {
     "data": {
      "image/png": "[encoded data removed]",
      "text/plain": [
       "<Figure size 640x480 with 4 Axes>"
      ]
     },
     "metadata": {},
     "output_type": "display_data"
    }
   ],
   "source": [
    "# Checking the dataset\n",
    "pl.seed_everything(RANDOM_SEED)\n",
    "\n",
    "for batch in valid_loader:\n",
    "    images, labels = batch\n",
    "    # print(np.unique(images))\n",
    "    print('Image batch dimensions:', images.shape)\n",
    "    print('Image label dimensions:', labels.shape)\n",
    "    break\n",
    "\n",
    "fig, ax = plt.subplots(1, 4)\n",
    "\n",
    "for i in range(4):\n",
    "  img = v2.ToPILImage()(images[i])\n",
    "  ax[i].imshow(img)\n",
    "\n",
    "plt.tight_layout()\n",
    "\n"
   ]
  },
  {
   "cell_type": "code",
   "execution_count": 15,
   "metadata": {
    "colab": {
     "base_uri": "https://localhost:8080/",
     "height": 559
    },
    "executionInfo": {
     "elapsed": 528,
     "status": "ok",
     "timestamp": 1714381110263,
     "user": {
      "displayName": "Bruno Soares de Castro",
      "userId": "11507589105817192721"
     },
     "user_tz": -60
    },
    "id": "4ELlFTu3YPdM",
    "outputId": "f1118eba-362f-4afa-ae4f-8b90e7c0fb09"
   },
   "outputs": [
    {
     "name": "stderr",
     "output_type": "stream",
     "text": [
      "INFO: Seed set to 546\n",
      "INFO:lightning.fabric.utilities.seed:Seed set to 546\n"
     ]
    },
    {
     "name": "stdout",
     "output_type": "stream",
     "text": [
      "Image batch dimensions: torch.Size([1, 3, 128, 128])\n",
      "Image label dimensions: torch.Size([1])\n"
     ]
    },
    {
     "data": {
      "image/png": "[encoded data removed]",
      "text/plain": [
       "<Figure size 640x480 with 1 Axes>"
      ]
     },
     "metadata": {},
     "output_type": "display_data"
    }
   ],
   "source": [
    "# Checking the dataset\n",
    "pl.seed_everything(RANDOM_SEED)\n",
    "\n",
    "for batch in test_loader:\n",
    "    images, labels = batch\n",
    "    # print(np.unique(images))\n",
    "    print('Image batch dimensions:', images.shape)\n",
    "    print('Image label dimensions:', labels.shape)\n",
    "    break\n",
    "\n",
    "img = v2.ToPILImage()(images[0])\n",
    "plt.imshow(img)\n",
    "plt.tight_layout()\n"
   ]
  },
  {
   "cell_type": "markdown",
   "metadata": {
    "id": "uvUWgi5slE3u"
   },
   "source": [
    "## Deep learning Models"
   ]
  },
  {
   "cell_type": "code",
   "execution_count": 17,
   "metadata": {
    "colab": {
     "base_uri": "https://localhost:8080/"
    },
    "executionInfo": {
     "elapsed": 630,
     "status": "ok",
     "timestamp": 1714381118010,
     "user": {
      "displayName": "Bruno Soares de Castro",
      "userId": "11507589105817192721"
     },
     "user_tz": -60
    },
    "id": "wav9xZallEdH",
    "outputId": "23bac84c-a376-41b2-e345-932015a234ae"
   },
   "outputs": [
    {
     "name": "stdout",
     "output_type": "stream",
     "text": [
      "----------------------------------------------------------------\n",
      "        Layer (type)               Output Shape         Param #\n",
      "================================================================\n",
      "            Conv2d-1           [-1, 32, 64, 64]             864\n",
      "       BatchNorm2d-2           [-1, 32, 64, 64]              64\n",
      "              ReLU-3           [-1, 32, 64, 64]               0\n",
      "            Conv2d-4           [-1, 48, 32, 32]           1,536\n",
      "       BatchNorm2d-5           [-1, 48, 32, 32]              96\n",
      "            Conv2d-6           [-1, 48, 64, 64]           1,536\n",
      "       BatchNorm2d-7           [-1, 48, 64, 64]              96\n",
      "              ReLU-8           [-1, 48, 64, 64]               0\n",
      "            Conv2d-9           [-1, 48, 32, 32]           3,456\n",
      "      BatchNorm2d-10           [-1, 48, 32, 32]              96\n",
      "             ReLU-11           [-1, 48, 32, 32]               0\n",
      "AdaptiveAvgPool2d-12             [-1, 48, 1, 1]               0\n",
      "           Conv2d-13              [-1, 8, 1, 1]             392\n",
      "             ReLU-14              [-1, 8, 1, 1]               0\n",
      "           Conv2d-15             [-1, 48, 1, 1]             432\n",
      "          Sigmoid-16             [-1, 48, 1, 1]               0\n",
      "SqueezeExcitation-17           [-1, 48, 32, 32]               0\n",
      "           Conv2d-18           [-1, 48, 32, 32]           2,304\n",
      "      BatchNorm2d-19           [-1, 48, 32, 32]              96\n",
      "             ReLU-20           [-1, 48, 32, 32]               0\n",
      "ResBottleneckBlock-21           [-1, 48, 32, 32]               0\n",
      "           Conv2d-22          [-1, 104, 16, 16]           4,992\n",
      "      BatchNorm2d-23          [-1, 104, 16, 16]             208\n",
      "           Conv2d-24          [-1, 104, 32, 32]           4,992\n",
      "      BatchNorm2d-25          [-1, 104, 32, 32]             208\n",
      "             ReLU-26          [-1, 104, 32, 32]               0\n",
      "           Conv2d-27          [-1, 104, 16, 16]           7,488\n",
      "      BatchNorm2d-28          [-1, 104, 16, 16]             208\n",
      "             ReLU-29          [-1, 104, 16, 16]               0\n",
      "AdaptiveAvgPool2d-30            [-1, 104, 1, 1]               0\n",
      "           Conv2d-31             [-1, 12, 1, 1]           1,260\n",
      "             ReLU-32             [-1, 12, 1, 1]               0\n",
      "           Conv2d-33            [-1, 104, 1, 1]           1,352\n",
      "          Sigmoid-34            [-1, 104, 1, 1]               0\n",
      "SqueezeExcitation-35          [-1, 104, 16, 16]               0\n",
      "           Conv2d-36          [-1, 104, 16, 16]          10,816\n",
      "      BatchNorm2d-37          [-1, 104, 16, 16]             208\n",
      "             ReLU-38          [-1, 104, 16, 16]               0\n",
      "ResBottleneckBlock-39          [-1, 104, 16, 16]               0\n",
      "           Conv2d-40          [-1, 104, 16, 16]          10,816\n",
      "      BatchNorm2d-41          [-1, 104, 16, 16]             208\n",
      "             ReLU-42          [-1, 104, 16, 16]               0\n",
      "           Conv2d-43          [-1, 104, 16, 16]           7,488\n",
      "      BatchNorm2d-44          [-1, 104, 16, 16]             208\n",
      "             ReLU-45          [-1, 104, 16, 16]               0\n",
      "AdaptiveAvgPool2d-46            [-1, 104, 1, 1]               0\n",
      "           Conv2d-47             [-1, 26, 1, 1]           2,730\n",
      "             ReLU-48             [-1, 26, 1, 1]               0\n",
      "           Conv2d-49            [-1, 104, 1, 1]           2,808\n",
      "          Sigmoid-50            [-1, 104, 1, 1]               0\n",
      "SqueezeExcitation-51          [-1, 104, 16, 16]               0\n",
      "           Conv2d-52          [-1, 104, 16, 16]          10,816\n",
      "      BatchNorm2d-53          [-1, 104, 16, 16]             208\n",
      "             ReLU-54          [-1, 104, 16, 16]               0\n",
      "ResBottleneckBlock-55          [-1, 104, 16, 16]               0\n",
      "           Conv2d-56          [-1, 104, 16, 16]          10,816\n",
      "      BatchNorm2d-57          [-1, 104, 16, 16]             208\n",
      "             ReLU-58          [-1, 104, 16, 16]               0\n",
      "           Conv2d-59          [-1, 104, 16, 16]           7,488\n",
      "      BatchNorm2d-60          [-1, 104, 16, 16]             208\n",
      "             ReLU-61          [-1, 104, 16, 16]               0\n",
      "AdaptiveAvgPool2d-62            [-1, 104, 1, 1]               0\n",
      "           Conv2d-63             [-1, 26, 1, 1]           2,730\n",
      "             ReLU-64             [-1, 26, 1, 1]               0\n",
      "           Conv2d-65            [-1, 104, 1, 1]           2,808\n",
      "          Sigmoid-66            [-1, 104, 1, 1]               0\n",
      "SqueezeExcitation-67          [-1, 104, 16, 16]               0\n",
      "           Conv2d-68          [-1, 104, 16, 16]          10,816\n",
      "      BatchNorm2d-69          [-1, 104, 16, 16]             208\n",
      "             ReLU-70          [-1, 104, 16, 16]               0\n",
      "ResBottleneckBlock-71          [-1, 104, 16, 16]               0\n",
      "           Conv2d-72            [-1, 208, 8, 8]          21,632\n",
      "      BatchNorm2d-73            [-1, 208, 8, 8]             416\n",
      "           Conv2d-74          [-1, 208, 16, 16]          21,632\n",
      "      BatchNorm2d-75          [-1, 208, 16, 16]             416\n",
      "             ReLU-76          [-1, 208, 16, 16]               0\n",
      "           Conv2d-77            [-1, 208, 8, 8]          14,976\n",
      "      BatchNorm2d-78            [-1, 208, 8, 8]             416\n",
      "             ReLU-79            [-1, 208, 8, 8]               0\n",
      "AdaptiveAvgPool2d-80            [-1, 208, 1, 1]               0\n",
      "           Conv2d-81             [-1, 26, 1, 1]           5,434\n",
      "             ReLU-82             [-1, 26, 1, 1]               0\n",
      "           Conv2d-83            [-1, 208, 1, 1]           5,616\n",
      "          Sigmoid-84            [-1, 208, 1, 1]               0\n",
      "SqueezeExcitation-85            [-1, 208, 8, 8]               0\n",
      "           Conv2d-86            [-1, 208, 8, 8]          43,264\n",
      "      BatchNorm2d-87            [-1, 208, 8, 8]             416\n",
      "             ReLU-88            [-1, 208, 8, 8]               0\n",
      "ResBottleneckBlock-89            [-1, 208, 8, 8]               0\n",
      "           Conv2d-90            [-1, 208, 8, 8]          43,264\n",
      "      BatchNorm2d-91            [-1, 208, 8, 8]             416\n",
      "             ReLU-92            [-1, 208, 8, 8]               0\n",
      "           Conv2d-93            [-1, 208, 8, 8]          14,976\n",
      "      BatchNorm2d-94            [-1, 208, 8, 8]             416\n",
      "             ReLU-95            [-1, 208, 8, 8]               0\n",
      "AdaptiveAvgPool2d-96            [-1, 208, 1, 1]               0\n",
      "           Conv2d-97             [-1, 52, 1, 1]          10,868\n",
      "             ReLU-98             [-1, 52, 1, 1]               0\n",
      "           Conv2d-99            [-1, 208, 1, 1]          11,024\n",
      "         Sigmoid-100            [-1, 208, 1, 1]               0\n",
      "SqueezeExcitation-101            [-1, 208, 8, 8]               0\n",
      "          Conv2d-102            [-1, 208, 8, 8]          43,264\n",
      "     BatchNorm2d-103            [-1, 208, 8, 8]             416\n",
      "            ReLU-104            [-1, 208, 8, 8]               0\n",
      "ResBottleneckBlock-105            [-1, 208, 8, 8]               0\n",
      "          Conv2d-106            [-1, 208, 8, 8]          43,264\n",
      "     BatchNorm2d-107            [-1, 208, 8, 8]             416\n",
      "            ReLU-108            [-1, 208, 8, 8]               0\n",
      "          Conv2d-109            [-1, 208, 8, 8]          14,976\n",
      "     BatchNorm2d-110            [-1, 208, 8, 8]             416\n",
      "            ReLU-111            [-1, 208, 8, 8]               0\n",
      "AdaptiveAvgPool2d-112            [-1, 208, 1, 1]               0\n",
      "          Conv2d-113             [-1, 52, 1, 1]          10,868\n",
      "            ReLU-114             [-1, 52, 1, 1]               0\n",
      "          Conv2d-115            [-1, 208, 1, 1]          11,024\n",
      "         Sigmoid-116            [-1, 208, 1, 1]               0\n",
      "SqueezeExcitation-117            [-1, 208, 8, 8]               0\n",
      "          Conv2d-118            [-1, 208, 8, 8]          43,264\n",
      "     BatchNorm2d-119            [-1, 208, 8, 8]             416\n",
      "            ReLU-120            [-1, 208, 8, 8]               0\n",
      "ResBottleneckBlock-121            [-1, 208, 8, 8]               0\n",
      "          Conv2d-122            [-1, 208, 8, 8]          43,264\n",
      "     BatchNorm2d-123            [-1, 208, 8, 8]             416\n",
      "            ReLU-124            [-1, 208, 8, 8]               0\n",
      "          Conv2d-125            [-1, 208, 8, 8]          14,976\n",
      "     BatchNorm2d-126            [-1, 208, 8, 8]             416\n",
      "            ReLU-127            [-1, 208, 8, 8]               0\n",
      "AdaptiveAvgPool2d-128            [-1, 208, 1, 1]               0\n",
      "          Conv2d-129             [-1, 52, 1, 1]          10,868\n",
      "            ReLU-130             [-1, 52, 1, 1]               0\n",
      "          Conv2d-131            [-1, 208, 1, 1]          11,024\n",
      "         Sigmoid-132            [-1, 208, 1, 1]               0\n",
      "SqueezeExcitation-133            [-1, 208, 8, 8]               0\n",
      "          Conv2d-134            [-1, 208, 8, 8]          43,264\n",
      "     BatchNorm2d-135            [-1, 208, 8, 8]             416\n",
      "            ReLU-136            [-1, 208, 8, 8]               0\n",
      "ResBottleneckBlock-137            [-1, 208, 8, 8]               0\n",
      "          Conv2d-138            [-1, 208, 8, 8]          43,264\n",
      "     BatchNorm2d-139            [-1, 208, 8, 8]             416\n",
      "            ReLU-140            [-1, 208, 8, 8]               0\n",
      "          Conv2d-141            [-1, 208, 8, 8]          14,976\n",
      "     BatchNorm2d-142            [-1, 208, 8, 8]             416\n",
      "            ReLU-143            [-1, 208, 8, 8]               0\n",
      "AdaptiveAvgPool2d-144            [-1, 208, 1, 1]               0\n",
      "          Conv2d-145             [-1, 52, 1, 1]          10,868\n",
      "            ReLU-146             [-1, 52, 1, 1]               0\n",
      "          Conv2d-147            [-1, 208, 1, 1]          11,024\n",
      "         Sigmoid-148            [-1, 208, 1, 1]               0\n",
      "SqueezeExcitation-149            [-1, 208, 8, 8]               0\n",
      "          Conv2d-150            [-1, 208, 8, 8]          43,264\n",
      "     BatchNorm2d-151            [-1, 208, 8, 8]             416\n",
      "            ReLU-152            [-1, 208, 8, 8]               0\n",
      "ResBottleneckBlock-153            [-1, 208, 8, 8]               0\n",
      "          Conv2d-154            [-1, 208, 8, 8]          43,264\n",
      "     BatchNorm2d-155            [-1, 208, 8, 8]             416\n",
      "            ReLU-156            [-1, 208, 8, 8]               0\n",
      "          Conv2d-157            [-1, 208, 8, 8]          14,976\n",
      "     BatchNorm2d-158            [-1, 208, 8, 8]             416\n",
      "            ReLU-159            [-1, 208, 8, 8]               0\n",
      "AdaptiveAvgPool2d-160            [-1, 208, 1, 1]               0\n",
      "          Conv2d-161             [-1, 52, 1, 1]          10,868\n",
      "            ReLU-162             [-1, 52, 1, 1]               0\n",
      "          Conv2d-163            [-1, 208, 1, 1]          11,024\n",
      "         Sigmoid-164            [-1, 208, 1, 1]               0\n",
      "SqueezeExcitation-165            [-1, 208, 8, 8]               0\n",
      "          Conv2d-166            [-1, 208, 8, 8]          43,264\n",
      "     BatchNorm2d-167            [-1, 208, 8, 8]             416\n",
      "            ReLU-168            [-1, 208, 8, 8]               0\n",
      "ResBottleneckBlock-169            [-1, 208, 8, 8]               0\n",
      "          Conv2d-170            [-1, 440, 4, 4]          91,520\n",
      "     BatchNorm2d-171            [-1, 440, 4, 4]             880\n",
      "          Conv2d-172            [-1, 440, 8, 8]          91,520\n",
      "     BatchNorm2d-173            [-1, 440, 8, 8]             880\n",
      "            ReLU-174            [-1, 440, 8, 8]               0\n",
      "          Conv2d-175            [-1, 440, 4, 4]          31,680\n",
      "     BatchNorm2d-176            [-1, 440, 4, 4]             880\n",
      "            ReLU-177            [-1, 440, 4, 4]               0\n",
      "AdaptiveAvgPool2d-178            [-1, 440, 1, 1]               0\n",
      "          Conv2d-179             [-1, 52, 1, 1]          22,932\n",
      "            ReLU-180             [-1, 52, 1, 1]               0\n",
      "          Conv2d-181            [-1, 440, 1, 1]          23,320\n",
      "         Sigmoid-182            [-1, 440, 1, 1]               0\n",
      "SqueezeExcitation-183            [-1, 440, 4, 4]               0\n",
      "          Conv2d-184            [-1, 440, 4, 4]         193,600\n",
      "     BatchNorm2d-185            [-1, 440, 4, 4]             880\n",
      "            ReLU-186            [-1, 440, 4, 4]               0\n",
      "ResBottleneckBlock-187            [-1, 440, 4, 4]               0\n",
      "          Conv2d-188            [-1, 440, 4, 4]         193,600\n",
      "     BatchNorm2d-189            [-1, 440, 4, 4]             880\n",
      "            ReLU-190            [-1, 440, 4, 4]               0\n",
      "          Conv2d-191            [-1, 440, 4, 4]          31,680\n",
      "     BatchNorm2d-192            [-1, 440, 4, 4]             880\n",
      "            ReLU-193            [-1, 440, 4, 4]               0\n",
      "AdaptiveAvgPool2d-194            [-1, 440, 1, 1]               0\n",
      "          Conv2d-195            [-1, 110, 1, 1]          48,510\n",
      "            ReLU-196            [-1, 110, 1, 1]               0\n",
      "          Conv2d-197            [-1, 440, 1, 1]          48,840\n",
      "         Sigmoid-198            [-1, 440, 1, 1]               0\n",
      "SqueezeExcitation-199            [-1, 440, 4, 4]               0\n",
      "          Conv2d-200            [-1, 440, 4, 4]         193,600\n",
      "     BatchNorm2d-201            [-1, 440, 4, 4]             880\n",
      "            ReLU-202            [-1, 440, 4, 4]               0\n",
      "ResBottleneckBlock-203            [-1, 440, 4, 4]               0\n",
      "          Conv2d-204            [-1, 440, 4, 4]         193,600\n",
      "     BatchNorm2d-205            [-1, 440, 4, 4]             880\n",
      "            ReLU-206            [-1, 440, 4, 4]               0\n",
      "          Conv2d-207            [-1, 440, 4, 4]          31,680\n",
      "     BatchNorm2d-208            [-1, 440, 4, 4]             880\n",
      "            ReLU-209            [-1, 440, 4, 4]               0\n",
      "AdaptiveAvgPool2d-210            [-1, 440, 1, 1]               0\n",
      "          Conv2d-211            [-1, 110, 1, 1]          48,510\n",
      "            ReLU-212            [-1, 110, 1, 1]               0\n",
      "          Conv2d-213            [-1, 440, 1, 1]          48,840\n",
      "         Sigmoid-214            [-1, 440, 1, 1]               0\n",
      "SqueezeExcitation-215            [-1, 440, 4, 4]               0\n",
      "          Conv2d-216            [-1, 440, 4, 4]         193,600\n",
      "     BatchNorm2d-217            [-1, 440, 4, 4]             880\n",
      "            ReLU-218            [-1, 440, 4, 4]               0\n",
      "ResBottleneckBlock-219            [-1, 440, 4, 4]               0\n",
      "          Conv2d-220            [-1, 440, 4, 4]         193,600\n",
      "     BatchNorm2d-221            [-1, 440, 4, 4]             880\n",
      "            ReLU-222            [-1, 440, 4, 4]               0\n",
      "          Conv2d-223            [-1, 440, 4, 4]          31,680\n",
      "     BatchNorm2d-224            [-1, 440, 4, 4]             880\n",
      "            ReLU-225            [-1, 440, 4, 4]               0\n",
      "AdaptiveAvgPool2d-226            [-1, 440, 1, 1]               0\n",
      "          Conv2d-227            [-1, 110, 1, 1]          48,510\n",
      "            ReLU-228            [-1, 110, 1, 1]               0\n",
      "          Conv2d-229            [-1, 440, 1, 1]          48,840\n",
      "         Sigmoid-230            [-1, 440, 1, 1]               0\n",
      "SqueezeExcitation-231            [-1, 440, 4, 4]               0\n",
      "          Conv2d-232            [-1, 440, 4, 4]         193,600\n",
      "     BatchNorm2d-233            [-1, 440, 4, 4]             880\n",
      "            ReLU-234            [-1, 440, 4, 4]               0\n",
      "ResBottleneckBlock-235            [-1, 440, 4, 4]               0\n",
      "          Conv2d-236            [-1, 440, 4, 4]         193,600\n",
      "     BatchNorm2d-237            [-1, 440, 4, 4]             880\n",
      "            ReLU-238            [-1, 440, 4, 4]               0\n",
      "          Conv2d-239            [-1, 440, 4, 4]          31,680\n",
      "     BatchNorm2d-240            [-1, 440, 4, 4]             880\n",
      "            ReLU-241            [-1, 440, 4, 4]               0\n",
      "AdaptiveAvgPool2d-242            [-1, 440, 1, 1]               0\n",
      "          Conv2d-243            [-1, 110, 1, 1]          48,510\n",
      "            ReLU-244            [-1, 110, 1, 1]               0\n",
      "          Conv2d-245            [-1, 440, 1, 1]          48,840\n",
      "         Sigmoid-246            [-1, 440, 1, 1]               0\n",
      "SqueezeExcitation-247            [-1, 440, 4, 4]               0\n",
      "          Conv2d-248            [-1, 440, 4, 4]         193,600\n",
      "     BatchNorm2d-249            [-1, 440, 4, 4]             880\n",
      "            ReLU-250            [-1, 440, 4, 4]               0\n",
      "ResBottleneckBlock-251            [-1, 440, 4, 4]               0\n",
      "          Conv2d-252            [-1, 440, 4, 4]         193,600\n",
      "     BatchNorm2d-253            [-1, 440, 4, 4]             880\n",
      "            ReLU-254            [-1, 440, 4, 4]               0\n",
      "          Conv2d-255            [-1, 440, 4, 4]          31,680\n",
      "     BatchNorm2d-256            [-1, 440, 4, 4]             880\n",
      "            ReLU-257            [-1, 440, 4, 4]               0\n",
      "AdaptiveAvgPool2d-258            [-1, 440, 1, 1]               0\n",
      "          Conv2d-259            [-1, 110, 1, 1]          48,510\n",
      "            ReLU-260            [-1, 110, 1, 1]               0\n",
      "          Conv2d-261            [-1, 440, 1, 1]          48,840\n",
      "         Sigmoid-262            [-1, 440, 1, 1]               0\n",
      "SqueezeExcitation-263            [-1, 440, 4, 4]               0\n",
      "          Conv2d-264            [-1, 440, 4, 4]         193,600\n",
      "     BatchNorm2d-265            [-1, 440, 4, 4]             880\n",
      "            ReLU-266            [-1, 440, 4, 4]               0\n",
      "ResBottleneckBlock-267            [-1, 440, 4, 4]               0\n",
      "AdaptiveAvgPool2d-268            [-1, 440, 1, 1]               0\n",
      "          Linear-269                 [-1, 1000]         441,000\n",
      "================================================================\n",
      "Total params: 4,344,144\n",
      "Trainable params: 4,344,144\n",
      "Non-trainable params: 0\n",
      "----------------------------------------------------------------\n",
      "Input size (MB): 0.19\n",
      "Forward/backward pass size (MB): 32.27\n",
      "Params size (MB): 16.57\n",
      "Estimated Total Size (MB): 49.03\n",
      "----------------------------------------------------------------\n"
     ]
    }
   ],
   "source": [
    "weights = models.RegNet_Y_400MF_Weights.DEFAULT\n",
    "model = models.regnet_y_400mf(weights=weights)\n",
    "input_size = (3, 128, 128)\n",
    "summary(model, input_size, device=\"cpu\")"
   ]
  },
  {
   "cell_type": "code",
   "execution_count": 18,
   "metadata": {
    "colab": {
     "base_uri": "https://localhost:8080/"
    },
    "executionInfo": {
     "elapsed": 269,
     "status": "ok",
     "timestamp": 1714381122297,
     "user": {
      "displayName": "Bruno Soares de Castro",
      "userId": "11507589105817192721"
     },
     "user_tz": -60
    },
    "id": "Vvam7gYY6S_p",
    "outputId": "b8e8e2b8-4150-453b-839c-bf7b28d4f993"
   },
   "outputs": [
    {
     "name": "stdout",
     "output_type": "stream",
     "text": [
      "----------------------------------------------------------------\n",
      "        Layer (type)               Output Shape         Param #\n",
      "================================================================\n",
      "            Conv2d-1           [-1, 32, 64, 64]             864\n",
      "       BatchNorm2d-2           [-1, 32, 64, 64]              64\n",
      "              ReLU-3           [-1, 32, 64, 64]               0\n",
      "            Conv2d-4           [-1, 48, 32, 32]           1,536\n",
      "       BatchNorm2d-5           [-1, 48, 32, 32]              96\n",
      "            Conv2d-6           [-1, 48, 64, 64]           1,536\n",
      "       BatchNorm2d-7           [-1, 48, 64, 64]              96\n",
      "              ReLU-8           [-1, 48, 64, 64]               0\n",
      "            Conv2d-9           [-1, 48, 32, 32]           3,456\n",
      "      BatchNorm2d-10           [-1, 48, 32, 32]              96\n",
      "             ReLU-11           [-1, 48, 32, 32]               0\n",
      "AdaptiveAvgPool2d-12             [-1, 48, 1, 1]               0\n",
      "           Conv2d-13              [-1, 8, 1, 1]             392\n",
      "             ReLU-14              [-1, 8, 1, 1]               0\n",
      "           Conv2d-15             [-1, 48, 1, 1]             432\n",
      "          Sigmoid-16             [-1, 48, 1, 1]               0\n",
      "SqueezeExcitation-17           [-1, 48, 32, 32]               0\n",
      "           Conv2d-18           [-1, 48, 32, 32]           2,304\n",
      "      BatchNorm2d-19           [-1, 48, 32, 32]              96\n",
      "             ReLU-20           [-1, 48, 32, 32]               0\n",
      "ResBottleneckBlock-21           [-1, 48, 32, 32]               0\n",
      "           Conv2d-22          [-1, 104, 16, 16]           4,992\n",
      "      BatchNorm2d-23          [-1, 104, 16, 16]             208\n",
      "           Conv2d-24          [-1, 104, 32, 32]           4,992\n",
      "      BatchNorm2d-25          [-1, 104, 32, 32]             208\n",
      "             ReLU-26          [-1, 104, 32, 32]               0\n",
      "           Conv2d-27          [-1, 104, 16, 16]           7,488\n",
      "      BatchNorm2d-28          [-1, 104, 16, 16]             208\n",
      "             ReLU-29          [-1, 104, 16, 16]               0\n",
      "AdaptiveAvgPool2d-30            [-1, 104, 1, 1]               0\n",
      "           Conv2d-31             [-1, 12, 1, 1]           1,260\n",
      "             ReLU-32             [-1, 12, 1, 1]               0\n",
      "           Conv2d-33            [-1, 104, 1, 1]           1,352\n",
      "          Sigmoid-34            [-1, 104, 1, 1]               0\n",
      "SqueezeExcitation-35          [-1, 104, 16, 16]               0\n",
      "           Conv2d-36          [-1, 104, 16, 16]          10,816\n",
      "      BatchNorm2d-37          [-1, 104, 16, 16]             208\n",
      "             ReLU-38          [-1, 104, 16, 16]               0\n",
      "ResBottleneckBlock-39          [-1, 104, 16, 16]               0\n",
      "           Conv2d-40          [-1, 104, 16, 16]          10,816\n",
      "      BatchNorm2d-41          [-1, 104, 16, 16]             208\n",
      "             ReLU-42          [-1, 104, 16, 16]               0\n",
      "           Conv2d-43          [-1, 104, 16, 16]           7,488\n",
      "      BatchNorm2d-44          [-1, 104, 16, 16]             208\n",
      "             ReLU-45          [-1, 104, 16, 16]               0\n",
      "AdaptiveAvgPool2d-46            [-1, 104, 1, 1]               0\n",
      "           Conv2d-47             [-1, 26, 1, 1]           2,730\n",
      "             ReLU-48             [-1, 26, 1, 1]               0\n",
      "           Conv2d-49            [-1, 104, 1, 1]           2,808\n",
      "          Sigmoid-50            [-1, 104, 1, 1]               0\n",
      "SqueezeExcitation-51          [-1, 104, 16, 16]               0\n",
      "           Conv2d-52          [-1, 104, 16, 16]          10,816\n",
      "      BatchNorm2d-53          [-1, 104, 16, 16]             208\n",
      "             ReLU-54          [-1, 104, 16, 16]               0\n",
      "ResBottleneckBlock-55          [-1, 104, 16, 16]               0\n",
      "           Conv2d-56          [-1, 104, 16, 16]          10,816\n",
      "      BatchNorm2d-57          [-1, 104, 16, 16]             208\n",
      "             ReLU-58          [-1, 104, 16, 16]               0\n",
      "           Conv2d-59          [-1, 104, 16, 16]           7,488\n",
      "      BatchNorm2d-60          [-1, 104, 16, 16]             208\n",
      "             ReLU-61          [-1, 104, 16, 16]               0\n",
      "AdaptiveAvgPool2d-62            [-1, 104, 1, 1]               0\n",
      "           Conv2d-63             [-1, 26, 1, 1]           2,730\n",
      "             ReLU-64             [-1, 26, 1, 1]               0\n",
      "           Conv2d-65            [-1, 104, 1, 1]           2,808\n",
      "          Sigmoid-66            [-1, 104, 1, 1]               0\n",
      "SqueezeExcitation-67          [-1, 104, 16, 16]               0\n",
      "           Conv2d-68          [-1, 104, 16, 16]          10,816\n",
      "      BatchNorm2d-69          [-1, 104, 16, 16]             208\n",
      "             ReLU-70          [-1, 104, 16, 16]               0\n",
      "ResBottleneckBlock-71          [-1, 104, 16, 16]               0\n",
      "           Conv2d-72            [-1, 208, 8, 8]          21,632\n",
      "      BatchNorm2d-73            [-1, 208, 8, 8]             416\n",
      "           Conv2d-74          [-1, 208, 16, 16]          21,632\n",
      "      BatchNorm2d-75          [-1, 208, 16, 16]             416\n",
      "             ReLU-76          [-1, 208, 16, 16]               0\n",
      "           Conv2d-77            [-1, 208, 8, 8]          14,976\n",
      "      BatchNorm2d-78            [-1, 208, 8, 8]             416\n",
      "             ReLU-79            [-1, 208, 8, 8]               0\n",
      "AdaptiveAvgPool2d-80            [-1, 208, 1, 1]               0\n",
      "           Conv2d-81             [-1, 26, 1, 1]           5,434\n",
      "             ReLU-82             [-1, 26, 1, 1]               0\n",
      "           Conv2d-83            [-1, 208, 1, 1]           5,616\n",
      "          Sigmoid-84            [-1, 208, 1, 1]               0\n",
      "SqueezeExcitation-85            [-1, 208, 8, 8]               0\n",
      "           Conv2d-86            [-1, 208, 8, 8]          43,264\n",
      "      BatchNorm2d-87            [-1, 208, 8, 8]             416\n",
      "             ReLU-88            [-1, 208, 8, 8]               0\n",
      "ResBottleneckBlock-89            [-1, 208, 8, 8]               0\n",
      "           Conv2d-90            [-1, 208, 8, 8]          43,264\n",
      "      BatchNorm2d-91            [-1, 208, 8, 8]             416\n",
      "             ReLU-92            [-1, 208, 8, 8]               0\n",
      "           Conv2d-93            [-1, 208, 8, 8]          14,976\n",
      "      BatchNorm2d-94            [-1, 208, 8, 8]             416\n",
      "             ReLU-95            [-1, 208, 8, 8]               0\n",
      "AdaptiveAvgPool2d-96            [-1, 208, 1, 1]               0\n",
      "           Conv2d-97             [-1, 52, 1, 1]          10,868\n",
      "             ReLU-98             [-1, 52, 1, 1]               0\n",
      "           Conv2d-99            [-1, 208, 1, 1]          11,024\n",
      "         Sigmoid-100            [-1, 208, 1, 1]               0\n",
      "SqueezeExcitation-101            [-1, 208, 8, 8]               0\n",
      "          Conv2d-102            [-1, 208, 8, 8]          43,264\n",
      "     BatchNorm2d-103            [-1, 208, 8, 8]             416\n",
      "            ReLU-104            [-1, 208, 8, 8]               0\n",
      "ResBottleneckBlock-105            [-1, 208, 8, 8]               0\n",
      "          Conv2d-106            [-1, 208, 8, 8]          43,264\n",
      "     BatchNorm2d-107            [-1, 208, 8, 8]             416\n",
      "            ReLU-108            [-1, 208, 8, 8]               0\n",
      "          Conv2d-109            [-1, 208, 8, 8]          14,976\n",
      "     BatchNorm2d-110            [-1, 208, 8, 8]             416\n",
      "            ReLU-111            [-1, 208, 8, 8]               0\n",
      "AdaptiveAvgPool2d-112            [-1, 208, 1, 1]               0\n",
      "          Conv2d-113             [-1, 52, 1, 1]          10,868\n",
      "            ReLU-114             [-1, 52, 1, 1]               0\n",
      "          Conv2d-115            [-1, 208, 1, 1]          11,024\n",
      "         Sigmoid-116            [-1, 208, 1, 1]               0\n",
      "SqueezeExcitation-117            [-1, 208, 8, 8]               0\n",
      "          Conv2d-118            [-1, 208, 8, 8]          43,264\n",
      "     BatchNorm2d-119            [-1, 208, 8, 8]             416\n",
      "            ReLU-120            [-1, 208, 8, 8]               0\n",
      "ResBottleneckBlock-121            [-1, 208, 8, 8]               0\n",
      "          Conv2d-122            [-1, 208, 8, 8]          43,264\n",
      "     BatchNorm2d-123            [-1, 208, 8, 8]             416\n",
      "            ReLU-124            [-1, 208, 8, 8]               0\n",
      "          Conv2d-125            [-1, 208, 8, 8]          14,976\n",
      "     BatchNorm2d-126            [-1, 208, 8, 8]             416\n",
      "            ReLU-127            [-1, 208, 8, 8]               0\n",
      "AdaptiveAvgPool2d-128            [-1, 208, 1, 1]               0\n",
      "          Conv2d-129             [-1, 52, 1, 1]          10,868\n",
      "            ReLU-130             [-1, 52, 1, 1]               0\n",
      "          Conv2d-131            [-1, 208, 1, 1]          11,024\n",
      "         Sigmoid-132            [-1, 208, 1, 1]               0\n",
      "SqueezeExcitation-133            [-1, 208, 8, 8]               0\n",
      "          Conv2d-134            [-1, 208, 8, 8]          43,264\n",
      "     BatchNorm2d-135            [-1, 208, 8, 8]             416\n",
      "            ReLU-136            [-1, 208, 8, 8]               0\n",
      "ResBottleneckBlock-137            [-1, 208, 8, 8]               0\n",
      "          Conv2d-138            [-1, 208, 8, 8]          43,264\n",
      "     BatchNorm2d-139            [-1, 208, 8, 8]             416\n",
      "            ReLU-140            [-1, 208, 8, 8]               0\n",
      "          Conv2d-141            [-1, 208, 8, 8]          14,976\n",
      "     BatchNorm2d-142            [-1, 208, 8, 8]             416\n",
      "            ReLU-143            [-1, 208, 8, 8]               0\n",
      "AdaptiveAvgPool2d-144            [-1, 208, 1, 1]               0\n",
      "          Conv2d-145             [-1, 52, 1, 1]          10,868\n",
      "            ReLU-146             [-1, 52, 1, 1]               0\n",
      "          Conv2d-147            [-1, 208, 1, 1]          11,024\n",
      "         Sigmoid-148            [-1, 208, 1, 1]               0\n",
      "SqueezeExcitation-149            [-1, 208, 8, 8]               0\n",
      "          Conv2d-150            [-1, 208, 8, 8]          43,264\n",
      "     BatchNorm2d-151            [-1, 208, 8, 8]             416\n",
      "            ReLU-152            [-1, 208, 8, 8]               0\n",
      "ResBottleneckBlock-153            [-1, 208, 8, 8]               0\n",
      "          Conv2d-154            [-1, 208, 8, 8]          43,264\n",
      "     BatchNorm2d-155            [-1, 208, 8, 8]             416\n",
      "            ReLU-156            [-1, 208, 8, 8]               0\n",
      "          Conv2d-157            [-1, 208, 8, 8]          14,976\n",
      "     BatchNorm2d-158            [-1, 208, 8, 8]             416\n",
      "            ReLU-159            [-1, 208, 8, 8]               0\n",
      "AdaptiveAvgPool2d-160            [-1, 208, 1, 1]               0\n",
      "          Conv2d-161             [-1, 52, 1, 1]          10,868\n",
      "            ReLU-162             [-1, 52, 1, 1]               0\n",
      "          Conv2d-163            [-1, 208, 1, 1]          11,024\n",
      "         Sigmoid-164            [-1, 208, 1, 1]               0\n",
      "SqueezeExcitation-165            [-1, 208, 8, 8]               0\n",
      "          Conv2d-166            [-1, 208, 8, 8]          43,264\n",
      "     BatchNorm2d-167            [-1, 208, 8, 8]             416\n",
      "            ReLU-168            [-1, 208, 8, 8]               0\n",
      "ResBottleneckBlock-169            [-1, 208, 8, 8]               0\n",
      "          Conv2d-170            [-1, 440, 4, 4]          91,520\n",
      "     BatchNorm2d-171            [-1, 440, 4, 4]             880\n",
      "          Conv2d-172            [-1, 440, 8, 8]          91,520\n",
      "     BatchNorm2d-173            [-1, 440, 8, 8]             880\n",
      "            ReLU-174            [-1, 440, 8, 8]               0\n",
      "          Conv2d-175            [-1, 440, 4, 4]          31,680\n",
      "     BatchNorm2d-176            [-1, 440, 4, 4]             880\n",
      "            ReLU-177            [-1, 440, 4, 4]               0\n",
      "AdaptiveAvgPool2d-178            [-1, 440, 1, 1]               0\n",
      "          Conv2d-179             [-1, 52, 1, 1]          22,932\n",
      "            ReLU-180             [-1, 52, 1, 1]               0\n",
      "          Conv2d-181            [-1, 440, 1, 1]          23,320\n",
      "         Sigmoid-182            [-1, 440, 1, 1]               0\n",
      "SqueezeExcitation-183            [-1, 440, 4, 4]               0\n",
      "          Conv2d-184            [-1, 440, 4, 4]         193,600\n",
      "     BatchNorm2d-185            [-1, 440, 4, 4]             880\n",
      "            ReLU-186            [-1, 440, 4, 4]               0\n",
      "ResBottleneckBlock-187            [-1, 440, 4, 4]               0\n",
      "          Conv2d-188            [-1, 440, 4, 4]         193,600\n",
      "     BatchNorm2d-189            [-1, 440, 4, 4]             880\n",
      "            ReLU-190            [-1, 440, 4, 4]               0\n",
      "          Conv2d-191            [-1, 440, 4, 4]          31,680\n",
      "     BatchNorm2d-192            [-1, 440, 4, 4]             880\n",
      "            ReLU-193            [-1, 440, 4, 4]               0\n",
      "AdaptiveAvgPool2d-194            [-1, 440, 1, 1]               0\n",
      "          Conv2d-195            [-1, 110, 1, 1]          48,510\n",
      "            ReLU-196            [-1, 110, 1, 1]               0\n",
      "          Conv2d-197            [-1, 440, 1, 1]          48,840\n",
      "         Sigmoid-198            [-1, 440, 1, 1]               0\n",
      "SqueezeExcitation-199            [-1, 440, 4, 4]               0\n",
      "          Conv2d-200            [-1, 440, 4, 4]         193,600\n",
      "     BatchNorm2d-201            [-1, 440, 4, 4]             880\n",
      "            ReLU-202            [-1, 440, 4, 4]               0\n",
      "ResBottleneckBlock-203            [-1, 440, 4, 4]               0\n",
      "          Conv2d-204            [-1, 440, 4, 4]         193,600\n",
      "     BatchNorm2d-205            [-1, 440, 4, 4]             880\n",
      "            ReLU-206            [-1, 440, 4, 4]               0\n",
      "          Conv2d-207            [-1, 440, 4, 4]          31,680\n",
      "     BatchNorm2d-208            [-1, 440, 4, 4]             880\n",
      "            ReLU-209            [-1, 440, 4, 4]               0\n",
      "AdaptiveAvgPool2d-210            [-1, 440, 1, 1]               0\n",
      "          Conv2d-211            [-1, 110, 1, 1]          48,510\n",
      "            ReLU-212            [-1, 110, 1, 1]               0\n",
      "          Conv2d-213            [-1, 440, 1, 1]          48,840\n",
      "         Sigmoid-214            [-1, 440, 1, 1]               0\n",
      "SqueezeExcitation-215            [-1, 440, 4, 4]               0\n",
      "          Conv2d-216            [-1, 440, 4, 4]         193,600\n",
      "     BatchNorm2d-217            [-1, 440, 4, 4]             880\n",
      "            ReLU-218            [-1, 440, 4, 4]               0\n",
      "ResBottleneckBlock-219            [-1, 440, 4, 4]               0\n",
      "          Conv2d-220            [-1, 440, 4, 4]         193,600\n",
      "     BatchNorm2d-221            [-1, 440, 4, 4]             880\n",
      "            ReLU-222            [-1, 440, 4, 4]               0\n",
      "          Conv2d-223            [-1, 440, 4, 4]          31,680\n",
      "     BatchNorm2d-224            [-1, 440, 4, 4]             880\n",
      "            ReLU-225            [-1, 440, 4, 4]               0\n",
      "AdaptiveAvgPool2d-226            [-1, 440, 1, 1]               0\n",
      "          Conv2d-227            [-1, 110, 1, 1]          48,510\n",
      "            ReLU-228            [-1, 110, 1, 1]               0\n",
      "          Conv2d-229            [-1, 440, 1, 1]          48,840\n",
      "         Sigmoid-230            [-1, 440, 1, 1]               0\n",
      "SqueezeExcitation-231            [-1, 440, 4, 4]               0\n",
      "          Conv2d-232            [-1, 440, 4, 4]         193,600\n",
      "     BatchNorm2d-233            [-1, 440, 4, 4]             880\n",
      "            ReLU-234            [-1, 440, 4, 4]               0\n",
      "ResBottleneckBlock-235            [-1, 440, 4, 4]               0\n",
      "          Conv2d-236            [-1, 440, 4, 4]         193,600\n",
      "     BatchNorm2d-237            [-1, 440, 4, 4]             880\n",
      "            ReLU-238            [-1, 440, 4, 4]               0\n",
      "          Conv2d-239            [-1, 440, 4, 4]          31,680\n",
      "     BatchNorm2d-240            [-1, 440, 4, 4]             880\n",
      "            ReLU-241            [-1, 440, 4, 4]               0\n",
      "AdaptiveAvgPool2d-242            [-1, 440, 1, 1]               0\n",
      "          Conv2d-243            [-1, 110, 1, 1]          48,510\n",
      "            ReLU-244            [-1, 110, 1, 1]               0\n",
      "          Conv2d-245            [-1, 440, 1, 1]          48,840\n",
      "         Sigmoid-246            [-1, 440, 1, 1]               0\n",
      "SqueezeExcitation-247            [-1, 440, 4, 4]               0\n",
      "          Conv2d-248            [-1, 440, 4, 4]         193,600\n",
      "     BatchNorm2d-249            [-1, 440, 4, 4]             880\n",
      "            ReLU-250            [-1, 440, 4, 4]               0\n",
      "ResBottleneckBlock-251            [-1, 440, 4, 4]               0\n",
      "          Conv2d-252            [-1, 440, 4, 4]         193,600\n",
      "     BatchNorm2d-253            [-1, 440, 4, 4]             880\n",
      "            ReLU-254            [-1, 440, 4, 4]               0\n",
      "          Conv2d-255            [-1, 440, 4, 4]          31,680\n",
      "     BatchNorm2d-256            [-1, 440, 4, 4]             880\n",
      "            ReLU-257            [-1, 440, 4, 4]               0\n",
      "AdaptiveAvgPool2d-258            [-1, 440, 1, 1]               0\n",
      "          Conv2d-259            [-1, 110, 1, 1]          48,510\n",
      "            ReLU-260            [-1, 110, 1, 1]               0\n",
      "          Conv2d-261            [-1, 440, 1, 1]          48,840\n",
      "         Sigmoid-262            [-1, 440, 1, 1]               0\n",
      "SqueezeExcitation-263            [-1, 440, 4, 4]               0\n",
      "          Conv2d-264            [-1, 440, 4, 4]         193,600\n",
      "     BatchNorm2d-265            [-1, 440, 4, 4]             880\n",
      "            ReLU-266            [-1, 440, 4, 4]               0\n",
      "ResBottleneckBlock-267            [-1, 440, 4, 4]               0\n",
      "AdaptiveAvgPool2d-268            [-1, 440, 1, 1]               0\n",
      "          Linear-269                   [-1, 10]           4,410\n",
      "================================================================\n",
      "Total params: 3,907,554\n",
      "Trainable params: 3,907,554\n",
      "Non-trainable params: 0\n",
      "----------------------------------------------------------------\n",
      "Input size (MB): 0.19\n",
      "Forward/backward pass size (MB): 32.26\n",
      "Params size (MB): 14.91\n",
      "Estimated Total Size (MB): 47.35\n",
      "----------------------------------------------------------------\n"
     ]
    }
   ],
   "source": [
    "for index, (name, param) in enumerate(model.named_parameters()):\n",
    "    param.requires_grad = True\n",
    "\n",
    "\n",
    "NUM_CLASSES = 10\n",
    "model.fc = torch.nn.Linear(model.fc.in_features, NUM_CLASSES)\n",
    "\n",
    "summary(model, input_size, device=\"cpu\")"
   ]
  },
  {
   "cell_type": "code",
   "execution_count": 19,
   "metadata": {
    "colab": {
     "base_uri": "https://localhost:8080/"
    },
    "executionInfo": {
     "elapsed": 290,
     "status": "ok",
     "timestamp": 1714381153985,
     "user": {
      "displayName": "Bruno Soares de Castro",
      "userId": "11507589105817192721"
     },
     "user_tz": -60
    },
    "id": "b6vioXkhp5Rt",
    "outputId": "e6172610-9f1e-4964-9456-6b56df558207"
   },
   "outputs": [
    {
     "name": "stderr",
     "output_type": "stream",
     "text": [
      "INFO: Seed set to 546\n",
      "INFO:lightning.fabric.utilities.seed:Seed set to 546\n"
     ]
    }
   ],
   "source": [
    "pl.seed_everything(RANDOM_SEED)\n",
    "\n",
    "class LightningModel(pl.LightningModule):\n",
    "    def __init__(self, model, optimizer_name, optimizer_hparams):\n",
    "        \"\"\"LightningModel.\n",
    "        Args:\n",
    "            model: Name of the model/CNN to run. Used for creating the model\n",
    "            optimizer_name: Name of the optimizer to use. Currently supported: Adam, SGD\n",
    "            optimizer_hparams: Hyperparameters for the optimizer, as dictionary. This includes learning rate, weight decay, etc.\n",
    "         \"\"\"\n",
    "        super().__init__()\n",
    "\n",
    "        self.model = model\n",
    "        self.save_hyperparameters(ignore=['model'])\n",
    "\n",
    "        # Set up attributes for computing the accuracy\n",
    "        self.train_acc = torchmetrics.Accuracy(task='multiclass', num_classes=NUM_CLASSES)\n",
    "        self.valid_acc = torchmetrics.Accuracy(task='multiclass', num_classes=NUM_CLASSES)\n",
    "        self.test_acc = torchmetrics.Accuracy(task='multiclass', num_classes=NUM_CLASSES)\n",
    "\n",
    "    # Defining the forward method is only necessary\n",
    "    # if you want to use a Trainer's .predict() method (optional)\n",
    "    def forward(self, x):\n",
    "        return self.model(x)\n",
    "\n",
    "    # A common forward step to compute the loss and labels\n",
    "    # this is used for training, validation, and testing below\n",
    "    def _shared_step(self, batch):\n",
    "        features, true_labels = batch\n",
    "        logits = self(features)\n",
    "        loss = torch.nn.functional.cross_entropy(logits, true_labels)\n",
    "        predicted_labels = torch.argmax(logits, dim=1)\n",
    "\n",
    "        return loss, true_labels, predicted_labels\n",
    "\n",
    "    def training_step(self, batch, batch_idx):\n",
    "        loss, true_labels, predicted_labels = self._shared_step(batch)\n",
    "        self.train_acc.update(predicted_labels, true_labels)\n",
    "        metrics = {'train_loss': loss, 'train_acc': self.train_acc}\n",
    "        self.log_dict(metrics, on_epoch=True, on_step=False, prog_bar=True)\n",
    "        return loss  # this is passed to the optimzer for training\n",
    "\n",
    "    def validation_step(self, batch, batch_idx):\n",
    "        loss, true_labels, predicted_labels = self._shared_step(batch)\n",
    "        self.valid_acc(predicted_labels, true_labels)\n",
    "        metrics = {'valid_loss': loss, 'valid_acc': self.valid_acc}\n",
    "        self.log_dict(metrics, on_epoch=True, on_step=False, prog_bar=True)\n",
    "\n",
    "    def test_step(self, batch, batch_idx):\n",
    "        loss, true_labels, predicted_labels = self._shared_step(batch)\n",
    "        self.test_acc(predicted_labels, true_labels)\n",
    "        metrics = {'test_loss': loss, 'test_acc': self.test_acc}\n",
    "        self.log_dict(metrics, on_epoch=True, on_step=False, prog_bar=True)\n",
    "\n",
    "    def configure_optimizers(self):\n",
    "      # We will support Adam or SGD as optimizers.\n",
    "      if self.hparams.optimizer_name == \"Adam\":\n",
    "          optimizer = torch.optim.AdamW(self.parameters(), **self.hparams.optimizer_hparams)\n",
    "      elif self.hparams.optimizer_name == \"SGD\":\n",
    "          optimizer = torch.optim.SGD(self.parameters(), **self.hparams.optimizer_hparams)\n",
    "      else:\n",
    "          assert False, f'Unknown optimizer: \"{self.hparams.optimizer_name}\"'\n",
    "\n",
    "      # scheduler = torch.optim.swa_utils.SWALR(optimizer, anneal_strategy=\"cos\", anneal_epochs=5, swa_lr=0.002)\n",
    "      scheduler = torch.optim.lr_scheduler.ReduceLROnPlateau(optimizer, factor=0.1, patience=5)\n",
    "      return {\"optimizer\": optimizer, \"lr_scheduler\": scheduler, \"monitor\": \"valid_loss\"}"
   ]
  },
  {
   "cell_type": "code",
   "execution_count": 20,
   "metadata": {
    "colab": {
     "base_uri": "https://localhost:8080/"
    },
    "executionInfo": {
     "elapsed": 5,
     "status": "ok",
     "timestamp": 1714381177626,
     "user": {
      "displayName": "Bruno Soares de Castro",
      "userId": "11507589105817192721"
     },
     "user_tz": -60
    },
    "id": "PqlI7ZIKrs3j",
    "outputId": "be8db207-af56-489f-d63c-8c527789d2c9"
   },
   "outputs": [
    {
     "name": "stderr",
     "output_type": "stream",
     "text": [
      "INFO: Seed set to 546\n",
      "INFO:lightning.fabric.utilities.seed:Seed set to 546\n"
     ]
    }
   ],
   "source": [
    "pl.seed_everything(RANDOM_SEED)\n",
    "\n",
    "optimizer_name = \"Adam\"\n",
    "optimizer_hparams = {\"lr\": 0.00003, \"betas\": (0.9, 0.999), \"eps\": 1e-08, \"weight_decay\": 0.01, \"amsgrad\": False}\n",
    "\n",
    "model_light = LightningModel(model, optimizer_name, optimizer_hparams)\n",
    "\n",
    "arch = 'regnet_y_400m'\n",
    "\n",
    "cbs = ModelCheckpoint(dirpath = f'./checkpoints_{arch}',\n",
    "                                   filename = arch,\n",
    "                                   verbose = True,\n",
    "                                   monitor = 'valid_loss',\n",
    "                                   mode = 'min')\n",
    "\n",
    "logger_csv = CSVLogger(save_dir=\"logs/\", name=\"my-model\")"
   ]
  },
  {
   "cell_type": "code",
   "execution_count": 39,
   "metadata": {
    "colab": {
     "base_uri": "https://localhost:8080/"
    },
    "executionInfo": {
     "elapsed": 293,
     "status": "ok",
     "timestamp": 1714383518842,
     "user": {
      "displayName": "Bruno Soares de Castro",
      "userId": "11507589105817192721"
     },
     "user_tz": -60
    },
    "id": "tlrYVSXbsr6R",
    "outputId": "006e803d-d7fe-40ec-e4f9-b8501b0e3746"
   },
   "outputs": [
    {
     "name": "stderr",
     "output_type": "stream",
     "text": [
      "INFO: Seed set to 546\n",
      "INFO:lightning.fabric.utilities.seed:Seed set to 546\n",
      "INFO: GPU available: True (cuda), used: True\n",
      "INFO:lightning.pytorch.utilities.rank_zero:GPU available: True (cuda), used: True\n",
      "INFO: TPU available: False, using: 0 TPU cores\n",
      "INFO:lightning.pytorch.utilities.rank_zero:TPU available: False, using: 0 TPU cores\n",
      "INFO: IPU available: False, using: 0 IPUs\n",
      "INFO:lightning.pytorch.utilities.rank_zero:IPU available: False, using: 0 IPUs\n",
      "INFO: HPU available: False, using: 0 HPUs\n",
      "INFO:lightning.pytorch.utilities.rank_zero:HPU available: False, using: 0 HPUs\n",
      "INFO: `Trainer(limit_val_batches=1)` was configured so 1 batch will be used.\n",
      "INFO:lightning.pytorch.utilities.rank_zero:`Trainer(limit_val_batches=1)` was configured so 1 batch will be used.\n"
     ]
    }
   ],
   "source": [
    "pl.seed_everything(RANDOM_SEED)\n",
    "\n",
    "PERCENT_VALID_EXAMPLES = 1\n",
    "EPOCHS = 20\n",
    "LOG_EVERY_N_STEPS = 1\n",
    "\n",
    "trainer = pl.Trainer(\n",
    "    limit_val_batches = PERCENT_VALID_EXAMPLES,\n",
    "    max_epochs = EPOCHS,\n",
    "    logger=logger_csv,\n",
    "    callbacks = cbs,\n",
    "    log_every_n_steps=LOG_EVERY_N_STEPS,\n",
    "    accelerator=\"auto\",  # Uses GPUs or TPUs if available\n",
    "    devices=\"auto\",  # Uses all available GPUs/TPUs if applicable\n",
    "\n",
    ")\n",
    "\n",
    "# trainer.fit(model_light, train_dataloaders = train_loader, val_dataloaders=valid_loader)"
   ]
  },
  {
   "cell_type": "code",
   "execution_count": 23,
   "metadata": {
    "colab": {
     "base_uri": "https://localhost:8080/",
     "height": 104,
     "referenced_widgets": [
      "5736a920d93145cfa60d893606f8ec97",
      "ae35746fc2754799ac023914f6ecc36c",
      "40ece0ee14b0494b913085223b2f8815",
      "4af9db8cda61442b837bec1df8083a24",
      "6d59b4739dc04312a9817c1b3a2c61d0",
      "594be9af720c4b59bc30168fd9a27d44",
      "6e069e2cee6c4ef6afc3f2ed1d2bf8ef",
      "13dbccd9f1e642d596557d17acfc3e97",
      "0781efd1545e445ab3d4179b0532ebec",
      "c5db4491996d42158039080d16d03dc4",
      "fcea1a844eff49e7a39c1304a427e54e"
     ]
    },
    "executionInfo": {
     "elapsed": 24379,
     "status": "ok",
     "timestamp": 1714382838683,
     "user": {
      "displayName": "Bruno Soares de Castro",
      "userId": "11507589105817192721"
     },
     "user_tz": -60
    },
    "id": "bTzKf6t4bYyz",
    "outputId": "932534c1-edd7-42a5-b5e8-cf3a1ada96d3"
   },
   "outputs": [
    {
     "name": "stderr",
     "output_type": "stream",
     "text": [
      "INFO: LOCAL_RANK: 0 - CUDA_VISIBLE_DEVICES: [0]\n",
      "INFO:lightning.pytorch.accelerators.cuda:LOCAL_RANK: 0 - CUDA_VISIBLE_DEVICES: [0]\n"
     ]
    },
    {
     "data": {
      "application/vnd.jupyter.widget-view+json": {
       "model_id": "5736a920d93145cfa60d893606f8ec97",
       "version_major": 2,
       "version_minor": 0
      },
      "text/plain": [
       "Testing: |          | 0/? [00:00<?, ?it/s]"
      ]
     },
     "metadata": {},
     "output_type": "display_data"
    },
    {
     "name": "stdout",
     "output_type": "stream",
     "text": [
      "[{'test_loss': 1.4662026166915894, 'test_acc': 0.6566666960716248}]\n"
     ]
    }
   ],
   "source": [
    "# run test dataset\n",
    "test_metrics = trainer.test(model_light, dataloaders=test_loader, verbose=False)\n",
    "print(test_metrics)"
   ]
  },
  {
   "cell_type": "markdown",
   "metadata": {
    "id": "RHvCItUZS6Lg"
   },
   "source": [
    "## Load the model from the checkpoint"
   ]
  },
  {
   "cell_type": "code",
   "execution_count": 29,
   "metadata": {
    "colab": {
     "base_uri": "https://localhost:8080/"
    },
    "executionInfo": {
     "elapsed": 286,
     "status": "ok",
     "timestamp": 1714383095148,
     "user": {
      "displayName": "Bruno Soares de Castro",
      "userId": "11507589105817192721"
     },
     "user_tz": -60
    },
    "id": "W_GVNH_nnEFJ",
    "outputId": "b1ed8bb3-1ceb-4d01-8a7d-48a76754a305"
   },
   "outputs": [
    {
     "name": "stderr",
     "output_type": "stream",
     "text": [
      "INFO: Seed set to 546\n",
      "INFO:lightning.fabric.utilities.seed:Seed set to 546\n"
     ]
    },
    {
     "data": {
      "text/plain": [
       "<All keys matched successfully>"
      ]
     },
     "execution_count": 29,
     "metadata": {},
     "output_type": "execute_result"
    }
   ],
   "source": [
    "# If you are working in GPU, please, you do not run: device = torch.device('cpu')\n",
    "device = torch.device('cpu')\n",
    "# /content/gdrive/MyDrive/Colab Notebooks/ClassPreTreined/no_weights\n",
    "checkpoint_file = '/content/gdrive/MyDrive/Colab Notebooks/ClassPreTreined/no_weights/checkpoints_regnet_y_400m/regnet_y_400m.ckpt'\n",
    "\n",
    "pl.seed_everything(RANDOM_SEED)\n",
    "\n",
    "optimizer_name = \"Adam\"\n",
    "optimizer_hparams = {\"lr\": 0.00003, \"betas\": (0.9, 0.999), \"eps\": 1e-08, \"weight_decay\": 0.01, \"amsgrad\": False}\n",
    "\n",
    "model_light = LightningModel(model, optimizer_name, optimizer_hparams)\n",
    "\n",
    "checkpoint = torch.load(checkpoint_file, map_location=device)\n",
    "model_light.load_state_dict(checkpoint['state_dict'])"
   ]
  },
  {
   "cell_type": "code",
   "execution_count": 30,
   "metadata": {
    "colab": {
     "base_uri": "https://localhost:8080/",
     "height": 899
    },
    "executionInfo": {
     "elapsed": 1641,
     "status": "ok",
     "timestamp": 1714383157078,
     "user": {
      "displayName": "Bruno Soares de Castro",
      "userId": "11507589105817192721"
     },
     "user_tz": -60
    },
    "id": "S5wz2SU7L2CU",
    "outputId": "57510571-7f2e-4d15-c617-5822507fb7d1"
   },
   "outputs": [
    {
     "data": {
      "text/plain": [
       "<Axes: xlabel='Epoch', ylabel='ACC'>"
      ]
     },
     "execution_count": 30,
     "metadata": {},
     "output_type": "execute_result"
    },
    {
     "data": {
      "image/png": "[encoded data removed]",
      "text/plain": [
       "<Figure size 640x480 with 1 Axes>"
      ]
     },
     "metadata": {},
     "output_type": "display_data"
    },
    {
     "data": {
      "image/png": "[encoded data removed]",
      "text/plain": [
       "<Figure size 640x480 with 1 Axes>"
      ]
     },
     "metadata": {},
     "output_type": "display_data"
    }
   ],
   "source": [
    "import pandas as pd\n",
    "\n",
    "def printdf(df):\n",
    "  return display(pd.DataFrame(df))\n",
    "\n",
    "path = '/content/gdrive/MyDrive/Colab Notebooks/ClassPreTreined/no_weights/logs/my-model/version_0'\n",
    "metrics = pd.read_csv(f\"{path}/metrics.csv\")\n",
    "metrics\n",
    "\n",
    "aggreg_metrics = []\n",
    "agg_col = \"epoch\"\n",
    "for i, dfg in metrics.groupby(agg_col):\n",
    "    agg = dict(dfg.mean())\n",
    "    agg[agg_col] = i\n",
    "    aggreg_metrics.append(agg)\n",
    "\n",
    "df_metrics = pd.DataFrame(aggreg_metrics)\n",
    "\n",
    "df_metrics[[\"train_loss\", \"valid_loss\"]].plot(grid=True, legend=True, xlabel='Epoch', ylabel='Loss')\n",
    "df_metrics[[\"train_acc\", \"valid_acc\"]].plot(grid=True, legend=True, xlabel='Epoch', ylabel='ACC')"
   ]
  },
  {
   "cell_type": "markdown",
   "metadata": {
    "id": "RIGc90uwTDE3"
   },
   "source": [
    "## This cell must be run if it is the first time.\n",
    "\n",
    "### The results can called from the predict folder."
   ]
  },
  {
   "cell_type": "code",
   "execution_count": 31,
   "metadata": {
    "colab": {
     "base_uri": "https://localhost:8080/"
    },
    "executionInfo": {
     "elapsed": 29728,
     "status": "ok",
     "timestamp": 1714383198515,
     "user": {
      "displayName": "Bruno Soares de Castro",
      "userId": "11507589105817192721"
     },
     "user_tz": -60
    },
    "id": "6I0_Ic66S3Bs",
    "outputId": "be6d9759-8657-4211-f1f5-05fe18867af8"
   },
   "outputs": [
    {
     "name": "stderr",
     "output_type": "stream",
     "text": [
      "INFO: Seed set to 546\n",
      "INFO:lightning.fabric.utilities.seed:Seed set to 546\n",
      "/usr/lib/python3.10/multiprocessing/popen_fork.py:66: RuntimeWarning: os.fork() was called. os.fork() is incompatible with multithreaded code, and JAX is multithreaded, so this will likely lead to a deadlock.\n",
      "  self.pid = os.fork()\n"
     ]
    }
   ],
   "source": [
    "pl.seed_everything(RANDOM_SEED)\n",
    "\n",
    "target_list = []\n",
    "predict_list = []\n",
    "prob_predict_list = []\n",
    "\n",
    "for idx, batch in enumerate(test_loader):\n",
    "    images, targets = batch\n",
    "    with torch.no_grad():\n",
    "      model.eval()\n",
    "      logits = model(images)\n",
    "\n",
    "    prob_predict = logits.sigmoid()\n",
    "\n",
    "    pr_masks = torch.argmax(logits, 1).unsqueeze(1)\n",
    "\n",
    "    target = targets[0].cpu().numpy().astype(int)\n",
    "    target_predict = pr_masks[0][0].cpu().numpy().astype(int)\n",
    "\n",
    "    target_list.append(target)\n",
    "    predict_list.append(target_predict)\n",
    "    prob_predict_list.append(prob_predict)\n",
    "    # if idx == 3:\n",
    "    #   break\n",
    "\n",
    "target_ = np.vstack(target_list)\n",
    "predict_ = np.vstack(predict_list)\n",
    "prob_predict_ = np.vstack(prob_predict_list)"
   ]
  },
  {
   "cell_type": "markdown",
   "metadata": {
    "id": "Vc0YivJ5V5Bf"
   },
   "source": [
    "## It will call the results saved from the previous cell in folder"
   ]
  },
  {
   "cell_type": "code",
   "execution_count": 35,
   "metadata": {
    "colab": {
     "base_uri": "https://localhost:8080/"
    },
    "executionInfo": {
     "elapsed": 528,
     "status": "ok",
     "timestamp": 1714383287613,
     "user": {
      "displayName": "Bruno Soares de Castro",
      "userId": "11507589105817192721"
     },
     "user_tz": -60
    },
    "id": "nIDJlxAHVglU",
    "outputId": "e0919908-25cd-4f7a-b619-4356b7365644"
   },
   "outputs": [
    {
     "name": "stdout",
     "output_type": "stream",
     "text": [
      "(1500, 1)\n",
      "(1500, 1)\n",
      "(1500, 10)\n"
     ]
    }
   ],
   "source": [
    "# %mkdir predict\n",
    "\n",
    "path = '/content/gdrive/MyDrive/Colab Notebooks/ClassPreTreined/no_weights/predict'\n",
    "\n",
    "# np.save(f'{path}/target.npy', target_)\n",
    "# np.save(f'{path}/predict.npy', predict_)\n",
    "# np.save(f'{path}/prob_predict.npy', prob_predict_)\n",
    "\n",
    "target = np.load(f'{path}/target.npy')\n",
    "predict = np.load(f'{path}/predict.npy')\n",
    "prob_predict = np.load(f'{path}/prob_predict.npy')\n",
    "\n",
    "print(target.shape)\n",
    "print(predict.shape)\n",
    "print(prob_predict.shape)"
   ]
  },
  {
   "cell_type": "code",
   "execution_count": 36,
   "metadata": {
    "colab": {
     "base_uri": "https://localhost:8080/",
     "height": 381
    },
    "executionInfo": {
     "elapsed": 1543,
     "status": "ok",
     "timestamp": 1714383292134,
     "user": {
      "displayName": "Bruno Soares de Castro",
      "userId": "11507589105817192721"
     },
     "user_tz": -60
    },
    "id": "54Lj2Zb6WUsM",
    "outputId": "d10acaae-2d43-4bec-809f-5823a72225f5"
   },
   "outputs": [
    {
     "name": "stdout",
     "output_type": "stream",
     "text": [
      "Confusion Matrix:\n"
     ]
    },
    {
     "data": {
      "application/vnd.google.colaboratory.intrinsic+json": {
       "summary": "{\n  \"name\": \"printdf(conf_matrix)\",\n  \"rows\": 10,\n  \"fields\": [\n    {\n      \"column\": 0,\n      \"properties\": {\n        \"dtype\": \"number\",\n        \"std\": 4,\n        \"min\": 0,\n        \"max\": 15,\n        \"num_unique_values\": 2,\n        \"samples\": [\n          0,\n          15\n        ],\n        \"semantic_type\": \"\",\n        \"description\": \"\"\n      }\n    },\n    {\n      \"column\": 1,\n      \"properties\": {\n        \"dtype\": \"number\",\n        \"std\": 56,\n        \"min\": 0,\n        \"max\": 178,\n        \"num_unique_values\": 2,\n        \"samples\": [\n          178,\n          0\n        ],\n        \"semantic_type\": \"\",\n        \"description\": \"\"\n      }\n    },\n    {\n      \"column\": 2,\n      \"properties\": {\n        \"dtype\": \"number\",\n        \"std\": 49,\n        \"min\": 0,\n        \"max\": 152,\n        \"num_unique_values\": 10,\n        \"samples\": [\n          20,\n          3\n        ],\n        \"semantic_type\": \"\",\n        \"description\": \"\"\n      }\n    },\n    {\n      \"column\": 3,\n      \"properties\": {\n        \"dtype\": \"number\",\n        \"std\": 15,\n        \"min\": 0,\n        \"max\": 50,\n        \"num_unique_values\": 3,\n        \"samples\": [\n          1,\n          0\n        ],\n        \"semantic_type\": \"\",\n        \"description\": \"\"\n      }\n    },\n    {\n      \"column\": 4,\n      \"properties\": {\n        \"dtype\": \"number\",\n        \"std\": 35,\n        \"min\": 0,\n        \"max\": 112,\n        \"num_unique_values\": 4,\n        \"samples\": [\n          112,\n          2\n        ],\n        \"semantic_type\": \"\",\n        \"description\": \"\"\n      }\n    },\n    {\n      \"column\": 5,\n      \"properties\": {\n        \"dtype\": \"number\",\n        \"std\": 43,\n        \"min\": 0,\n        \"max\": 129,\n        \"num_unique_values\": 10,\n        \"samples\": [\n          34,\n          0\n        ],\n        \"semantic_type\": \"\",\n        \"description\": \"\"\n      }\n    },\n    {\n      \"column\": 6,\n      \"properties\": {\n        \"dtype\": \"number\",\n        \"std\": 16,\n        \"min\": 0,\n        \"max\": 52,\n        \"num_unique_values\": 3,\n        \"samples\": [\n          0,\n          1\n        ],\n        \"semantic_type\": \"\",\n        \"description\": \"\"\n      }\n    },\n    {\n      \"column\": 7,\n      \"properties\": {\n        \"dtype\": \"number\",\n        \"std\": 50,\n        \"min\": 0,\n        \"max\": 162,\n        \"num_unique_values\": 6,\n        \"samples\": [\n          4,\n          0\n        ],\n        \"semantic_type\": \"\",\n        \"description\": \"\"\n      }\n    },\n    {\n      \"column\": 8,\n      \"properties\": {\n        \"dtype\": \"number\",\n        \"std\": 23,\n        \"min\": 0,\n        \"max\": 73,\n        \"num_unique_values\": 2,\n        \"samples\": [\n          73,\n          0\n        ],\n        \"semantic_type\": \"\",\n        \"description\": \"\"\n      }\n    },\n    {\n      \"column\": 9,\n      \"properties\": {\n        \"dtype\": \"number\",\n        \"std\": 30,\n        \"min\": 0,\n        \"max\": 97,\n        \"num_unique_values\": 3,\n        \"samples\": [\n          1,\n          0\n        ],\n        \"semantic_type\": \"\",\n        \"description\": \"\"\n      }\n    }\n  ]\n}",
       "type": "dataframe"
      },
      "text/html": [
       "\n",
       "  <div id=\"df-f3ba0df1-feab-4104-a8c4-63f597543c1d\" class=\"colab-df-container\">\n",
       "    <div>\n",
       "<style scoped>\n",
       "    .dataframe tbody tr th:only-of-type {\n",
       "        vertical-align: middle;\n",
       "    }\n",
       "\n",
       "    .dataframe tbody tr th {\n",
       "        vertical-align: top;\n",
       "    }\n",
       "\n",
       "    .dataframe thead th {\n",
       "        text-align: right;\n",
       "    }\n",
       "</style>\n",
       "<table border=\"1\" class=\"dataframe\">\n",
       "  <thead>\n",
       "    <tr style=\"text-align: right;\">\n",
       "      <th></th>\n",
       "      <th>0</th>\n",
       "      <th>1</th>\n",
       "      <th>2</th>\n",
       "      <th>3</th>\n",
       "      <th>4</th>\n",
       "      <th>5</th>\n",
       "      <th>6</th>\n",
       "      <th>7</th>\n",
       "      <th>8</th>\n",
       "      <th>9</th>\n",
       "    </tr>\n",
       "  </thead>\n",
       "  <tbody>\n",
       "    <tr>\n",
       "      <th>0</th>\n",
       "      <td>15</td>\n",
       "      <td>0</td>\n",
       "      <td>98</td>\n",
       "      <td>1</td>\n",
       "      <td>0</td>\n",
       "      <td>21</td>\n",
       "      <td>0</td>\n",
       "      <td>4</td>\n",
       "      <td>0</td>\n",
       "      <td>1</td>\n",
       "    </tr>\n",
       "    <tr>\n",
       "      <th>1</th>\n",
       "      <td>0</td>\n",
       "      <td>178</td>\n",
       "      <td>3</td>\n",
       "      <td>0</td>\n",
       "      <td>0</td>\n",
       "      <td>0</td>\n",
       "      <td>1</td>\n",
       "      <td>4</td>\n",
       "      <td>0</td>\n",
       "      <td>0</td>\n",
       "    </tr>\n",
       "    <tr>\n",
       "      <th>2</th>\n",
       "      <td>0</td>\n",
       "      <td>0</td>\n",
       "      <td>152</td>\n",
       "      <td>0</td>\n",
       "      <td>0</td>\n",
       "      <td>2</td>\n",
       "      <td>0</td>\n",
       "      <td>0</td>\n",
       "      <td>0</td>\n",
       "      <td>0</td>\n",
       "    </tr>\n",
       "    <tr>\n",
       "      <th>3</th>\n",
       "      <td>0</td>\n",
       "      <td>0</td>\n",
       "      <td>30</td>\n",
       "      <td>50</td>\n",
       "      <td>0</td>\n",
       "      <td>78</td>\n",
       "      <td>0</td>\n",
       "      <td>2</td>\n",
       "      <td>0</td>\n",
       "      <td>0</td>\n",
       "    </tr>\n",
       "    <tr>\n",
       "      <th>4</th>\n",
       "      <td>0</td>\n",
       "      <td>0</td>\n",
       "      <td>29</td>\n",
       "      <td>0</td>\n",
       "      <td>112</td>\n",
       "      <td>7</td>\n",
       "      <td>0</td>\n",
       "      <td>4</td>\n",
       "      <td>0</td>\n",
       "      <td>0</td>\n",
       "    </tr>\n",
       "    <tr>\n",
       "      <th>5</th>\n",
       "      <td>0</td>\n",
       "      <td>0</td>\n",
       "      <td>0</td>\n",
       "      <td>0</td>\n",
       "      <td>0</td>\n",
       "      <td>129</td>\n",
       "      <td>0</td>\n",
       "      <td>0</td>\n",
       "      <td>0</td>\n",
       "      <td>0</td>\n",
       "    </tr>\n",
       "    <tr>\n",
       "      <th>6</th>\n",
       "      <td>0</td>\n",
       "      <td>0</td>\n",
       "      <td>18</td>\n",
       "      <td>0</td>\n",
       "      <td>1</td>\n",
       "      <td>75</td>\n",
       "      <td>52</td>\n",
       "      <td>0</td>\n",
       "      <td>0</td>\n",
       "      <td>0</td>\n",
       "    </tr>\n",
       "    <tr>\n",
       "      <th>7</th>\n",
       "      <td>0</td>\n",
       "      <td>0</td>\n",
       "      <td>9</td>\n",
       "      <td>0</td>\n",
       "      <td>0</td>\n",
       "      <td>1</td>\n",
       "      <td>0</td>\n",
       "      <td>162</td>\n",
       "      <td>0</td>\n",
       "      <td>0</td>\n",
       "    </tr>\n",
       "    <tr>\n",
       "      <th>8</th>\n",
       "      <td>0</td>\n",
       "      <td>0</td>\n",
       "      <td>20</td>\n",
       "      <td>0</td>\n",
       "      <td>0</td>\n",
       "      <td>34</td>\n",
       "      <td>0</td>\n",
       "      <td>3</td>\n",
       "      <td>73</td>\n",
       "      <td>0</td>\n",
       "    </tr>\n",
       "    <tr>\n",
       "      <th>9</th>\n",
       "      <td>0</td>\n",
       "      <td>0</td>\n",
       "      <td>5</td>\n",
       "      <td>0</td>\n",
       "      <td>2</td>\n",
       "      <td>14</td>\n",
       "      <td>0</td>\n",
       "      <td>13</td>\n",
       "      <td>0</td>\n",
       "      <td>97</td>\n",
       "    </tr>\n",
       "  </tbody>\n",
       "</table>\n",
       "</div>\n",
       "    <div class=\"colab-df-buttons\">\n",
       "\n",
       "  <div class=\"colab-df-container\">\n",
       "    <button class=\"colab-df-convert\" onclick=\"convertToInteractive('df-f3ba0df1-feab-4104-a8c4-63f597543c1d')\"\n",
       "            title=\"Convert this dataframe to an interactive table.\"\n",
       "            style=\"display:none;\">\n",
       "\n",
       "  <svg xmlns=\"http://www.w3.org/2000/svg\" height=\"24px\" viewBox=\"0 -960 960 960\">\n",
       "    <path d=\"M120-120v-720h720v720H120Zm60-500h600v-160H180v160Zm220 220h160v-160H400v160Zm0 220h160v-160H400v160ZM180-400h160v-160H180v160Zm440 0h160v-160H620v160ZM180-180h160v-160H180v160Zm440 0h160v-160H620v160Z\"/>\n",
       "  </svg>\n",
       "    </button>\n",
       "\n",
       "  <style>\n",
       "    .colab-df-container {\n",
       "      display:flex;\n",
       "      gap: 12px;\n",
       "    }\n",
       "\n",
       "    .colab-df-convert {\n",
       "      background-color: #E8F0FE;\n",
       "      border: none;\n",
       "      border-radius: 50%;\n",
       "      cursor: pointer;\n",
       "      display: none;\n",
       "      fill: #1967D2;\n",
       "      height: 32px;\n",
       "      padding: 0 0 0 0;\n",
       "      width: 32px;\n",
       "    }\n",
       "\n",
       "    .colab-df-convert:hover {\n",
       "      background-color: #E2EBFA;\n",
       "      box-shadow: 0px 1px 2px rgba(60, 64, 67, 0.3), 0px 1px 3px 1px rgba(60, 64, 67, 0.15);\n",
       "      fill: #174EA6;\n",
       "    }\n",
       "\n",
       "    .colab-df-buttons div {\n",
       "      margin-bottom: 4px;\n",
       "    }\n",
       "\n",
       "    [theme=dark] .colab-df-convert {\n",
       "      background-color: #3B4455;\n",
       "      fill: #D2E3FC;\n",
       "    }\n",
       "\n",
       "    [theme=dark] .colab-df-convert:hover {\n",
       "      background-color: #434B5C;\n",
       "      box-shadow: 0px 1px 3px 1px rgba(0, 0, 0, 0.15);\n",
       "      filter: drop-shadow(0px 1px 2px rgba(0, 0, 0, 0.3));\n",
       "      fill: #FFFFFF;\n",
       "    }\n",
       "  </style>\n",
       "\n",
       "    <script>\n",
       "      const buttonEl =\n",
       "        document.querySelector('#df-f3ba0df1-feab-4104-a8c4-63f597543c1d button.colab-df-convert');\n",
       "      buttonEl.style.display =\n",
       "        google.colab.kernel.accessAllowed ? 'block' : 'none';\n",
       "\n",
       "      async function convertToInteractive(key) {\n",
       "        const element = document.querySelector('#df-f3ba0df1-feab-4104-a8c4-63f597543c1d');\n",
       "        const dataTable =\n",
       "          await google.colab.kernel.invokeFunction('convertToInteractive',\n",
       "                                                    [key], {});\n",
       "        if (!dataTable) return;\n",
       "\n",
       "        const docLinkHtml = 'Like what you see? Visit the ' +\n",
       "          '<a target=\"_blank\" href=https://colab.research.google.com/notebooks/data_table.ipynb>data table notebook</a>'\n",
       "          + ' to learn more about interactive tables.';\n",
       "        element.innerHTML = '';\n",
       "        dataTable['output_type'] = 'display_data';\n",
       "        await google.colab.output.renderOutput(dataTable, element);\n",
       "        const docLink = document.createElement('div');\n",
       "        docLink.innerHTML = docLinkHtml;\n",
       "        element.appendChild(docLink);\n",
       "      }\n",
       "    </script>\n",
       "  </div>\n",
       "\n",
       "\n",
       "<div id=\"df-58061218-f35e-4c2d-9612-b1d420d3fe66\">\n",
       "  <button class=\"colab-df-quickchart\" onclick=\"quickchart('df-58061218-f35e-4c2d-9612-b1d420d3fe66')\"\n",
       "            title=\"Suggest charts\"\n",
       "            style=\"display:none;\">\n",
       "\n",
       "<svg xmlns=\"http://www.w3.org/2000/svg\" height=\"24px\"viewBox=\"0 0 24 24\"\n",
       "     width=\"24px\">\n",
       "    <g>\n",
       "        <path d=\"M19 3H5c-1.1 0-2 .9-2 2v14c0 1.1.9 2 2 2h14c1.1 0 2-.9 2-2V5c0-1.1-.9-2-2-2zM9 17H7v-7h2v7zm4 0h-2V7h2v10zm4 0h-2v-4h2v4z\"/>\n",
       "    </g>\n",
       "</svg>\n",
       "  </button>\n",
       "\n",
       "<style>\n",
       "  .colab-df-quickchart {\n",
       "      --bg-color: #E8F0FE;\n",
       "      --fill-color: #1967D2;\n",
       "      --hover-bg-color: #E2EBFA;\n",
       "      --hover-fill-color: #174EA6;\n",
       "      --disabled-fill-color: #AAA;\n",
       "      --disabled-bg-color: #DDD;\n",
       "  }\n",
       "\n",
       "  [theme=dark] .colab-df-quickchart {\n",
       "      --bg-color: #3B4455;\n",
       "      --fill-color: #D2E3FC;\n",
       "      --hover-bg-color: #434B5C;\n",
       "      --hover-fill-color: #FFFFFF;\n",
       "      --disabled-bg-color: #3B4455;\n",
       "      --disabled-fill-color: #666;\n",
       "  }\n",
       "\n",
       "  .colab-df-quickchart {\n",
       "    background-color: var(--bg-color);\n",
       "    border: none;\n",
       "    border-radius: 50%;\n",
       "    cursor: pointer;\n",
       "    display: none;\n",
       "    fill: var(--fill-color);\n",
       "    height: 32px;\n",
       "    padding: 0;\n",
       "    width: 32px;\n",
       "  }\n",
       "\n",
       "  .colab-df-quickchart:hover {\n",
       "    background-color: var(--hover-bg-color);\n",
       "    box-shadow: 0 1px 2px rgba(60, 64, 67, 0.3), 0 1px 3px 1px rgba(60, 64, 67, 0.15);\n",
       "    fill: var(--button-hover-fill-color);\n",
       "  }\n",
       "\n",
       "  .colab-df-quickchart-complete:disabled,\n",
       "  .colab-df-quickchart-complete:disabled:hover {\n",
       "    background-color: var(--disabled-bg-color);\n",
       "    fill: var(--disabled-fill-color);\n",
       "    box-shadow: none;\n",
       "  }\n",
       "\n",
       "  .colab-df-spinner {\n",
       "    border: 2px solid var(--fill-color);\n",
       "    border-color: transparent;\n",
       "    border-bottom-color: var(--fill-color);\n",
       "    animation:\n",
       "      spin 1s steps(1) infinite;\n",
       "  }\n",
       "\n",
       "  @keyframes spin {\n",
       "    0% {\n",
       "      border-color: transparent;\n",
       "      border-bottom-color: var(--fill-color);\n",
       "      border-left-color: var(--fill-color);\n",
       "    }\n",
       "    20% {\n",
       "      border-color: transparent;\n",
       "      border-left-color: var(--fill-color);\n",
       "      border-top-color: var(--fill-color);\n",
       "    }\n",
       "    30% {\n",
       "      border-color: transparent;\n",
       "      border-left-color: var(--fill-color);\n",
       "      border-top-color: var(--fill-color);\n",
       "      border-right-color: var(--fill-color);\n",
       "    }\n",
       "    40% {\n",
       "      border-color: transparent;\n",
       "      border-right-color: var(--fill-color);\n",
       "      border-top-color: var(--fill-color);\n",
       "    }\n",
       "    60% {\n",
       "      border-color: transparent;\n",
       "      border-right-color: var(--fill-color);\n",
       "    }\n",
       "    80% {\n",
       "      border-color: transparent;\n",
       "      border-right-color: var(--fill-color);\n",
       "      border-bottom-color: var(--fill-color);\n",
       "    }\n",
       "    90% {\n",
       "      border-color: transparent;\n",
       "      border-bottom-color: var(--fill-color);\n",
       "    }\n",
       "  }\n",
       "</style>\n",
       "\n",
       "  <script>\n",
       "    async function quickchart(key) {\n",
       "      const quickchartButtonEl =\n",
       "        document.querySelector('#' + key + ' button');\n",
       "      quickchartButtonEl.disabled = true;  // To prevent multiple clicks.\n",
       "      quickchartButtonEl.classList.add('colab-df-spinner');\n",
       "      try {\n",
       "        const charts = await google.colab.kernel.invokeFunction(\n",
       "            'suggestCharts', [key], {});\n",
       "      } catch (error) {\n",
       "        console.error('Error during call to suggestCharts:', error);\n",
       "      }\n",
       "      quickchartButtonEl.classList.remove('colab-df-spinner');\n",
       "      quickchartButtonEl.classList.add('colab-df-quickchart-complete');\n",
       "    }\n",
       "    (() => {\n",
       "      let quickchartButtonEl =\n",
       "        document.querySelector('#df-58061218-f35e-4c2d-9612-b1d420d3fe66 button');\n",
       "      quickchartButtonEl.style.display =\n",
       "        google.colab.kernel.accessAllowed ? 'block' : 'none';\n",
       "    })();\n",
       "  </script>\n",
       "</div>\n",
       "    </div>\n",
       "  </div>\n"
      ],
      "text/plain": [
       "    0    1    2   3    4    5   6    7   8   9\n",
       "0  15    0   98   1    0   21   0    4   0   1\n",
       "1   0  178    3   0    0    0   1    4   0   0\n",
       "2   0    0  152   0    0    2   0    0   0   0\n",
       "3   0    0   30  50    0   78   0    2   0   0\n",
       "4   0    0   29   0  112    7   0    4   0   0\n",
       "5   0    0    0   0    0  129   0    0   0   0\n",
       "6   0    0   18   0    1   75  52    0   0   0\n",
       "7   0    0    9   0    0    1   0  162   0   0\n",
       "8   0    0   20   0    0   34   0    3  73   0\n",
       "9   0    0    5   0    2   14   0   13   0  97"
      ]
     },
     "metadata": {},
     "output_type": "display_data"
    }
   ],
   "source": [
    "from sklearn.metrics import confusion_matrix\n",
    "\n",
    "# Assuming target_flatten and target_pred_flatten are your actual and predicted labels respectively\n",
    "conf_matrix = confusion_matrix(target.flatten(), predict.flatten())\n",
    "\n",
    "print(\"Confusion Matrix:\")\n",
    "printdf(conf_matrix)"
   ]
  },
  {
   "cell_type": "code",
   "execution_count": 37,
   "metadata": {
    "colab": {
     "base_uri": "https://localhost:8080/"
    },
    "executionInfo": {
     "elapsed": 271,
     "status": "ok",
     "timestamp": 1714383296226,
     "user": {
      "displayName": "Bruno Soares de Castro",
      "userId": "11507589105817192721"
     },
     "user_tz": -60
    },
    "id": "a3S91Qp4WelE",
    "outputId": "6cc5907e-9bb5-4095-ea8d-f1d17d5ed7cd"
   },
   "outputs": [
    {
     "name": "stdout",
     "output_type": "stream",
     "text": [
      "              precision    recall  f1-score   support\n",
      "\n",
      "           0       1.00      0.11      0.19       140\n",
      "           1       1.00      0.96      0.98       186\n",
      "           2       0.42      0.99      0.59       154\n",
      "           3       0.98      0.31      0.47       160\n",
      "           4       0.97      0.74      0.84       152\n",
      "           5       0.36      1.00      0.53       129\n",
      "           6       0.98      0.36      0.52       146\n",
      "           7       0.84      0.94      0.89       172\n",
      "           8       1.00      0.56      0.72       130\n",
      "           9       0.99      0.74      0.85       131\n",
      "\n",
      "    accuracy                           0.68      1500\n",
      "   macro avg       0.85      0.67      0.66      1500\n",
      "weighted avg       0.86      0.68      0.67      1500\n",
      "\n"
     ]
    }
   ],
   "source": [
    "from sklearn.metrics import classification_report\n",
    "\n",
    "target_names = ['0', '1', '2', '3', '4', '5', '6', '7', '8', '9']\n",
    "print(classification_report(target, predict, target_names=target_names))"
   ]
  },
  {
   "cell_type": "code",
   "execution_count": 38,
   "metadata": {
    "colab": {
     "base_uri": "https://localhost:8080/",
     "height": 893
    },
    "executionInfo": {
     "elapsed": 911,
     "status": "ok",
     "timestamp": 1714383306986,
     "user": {
      "displayName": "Bruno Soares de Castro",
      "userId": "11507589105817192721"
     },
     "user_tz": -60
    },
    "id": "41r3RZ9sc8m1",
    "outputId": "048936bb-d27c-4ed7-d014-c8ec074f7d90"
   },
   "outputs": [
    {
     "data": {
      "image/png": "[encoded data removed]",
      "text/plain": [
       "<Figure size 1000x1000 with 1 Axes>"
      ]
     },
     "metadata": {},
     "output_type": "display_data"
    }
   ],
   "source": [
    "from itertools import cycle\n",
    "from sklearn.metrics import auc, roc_curve\n",
    "from sklearn.metrics import RocCurveDisplay\n",
    "from sklearn.preprocessing import LabelBinarizer\n",
    "\n",
    "label_binarizer = LabelBinarizer().fit(target)\n",
    "target_onehot = label_binarizer.transform(target)\n",
    "predict_onehot = label_binarizer.transform(predict)\n",
    "\n",
    "target_names = ['0', '1', '2', '3', '4', '5', '6', '7', '8', '9']\n",
    "colors = cycle([\"aqua\", \"darkorange\", \"cornflowerblue\", \"red\", \"green\", \"blue\", \"yellow\", \"purple\", \"pink\", \"orange\"])\n",
    "\n",
    "fig, ax = plt.subplots(figsize=(10, 10))\n",
    "\n",
    "n_classes = 10\n",
    "for class_id, color in zip(range(n_classes), colors):\n",
    "  RocCurveDisplay.from_predictions(\n",
    "        target_onehot[:, class_id],\n",
    "        prob_predict[:, class_id],\n",
    "        name=f\"ROC curve for {target_names[class_id]}\",\n",
    "        color=color,\n",
    "        ax=ax\n",
    "    )\n",
    "\n",
    "_ = ax.set(\n",
    "    xlabel=\"False Positive Rate\",\n",
    "    ylabel=\"True Positive Rate\",\n",
    "    title=\"Extension of Receiver Operating Characteristic\\nto One-vs-Rest multiclass\",\n",
    ")"
   ]
  },
  {
   "cell_type": "markdown",
   "metadata": {
    "id": "Nh3hsW7B_viB"
   },
   "source": []
  }
 ],
 "metadata": {
  "accelerator": "GPU",
  "colab": {
   "authorship_tag": "ABX9TyMDuLWpTckEkKWbFpcJXKjs",
   "gpuType": "L4",
   "machine_shape": "hm",
   "provenance": []
  },
  "kernelspec": {
   "display_name": "Python 3 (ipykernel)",
   "language": "python",
   "name": "python3"
  },
  "language_info": {
   "codemirror_mode": {
    "name": "ipython",
    "version": 3
   },
   "file_extension": ".py",
   "mimetype": "text/x-python",
   "name": "python",
   "nbconvert_exporter": "python",
   "pygments_lexer": "ipython3",
   "version": "3.10.9"
  }
 },
 "nbformat": 4,
 "nbformat_minor": 1
}
